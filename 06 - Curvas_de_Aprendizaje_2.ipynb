{
  "nbformat": 4,
  "nbformat_minor": 0,
  "metadata": {
    "colab": {
      "provenance": [],
      "include_colab_link": true
    },
    "kernelspec": {
      "name": "python3",
      "display_name": "Python 3"
    },
    "language_info": {
      "name": "python"
    }
  },
  "cells": [
    {
      "cell_type": "markdown",
      "metadata": {
        "id": "view-in-github",
        "colab_type": "text"
      },
      "source": [
        "<a href=\"https://colab.research.google.com/github/zapata-git/Evaluacion-de-seguros-de-vida-para-Prudential-/blob/main/06%20-%20Curvas_de_Aprendizaje_2.ipynb\" target=\"_parent\"><img src=\"https://colab.research.google.com/assets/colab-badge.svg\" alt=\"Open In Colab\"/></a>"
      ]
    },
    {
      "cell_type": "markdown",
      "metadata": {
        "id": "ozL5OfH7B_kQ"
      },
      "source": [
        "# **ProyectoIA_Seguros_Prudential**\n",
        "*Este conjunto de datos contiene información sobre solicitantes de seguros para la compañía Prudential. Se busca crear un algoritmo que perfile solicitantes en una escala de 8 niveles.*\n",
        "\n",
        "*El conjunto de datos proporcionado contiene variables que describen los atributos de los solicitantes de seguros de vida. La tarea consiste en predecir la variable \"Response\" para cada ID en el conjunto de prueba. \"Response\" es una medida ordinal de riesgo que tiene 8 niveles...*\n",
        "\n",
        "---\n",
        "\n",
        "\n"
      ]
    },
    {
      "cell_type": "markdown",
      "metadata": {
        "id": "hK60r-eAqAzT"
      },
      "source": [
        "#Preparación de datos.\n",
        "Importamos las bibliotecas necesarias y cargamos el conjunto de datos:"
      ]
    },
    {
      "cell_type": "code",
      "execution_count": null,
      "metadata": {
        "colab": {
          "base_uri": "https://localhost:8080/"
        },
        "id": "cEOP_ZC5Be7G",
        "outputId": "f46cbd38-9cdb-40b0-be4c-a0af5577857d"
      },
      "outputs": [
        {
          "output_type": "stream",
          "name": "stdout",
          "text": [
            "Mounted at /content/drive\n"
          ]
        }
      ],
      "source": [
        "import pandas as pd\n",
        "import numpy as np\n",
        "from sklearn.preprocessing import StandardScaler\n",
        "from google.colab import files\n",
        "from google.colab import drive\n",
        "drive.mount('/content/drive')\n",
        "#Algunas advertencias que queremos evitar\n",
        "import warnings\n",
        "warnings.filterwarnings(\"ignore\")"
      ]
    },
    {
      "cell_type": "markdown",
      "metadata": {
        "id": "DIZG7JYArU9n"
      },
      "source": [
        "#Instalación de Jovian y Kaggle mediante pip\n",
        "\n",
        "* El paquete jovian se utiliza para guardar y compartir proyectos de ciencia de datos en línea.\n",
        "\n",
        "* El paquete kaggle proporciona una API de línea de comandos para interactuar con Kaggle, una plataforma en línea para competiciones de ciencia de datos y conjuntos de datos."
      ]
    },
    {
      "cell_type": "code",
      "execution_count": null,
      "metadata": {
        "id": "K3CyPMrYZ0iu",
        "colab": {
          "base_uri": "https://localhost:8080/"
        },
        "outputId": "51539a19-a475-48ff-faaa-c0461ac4dbc3"
      },
      "outputs": [
        {
          "output_type": "stream",
          "name": "stdout",
          "text": [
            "\u001b[?25l     \u001b[90m━━━━━━━━━━━━━━━━━━━━━━━━━━━━━━━━━━━━━━━━\u001b[0m \u001b[32m0.0/68.6 kB\u001b[0m \u001b[31m?\u001b[0m eta \u001b[36m-:--:--\u001b[0m\r\u001b[2K     \u001b[90m━━━━━━━━━━━━━━━━━━━━━━━━━━━━━━━━━━━━━━━━\u001b[0m \u001b[32m68.6/68.6 kB\u001b[0m \u001b[31m2.7 MB/s\u001b[0m eta \u001b[36m0:00:00\u001b[0m\n",
            "\u001b[?25h  Preparing metadata (setup.py) ... \u001b[?25l\u001b[?25hdone\n",
            "  Building wheel for uuid (setup.py) ... \u001b[?25l\u001b[?25hdone\n"
          ]
        }
      ],
      "source": [
        "!pip install jovian --upgrade --quiet\n",
        "!pip install -q kaggle"
      ]
    },
    {
      "cell_type": "code",
      "execution_count": null,
      "metadata": {
        "id": "3cbQUIIhZ3JY"
      },
      "outputs": [],
      "source": [
        "import jovian"
      ]
    },
    {
      "cell_type": "code",
      "execution_count": null,
      "metadata": {
        "colab": {
          "base_uri": "https://localhost:8080/",
          "height": 90
        },
        "id": "fikfzepNOge6",
        "outputId": "c7f7a228-474a-4e10-c672-edbb8b25d3c2"
      },
      "outputs": [
        {
          "output_type": "display_data",
          "data": {
            "text/plain": [
              "<IPython.core.display.HTML object>"
            ],
            "text/html": [
              "\n",
              "     <input type=\"file\" id=\"files-d36371b7-27fb-40a5-af12-0d62f8f81416\" name=\"files[]\" multiple disabled\n",
              "        style=\"border:none\" />\n",
              "     <output id=\"result-d36371b7-27fb-40a5-af12-0d62f8f81416\">\n",
              "      Upload widget is only available when the cell has been executed in the\n",
              "      current browser session. Please rerun this cell to enable.\n",
              "      </output>\n",
              "      <script>// Copyright 2017 Google LLC\n",
              "//\n",
              "// Licensed under the Apache License, Version 2.0 (the \"License\");\n",
              "// you may not use this file except in compliance with the License.\n",
              "// You may obtain a copy of the License at\n",
              "//\n",
              "//      http://www.apache.org/licenses/LICENSE-2.0\n",
              "//\n",
              "// Unless required by applicable law or agreed to in writing, software\n",
              "// distributed under the License is distributed on an \"AS IS\" BASIS,\n",
              "// WITHOUT WARRANTIES OR CONDITIONS OF ANY KIND, either express or implied.\n",
              "// See the License for the specific language governing permissions and\n",
              "// limitations under the License.\n",
              "\n",
              "/**\n",
              " * @fileoverview Helpers for google.colab Python module.\n",
              " */\n",
              "(function(scope) {\n",
              "function span(text, styleAttributes = {}) {\n",
              "  const element = document.createElement('span');\n",
              "  element.textContent = text;\n",
              "  for (const key of Object.keys(styleAttributes)) {\n",
              "    element.style[key] = styleAttributes[key];\n",
              "  }\n",
              "  return element;\n",
              "}\n",
              "\n",
              "// Max number of bytes which will be uploaded at a time.\n",
              "const MAX_PAYLOAD_SIZE = 100 * 1024;\n",
              "\n",
              "function _uploadFiles(inputId, outputId) {\n",
              "  const steps = uploadFilesStep(inputId, outputId);\n",
              "  const outputElement = document.getElementById(outputId);\n",
              "  // Cache steps on the outputElement to make it available for the next call\n",
              "  // to uploadFilesContinue from Python.\n",
              "  outputElement.steps = steps;\n",
              "\n",
              "  return _uploadFilesContinue(outputId);\n",
              "}\n",
              "\n",
              "// This is roughly an async generator (not supported in the browser yet),\n",
              "// where there are multiple asynchronous steps and the Python side is going\n",
              "// to poll for completion of each step.\n",
              "// This uses a Promise to block the python side on completion of each step,\n",
              "// then passes the result of the previous step as the input to the next step.\n",
              "function _uploadFilesContinue(outputId) {\n",
              "  const outputElement = document.getElementById(outputId);\n",
              "  const steps = outputElement.steps;\n",
              "\n",
              "  const next = steps.next(outputElement.lastPromiseValue);\n",
              "  return Promise.resolve(next.value.promise).then((value) => {\n",
              "    // Cache the last promise value to make it available to the next\n",
              "    // step of the generator.\n",
              "    outputElement.lastPromiseValue = value;\n",
              "    return next.value.response;\n",
              "  });\n",
              "}\n",
              "\n",
              "/**\n",
              " * Generator function which is called between each async step of the upload\n",
              " * process.\n",
              " * @param {string} inputId Element ID of the input file picker element.\n",
              " * @param {string} outputId Element ID of the output display.\n",
              " * @return {!Iterable<!Object>} Iterable of next steps.\n",
              " */\n",
              "function* uploadFilesStep(inputId, outputId) {\n",
              "  const inputElement = document.getElementById(inputId);\n",
              "  inputElement.disabled = false;\n",
              "\n",
              "  const outputElement = document.getElementById(outputId);\n",
              "  outputElement.innerHTML = '';\n",
              "\n",
              "  const pickedPromise = new Promise((resolve) => {\n",
              "    inputElement.addEventListener('change', (e) => {\n",
              "      resolve(e.target.files);\n",
              "    });\n",
              "  });\n",
              "\n",
              "  const cancel = document.createElement('button');\n",
              "  inputElement.parentElement.appendChild(cancel);\n",
              "  cancel.textContent = 'Cancel upload';\n",
              "  const cancelPromise = new Promise((resolve) => {\n",
              "    cancel.onclick = () => {\n",
              "      resolve(null);\n",
              "    };\n",
              "  });\n",
              "\n",
              "  // Wait for the user to pick the files.\n",
              "  const files = yield {\n",
              "    promise: Promise.race([pickedPromise, cancelPromise]),\n",
              "    response: {\n",
              "      action: 'starting',\n",
              "    }\n",
              "  };\n",
              "\n",
              "  cancel.remove();\n",
              "\n",
              "  // Disable the input element since further picks are not allowed.\n",
              "  inputElement.disabled = true;\n",
              "\n",
              "  if (!files) {\n",
              "    return {\n",
              "      response: {\n",
              "        action: 'complete',\n",
              "      }\n",
              "    };\n",
              "  }\n",
              "\n",
              "  for (const file of files) {\n",
              "    const li = document.createElement('li');\n",
              "    li.append(span(file.name, {fontWeight: 'bold'}));\n",
              "    li.append(span(\n",
              "        `(${file.type || 'n/a'}) - ${file.size} bytes, ` +\n",
              "        `last modified: ${\n",
              "            file.lastModifiedDate ? file.lastModifiedDate.toLocaleDateString() :\n",
              "                                    'n/a'} - `));\n",
              "    const percent = span('0% done');\n",
              "    li.appendChild(percent);\n",
              "\n",
              "    outputElement.appendChild(li);\n",
              "\n",
              "    const fileDataPromise = new Promise((resolve) => {\n",
              "      const reader = new FileReader();\n",
              "      reader.onload = (e) => {\n",
              "        resolve(e.target.result);\n",
              "      };\n",
              "      reader.readAsArrayBuffer(file);\n",
              "    });\n",
              "    // Wait for the data to be ready.\n",
              "    let fileData = yield {\n",
              "      promise: fileDataPromise,\n",
              "      response: {\n",
              "        action: 'continue',\n",
              "      }\n",
              "    };\n",
              "\n",
              "    // Use a chunked sending to avoid message size limits. See b/62115660.\n",
              "    let position = 0;\n",
              "    do {\n",
              "      const length = Math.min(fileData.byteLength - position, MAX_PAYLOAD_SIZE);\n",
              "      const chunk = new Uint8Array(fileData, position, length);\n",
              "      position += length;\n",
              "\n",
              "      const base64 = btoa(String.fromCharCode.apply(null, chunk));\n",
              "      yield {\n",
              "        response: {\n",
              "          action: 'append',\n",
              "          file: file.name,\n",
              "          data: base64,\n",
              "        },\n",
              "      };\n",
              "\n",
              "      let percentDone = fileData.byteLength === 0 ?\n",
              "          100 :\n",
              "          Math.round((position / fileData.byteLength) * 100);\n",
              "      percent.textContent = `${percentDone}% done`;\n",
              "\n",
              "    } while (position < fileData.byteLength);\n",
              "  }\n",
              "\n",
              "  // All done.\n",
              "  yield {\n",
              "    response: {\n",
              "      action: 'complete',\n",
              "    }\n",
              "  };\n",
              "}\n",
              "\n",
              "scope.google = scope.google || {};\n",
              "scope.google.colab = scope.google.colab || {};\n",
              "scope.google.colab._files = {\n",
              "  _uploadFiles,\n",
              "  _uploadFilesContinue,\n",
              "};\n",
              "})(self);\n",
              "</script> "
            ]
          },
          "metadata": {}
        },
        {
          "output_type": "stream",
          "name": "stdout",
          "text": [
            "Saving kaggle.json to kaggle.json\n"
          ]
        },
        {
          "output_type": "execute_result",
          "data": {
            "text/plain": [
              "{'kaggle.json': b'{\"username\":\"mauricioaguiargil\",\"key\":\"58352e048e427aefa1d9e1b62a5a928f\"}'}"
            ]
          },
          "metadata": {},
          "execution_count": 4
        }
      ],
      "source": [
        "#PARA EJECUTAR ESTA LÍNEA, EN EL COMPUTADOR QUE SE EJECUTE DEBE HABER UNA COPIA DEL JSON WEB TOKEN\n",
        "#DESCARGABLE DESDE LA PÁGINA DE UNA CUENTA DE KAGGLE EN https://www.kaggle.com/settings/account?...\n",
        "#ESTE JSON WEB TOKEN ES PERSONAL DE CADA CUENTA Y SIRVE COMO IDENTIFICADOR DE ACCESO.\n",
        "#CARGUE EL JSON QUE USTED DESCARGÓ DE SU CUENTA DE KAGGLE\n",
        "files.upload()"
      ]
    },
    {
      "cell_type": "markdown",
      "metadata": {
        "id": "1Qzu1NWq1UvL"
      },
      "source": [
        "#Extracción de los archivos del conjunto de datos descargados desde Kaggle\n",
        "\n",
        "* El conjunto de datos descargado ya contiene separados los datos de train y de test.\n",
        "\n",
        "* Los archivos quedan almacenados en el entorno de ejecución de Google Colab siempre y cuando se haya autorizado el acceso de la cuenta de Google a este. Esto se debió realizar en bloques de código anteriores."
      ]
    },
    {
      "cell_type": "code",
      "execution_count": null,
      "metadata": {
        "id": "2cdH7WN1OrFZ",
        "colab": {
          "base_uri": "https://localhost:8080/"
        },
        "outputId": "831811d2-9f2c-413d-f21c-ed94346803e0"
      },
      "outputs": [
        {
          "output_type": "stream",
          "name": "stdout",
          "text": [
            "rm: cannot remove '/root/.kaggle': No such file or directory\n"
          ]
        }
      ],
      "source": [
        "!rm -r ~/.kaggle\n",
        "!mkdir ~/.kaggle\n",
        "!cp kaggle.json ~/.kaggle/\n",
        "!mv ./kaggle.json ~/.kaggle/\n",
        "!chmod 600 ~/.kaggle/kaggle.json\n",
        "#!kaggle datasets list"
      ]
    },
    {
      "cell_type": "code",
      "execution_count": null,
      "metadata": {
        "colab": {
          "base_uri": "https://localhost:8080/"
        },
        "id": "yfNtIlJSnbn6",
        "outputId": "dbfbd9fc-1f07-49cf-c2f2-9679cb20e17e"
      },
      "outputs": [
        {
          "output_type": "stream",
          "name": "stdout",
          "text": [
            "Downloading prudential-life-insurance-assessment.zip to /content\n",
            "\r  0% 0.00/3.24M [00:00<?, ?B/s]\n",
            "\r100% 3.24M/3.24M [00:00<00:00, 209MB/s]\n"
          ]
        }
      ],
      "source": [
        "#Para descargar el conjunto de datos desde Kaggle al drive local de Google\n",
        "!kaggle competitions download 'prudential-life-insurance-assessment'"
      ]
    },
    {
      "cell_type": "code",
      "execution_count": null,
      "metadata": {
        "colab": {
          "base_uri": "https://localhost:8080/"
        },
        "id": "s2v4QzbEpWo_",
        "outputId": "4ca2aa8b-27b2-4598-b805-a7ca30e166ee"
      },
      "outputs": [
        {
          "output_type": "stream",
          "name": "stdout",
          "text": [
            "Extracción de archivos en proceso...\n",
            "Extracción terminada\n",
            "/content\n"
          ]
        }
      ],
      "source": [
        "#Para descomprimir los archivos .zip que haya y guardarlos en el entorno de ejecución\n",
        "import os\n",
        "from zipfile import ZipFile \n",
        "  \n",
        "#Se indica el nombre del archivo  traído desde Kaggle\n",
        "file = \"prudential-life-insurance-assessment.zip\"\n",
        "  \n",
        "#Se abre el archivo en modo lectura\n",
        "with ZipFile(file, 'r') as zip:\n",
        "  \n",
        "    #Se extraen todos los archivos\n",
        "    print('Extracción de archivos en proceso...') \n",
        "    zip.extractall() \n",
        "    print('Extracción terminada')\n",
        "\n",
        "%cd \"/content/\"\n",
        "\n",
        "for archivo in os.listdir():\n",
        "  if archivo.endswith(\".zip\"):\n",
        "    with ZipFile(archivo, 'r') as zip_ref:\n",
        "      zip_ref.extractall(\"/content/\")\n",
        "\n"
      ]
    },
    {
      "cell_type": "code",
      "execution_count": null,
      "metadata": {
        "id": "peuSiVHSCdPN"
      },
      "outputs": [],
      "source": [
        "#Se declara el conjunto de datos\n",
        "datos = pd.read_csv(\"/content/train.csv\")"
      ]
    },
    {
      "cell_type": "markdown",
      "metadata": {
        "id": "LXPJ_hSEJR7_"
      },
      "source": [
        "#Preprocesado.\n",
        "\n",
        "Se llenan los valores faltantes con la moda si se trata de variables categóricas y la mediana si se trata de variables numéricas."
      ]
    },
    {
      "cell_type": "code",
      "execution_count": null,
      "metadata": {
        "id": "f0ZPEUjbJDWm"
      },
      "outputs": [],
      "source": [
        "from sklearn.impute import SimpleImputer\n",
        "from sklearn.preprocessing import OneHotEncoder\n",
        "\n",
        "# Realizar el preprocesamiento de los datos\n",
        "# Eliminar la columna \"Response\" del conjunto de entrenamiento y las columnas \"Id\" de ambos conjuntos entrenamiento y prueba\n",
        "#Definir la columna \"Response\" como el y de entrenamiento y restarle 1 a todos los valores en ella para que la red neuronal pueda indexar\n",
        "X_train = datos.drop(columns = ['Id', 'Response'])\n",
        "y_train = datos['Response']\n",
        "y_train = y_train.subtract(1)\n",
        "\n",
        "# Imputar los valores faltantes en los datos numéricos con la mediana\n",
        "num_cols = X_train.select_dtypes(include='number').columns\n",
        "num_imputer = SimpleImputer(strategy='median')\n",
        "X_train[num_cols] = num_imputer.fit_transform(X_train[num_cols])\n",
        "\n",
        "# Imputar los valores faltantes en los datos categóricos con la moda\n",
        "cat_cols = X_train.select_dtypes(include='object').columns\n",
        "cat_imputer = SimpleImputer(strategy='most_frequent')\n",
        "X_train[cat_cols] = cat_imputer.fit_transform(X_train[cat_cols])\n",
        "\n",
        "#Se aplica one-hot-encoding a los datos de entrenamiento (X_train)\n",
        "ohe = OneHotEncoder()\n",
        "array_categorias = ohe.fit_transform(X_train[['Product_Info_2']]).toarray()\n",
        "etiqu_categorias = ohe.categories_\n",
        "categorias_en_columnas_ohe = pd.DataFrame(array_categorias, columns = etiqu_categorias)\n",
        "X_train = pd.concat([X_train, categorias_en_columnas_ohe], axis =1)\n",
        "X_train = X_train.drop(columns = ['Product_Info_2'])\n",
        "X_train.rename(columns=''.join, inplace=True)"
      ]
    },
    {
      "cell_type": "markdown",
      "source": [
        "#Modelos No Supervisados\n",
        "Acá escribimos qué modelos no supervisados vamos a implementar y por qué."
      ],
      "metadata": {
        "id": "yi1anFUBO9vZ"
      }
    },
    {
      "cell_type": "code",
      "execution_count": null,
      "metadata": {
        "id": "RQWORiOzTnNo"
      },
      "outputs": [],
      "source": [
        "#Proceso de normalización de los datos. Util para algunos métodos de predicción, excepto random forest, en el cuál no redunda en mucha utilidad\n",
        "from sklearn.preprocessing import StandardScaler\n",
        "scaler = StandardScaler()\n",
        "X_train_columnas = X_train.columns.tolist()\n",
        "X_train_escalado = scaler.fit_transform(X_train)\n",
        "X_train_scaled = pd.DataFrame(X_train_escalado, columns = X_train_columnas)"
      ]
    },
    {
      "cell_type": "code",
      "source": [
        "#Se crean instancias de los clasificadores con Regresión Logística y Máquinas de Vectore de Soporte\n",
        "from sklearn import svm\n",
        "from sklearn.linear_model import LogisticRegression\n",
        "clasificador_rl = LogisticRegression(solver='lbfgs', multi_class='multinomial')\n",
        "clasificador_svm = svm.LinearSVC(max_iter = 2000)"
      ],
      "metadata": {
        "id": "X2T2oNVISseU"
      },
      "execution_count": null,
      "outputs": []
    },
    {
      "cell_type": "code",
      "source": [
        "#Se grafican las curvas de aprendizaje\n",
        "import matplotlib.pyplot as plt\n",
        "from sklearn.model_selection import LearningCurveDisplay, ShuffleSplit\n",
        "\n",
        "fig, ax = plt.subplots(nrows=1, ncols=2, figsize=(10, 6), sharey=True)\n",
        "\n",
        "common_params = {\n",
        "    \"X\": X_train_scaled,\n",
        "    \"y\": y_train,\n",
        "    \"train_sizes\": np.linspace(0.1, 1.0, 5),\n",
        "    \"cv\": ShuffleSplit(n_splits=2, test_size=0.2, random_state=0),\n",
        "    \"score_type\": \"both\",\n",
        "    \"n_jobs\": 4,\n",
        "    \"line_kw\": {\"marker\": \"o\"},\n",
        "    \"std_display_style\": \"fill_between\",\n",
        "    \"score_name\": \"Accuracy\",\n",
        "}\n",
        "\n",
        "for ax_idx, estimator in enumerate([clasificador_rl, clasificador_svm]):\n",
        "    LearningCurveDisplay.from_estimator(estimator, **common_params, ax=ax[ax_idx])\n",
        "    handles, label = ax[ax_idx].get_legend_handles_labels()\n",
        "    ax[ax_idx].legend(handles[:2], [\"Accuracy en Training\", \"Accuracy en Test\"])\n",
        "    ax[ax_idx].set_title(f\"Curva de Aprendizaje Para {estimator.__class__.__name__}\")"
      ],
      "metadata": {
        "colab": {
          "base_uri": "https://localhost:8080/",
          "height": 564
        },
        "id": "GrjQMcKNSdjS",
        "outputId": "4946ba0d-2974-4b6d-b0b5-2d97dc3cacd8"
      },
      "execution_count": null,
      "outputs": [
        {
          "output_type": "display_data",
          "data": {
            "text/plain": [
              "<Figure size 1000x600 with 2 Axes>"
            ],
            "image/png": "[encoded data removed]"
          },
          "metadata": {}
        }
      ]
    }
  ]
}