{
  "cells": [
    {
      "cell_type": "markdown",
      "metadata": {
        "id": "view-in-github",
        "colab_type": "text"
      },
      "source": [
        "<a href=\"https://colab.research.google.com/github/zapata-git/Evaluacion-de-seguros-de-vida-para-Prudential-/blob/main/04%20-%20Modelos_No_Supervisados.ipynb\" target=\"_parent\"><img src=\"https://colab.research.google.com/assets/colab-badge.svg\" alt=\"Open In Colab\"/></a>"
      ]
    },
    {
      "cell_type": "markdown",
      "metadata": {
        "id": "ozL5OfH7B_kQ"
      },
      "source": [
        "# **ProyectoIA_Seguros_Prudential**\n",
        "*Este conjunto de datos contiene información sobre solicitantes de seguros para la compañía Prudential. Se busca crear un algoritmo que perfile solicitantes en una escala de 8 niveles.*\n",
        "\n",
        "*El conjunto de datos proporcionado contiene variables que describen los atributos de los solicitantes de seguros de vida. La tarea consiste en predecir la variable \"Response\" para cada ID en el conjunto de prueba. \"Response\" es una medida ordinal de riesgo que tiene 8 niveles.*\n",
        "\n",
        "---\n",
        "\n",
        "\n"
      ]
    },
    {
      "cell_type": "markdown",
      "metadata": {
        "id": "hK60r-eAqAzT"
      },
      "source": [
        "#Preparación de datos.\n",
        "Importamos las bibliotecas necesarias y cargamos el conjunto de datos:"
      ]
    },
    {
      "cell_type": "code",
      "execution_count": null,
      "metadata": {
        "colab": {
          "base_uri": "https://localhost:8080/"
        },
        "id": "cEOP_ZC5Be7G",
        "outputId": "4f7794a4-ed85-4eed-da4a-d1a0e66968a3"
      },
      "outputs": [
        {
          "output_type": "stream",
          "name": "stdout",
          "text": [
            "Mounted at /content/drive\n"
          ]
        }
      ],
      "source": [
        "import pandas as pd\n",
        "import numpy as np\n",
        "from sklearn.preprocessing import StandardScaler\n",
        "from google.colab import files\n",
        "from google.colab import drive\n",
        "drive.mount('/content/drive')\n",
        "#Algunas advertencias que queremos evitar\n",
        "import warnings\n",
        "warnings.filterwarnings(\"ignore\")"
      ]
    },
    {
      "cell_type": "markdown",
      "metadata": {
        "id": "DIZG7JYArU9n"
      },
      "source": [
        "#Instalación de Jovian y Kaggle mediante pip\n",
        "\n",
        "* El paquete jovian se utiliza para guardar y compartir proyectos de ciencia de datos en línea.\n",
        "\n",
        "* El paquete kaggle proporciona una API de línea de comandos para interactuar con Kaggle, una plataforma en línea para competiciones de ciencia de datos y conjuntos de datos."
      ]
    },
    {
      "cell_type": "code",
      "execution_count": null,
      "metadata": {
        "id": "K3CyPMrYZ0iu",
        "colab": {
          "base_uri": "https://localhost:8080/"
        },
        "outputId": "86793d60-78f3-4603-e6c2-72c9d1d1c840"
      },
      "outputs": [
        {
          "output_type": "stream",
          "name": "stdout",
          "text": [
            "\u001b[?25l     \u001b[90m━━━━━━━━━━━━━━━━━━━━━━━━━━━━━━━━━━━━━━━━\u001b[0m \u001b[32m0.0/68.6 kB\u001b[0m \u001b[31m?\u001b[0m eta \u001b[36m-:--:--\u001b[0m\r\u001b[2K     \u001b[90m━━━━━━━━━━━━━━━━━━━━━━━━━━━━━━━━━━━━━━━━\u001b[0m \u001b[32m68.6/68.6 kB\u001b[0m \u001b[31m2.7 MB/s\u001b[0m eta \u001b[36m0:00:00\u001b[0m\n",
            "\u001b[?25h  Preparing metadata (setup.py) ... \u001b[?25l\u001b[?25hdone\n",
            "  Building wheel for uuid (setup.py) ... \u001b[?25l\u001b[?25hdone\n"
          ]
        }
      ],
      "source": [
        "!pip install jovian --upgrade --quiet\n",
        "!pip install -q kaggle"
      ]
    },
    {
      "cell_type": "code",
      "execution_count": null,
      "metadata": {
        "id": "3cbQUIIhZ3JY"
      },
      "outputs": [],
      "source": [
        "import jovian"
      ]
    },
    {
      "cell_type": "code",
      "execution_count": null,
      "metadata": {
        "colab": {
          "base_uri": "https://localhost:8080/",
          "height": 91
        },
        "id": "fikfzepNOge6",
        "outputId": "b9473e20-0e7b-4d75-cb9f-4cae6d8fed93"
      },
      "outputs": [
        {
          "output_type": "display_data",
          "data": {
            "text/plain": [
              "<IPython.core.display.HTML object>"
            ],
            "text/html": [
              "\n",
              "     <input type=\"file\" id=\"files-488470ad-147c-47f1-9acf-99ba6578d1c4\" name=\"files[]\" multiple disabled\n",
              "        style=\"border:none\" />\n",
              "     <output id=\"result-488470ad-147c-47f1-9acf-99ba6578d1c4\">\n",
              "      Upload widget is only available when the cell has been executed in the\n",
              "      current browser session. Please rerun this cell to enable.\n",
              "      </output>\n",
              "      <script>// Copyright 2017 Google LLC\n",
              "//\n",
              "// Licensed under the Apache License, Version 2.0 (the \"License\");\n",
              "// you may not use this file except in compliance with the License.\n",
              "// You may obtain a copy of the License at\n",
              "//\n",
              "//      http://www.apache.org/licenses/LICENSE-2.0\n",
              "//\n",
              "// Unless required by applicable law or agreed to in writing, software\n",
              "// distributed under the License is distributed on an \"AS IS\" BASIS,\n",
              "// WITHOUT WARRANTIES OR CONDITIONS OF ANY KIND, either express or implied.\n",
              "// See the License for the specific language governing permissions and\n",
              "// limitations under the License.\n",
              "\n",
              "/**\n",
              " * @fileoverview Helpers for google.colab Python module.\n",
              " */\n",
              "(function(scope) {\n",
              "function span(text, styleAttributes = {}) {\n",
              "  const element = document.createElement('span');\n",
              "  element.textContent = text;\n",
              "  for (const key of Object.keys(styleAttributes)) {\n",
              "    element.style[key] = styleAttributes[key];\n",
              "  }\n",
              "  return element;\n",
              "}\n",
              "\n",
              "// Max number of bytes which will be uploaded at a time.\n",
              "const MAX_PAYLOAD_SIZE = 100 * 1024;\n",
              "\n",
              "function _uploadFiles(inputId, outputId) {\n",
              "  const steps = uploadFilesStep(inputId, outputId);\n",
              "  const outputElement = document.getElementById(outputId);\n",
              "  // Cache steps on the outputElement to make it available for the next call\n",
              "  // to uploadFilesContinue from Python.\n",
              "  outputElement.steps = steps;\n",
              "\n",
              "  return _uploadFilesContinue(outputId);\n",
              "}\n",
              "\n",
              "// This is roughly an async generator (not supported in the browser yet),\n",
              "// where there are multiple asynchronous steps and the Python side is going\n",
              "// to poll for completion of each step.\n",
              "// This uses a Promise to block the python side on completion of each step,\n",
              "// then passes the result of the previous step as the input to the next step.\n",
              "function _uploadFilesContinue(outputId) {\n",
              "  const outputElement = document.getElementById(outputId);\n",
              "  const steps = outputElement.steps;\n",
              "\n",
              "  const next = steps.next(outputElement.lastPromiseValue);\n",
              "  return Promise.resolve(next.value.promise).then((value) => {\n",
              "    // Cache the last promise value to make it available to the next\n",
              "    // step of the generator.\n",
              "    outputElement.lastPromiseValue = value;\n",
              "    return next.value.response;\n",
              "  });\n",
              "}\n",
              "\n",
              "/**\n",
              " * Generator function which is called between each async step of the upload\n",
              " * process.\n",
              " * @param {string} inputId Element ID of the input file picker element.\n",
              " * @param {string} outputId Element ID of the output display.\n",
              " * @return {!Iterable<!Object>} Iterable of next steps.\n",
              " */\n",
              "function* uploadFilesStep(inputId, outputId) {\n",
              "  const inputElement = document.getElementById(inputId);\n",
              "  inputElement.disabled = false;\n",
              "\n",
              "  const outputElement = document.getElementById(outputId);\n",
              "  outputElement.innerHTML = '';\n",
              "\n",
              "  const pickedPromise = new Promise((resolve) => {\n",
              "    inputElement.addEventListener('change', (e) => {\n",
              "      resolve(e.target.files);\n",
              "    });\n",
              "  });\n",
              "\n",
              "  const cancel = document.createElement('button');\n",
              "  inputElement.parentElement.appendChild(cancel);\n",
              "  cancel.textContent = 'Cancel upload';\n",
              "  const cancelPromise = new Promise((resolve) => {\n",
              "    cancel.onclick = () => {\n",
              "      resolve(null);\n",
              "    };\n",
              "  });\n",
              "\n",
              "  // Wait for the user to pick the files.\n",
              "  const files = yield {\n",
              "    promise: Promise.race([pickedPromise, cancelPromise]),\n",
              "    response: {\n",
              "      action: 'starting',\n",
              "    }\n",
              "  };\n",
              "\n",
              "  cancel.remove();\n",
              "\n",
              "  // Disable the input element since further picks are not allowed.\n",
              "  inputElement.disabled = true;\n",
              "\n",
              "  if (!files) {\n",
              "    return {\n",
              "      response: {\n",
              "        action: 'complete',\n",
              "      }\n",
              "    };\n",
              "  }\n",
              "\n",
              "  for (const file of files) {\n",
              "    const li = document.createElement('li');\n",
              "    li.append(span(file.name, {fontWeight: 'bold'}));\n",
              "    li.append(span(\n",
              "        `(${file.type || 'n/a'}) - ${file.size} bytes, ` +\n",
              "        `last modified: ${\n",
              "            file.lastModifiedDate ? file.lastModifiedDate.toLocaleDateString() :\n",
              "                                    'n/a'} - `));\n",
              "    const percent = span('0% done');\n",
              "    li.appendChild(percent);\n",
              "\n",
              "    outputElement.appendChild(li);\n",
              "\n",
              "    const fileDataPromise = new Promise((resolve) => {\n",
              "      const reader = new FileReader();\n",
              "      reader.onload = (e) => {\n",
              "        resolve(e.target.result);\n",
              "      };\n",
              "      reader.readAsArrayBuffer(file);\n",
              "    });\n",
              "    // Wait for the data to be ready.\n",
              "    let fileData = yield {\n",
              "      promise: fileDataPromise,\n",
              "      response: {\n",
              "        action: 'continue',\n",
              "      }\n",
              "    };\n",
              "\n",
              "    // Use a chunked sending to avoid message size limits. See b/62115660.\n",
              "    let position = 0;\n",
              "    do {\n",
              "      const length = Math.min(fileData.byteLength - position, MAX_PAYLOAD_SIZE);\n",
              "      const chunk = new Uint8Array(fileData, position, length);\n",
              "      position += length;\n",
              "\n",
              "      const base64 = btoa(String.fromCharCode.apply(null, chunk));\n",
              "      yield {\n",
              "        response: {\n",
              "          action: 'append',\n",
              "          file: file.name,\n",
              "          data: base64,\n",
              "        },\n",
              "      };\n",
              "\n",
              "      let percentDone = fileData.byteLength === 0 ?\n",
              "          100 :\n",
              "          Math.round((position / fileData.byteLength) * 100);\n",
              "      percent.textContent = `${percentDone}% done`;\n",
              "\n",
              "    } while (position < fileData.byteLength);\n",
              "  }\n",
              "\n",
              "  // All done.\n",
              "  yield {\n",
              "    response: {\n",
              "      action: 'complete',\n",
              "    }\n",
              "  };\n",
              "}\n",
              "\n",
              "scope.google = scope.google || {};\n",
              "scope.google.colab = scope.google.colab || {};\n",
              "scope.google.colab._files = {\n",
              "  _uploadFiles,\n",
              "  _uploadFilesContinue,\n",
              "};\n",
              "})(self);\n",
              "</script> "
            ]
          },
          "metadata": {}
        },
        {
          "output_type": "stream",
          "name": "stdout",
          "text": [
            "Saving kaggle.json to kaggle.json\n"
          ]
        },
        {
          "output_type": "execute_result",
          "data": {
            "text/plain": [
              "{'kaggle.json': b'{\"username\":\"carlosozapata\",\"key\":\"1ea90523afd866a234b17caeb4677869\"}'}"
            ]
          },
          "metadata": {},
          "execution_count": 4
        }
      ],
      "source": [
        "#PARA EJECUTAR ESTA LÍNEA, EN EL COMPUTADOR QUE SE EJECUTE DEBE HABER UNA COPIA DEL JSON WEB TOKEN\n",
        "#DESCARGABLE DESDE LA PÁGINA DE UNA CUENTA DE KAGGLE EN https://www.kaggle.com/settings/account?...\n",
        "#ESTE JSON WEB TOKEN ES PERSONAL DE CADA CUENTA Y SIRVE COMO IDENTIFICADOR DE ACCESO.\n",
        "#CARGUE EL JSON QUE USTED DESCARGÓ DE SU CUENTA DE KAGGLE\n",
        "files.upload()"
      ]
    },
    {
      "cell_type": "markdown",
      "metadata": {
        "id": "1Qzu1NWq1UvL"
      },
      "source": [
        "#Extracción de los archivos del conjunto de datos descargados desde Kaggle\n",
        "\n",
        "* El conjunto de datos descargado ya contiene separados los datos de train y de test.\n",
        "\n",
        "* Los archivos quedan almacenados en el entorno de ejecución de Google Colab siempre y cuando se haya autorizado el acceso de la cuenta de Google a este. Esto se debió realizar en bloques de código anteriores."
      ]
    },
    {
      "cell_type": "code",
      "execution_count": null,
      "metadata": {
        "id": "2cdH7WN1OrFZ",
        "colab": {
          "base_uri": "https://localhost:8080/"
        },
        "outputId": "7f4cbdb4-adb6-429b-9ac8-5600b31a467f"
      },
      "outputs": [
        {
          "output_type": "stream",
          "name": "stdout",
          "text": [
            "rm: cannot remove '/root/.kaggle': No such file or directory\n"
          ]
        }
      ],
      "source": [
        "!rm -r ~/.kaggle\n",
        "!mkdir ~/.kaggle\n",
        "!cp kaggle.json ~/.kaggle/\n",
        "!mv ./kaggle.json ~/.kaggle/\n",
        "!chmod 600 ~/.kaggle/kaggle.json\n",
        "#!kaggle datasets list"
      ]
    },
    {
      "cell_type": "code",
      "execution_count": null,
      "metadata": {
        "colab": {
          "base_uri": "https://localhost:8080/"
        },
        "id": "yfNtIlJSnbn6",
        "outputId": "5eba17b4-4ff7-43bf-dadd-f947661a9dc1"
      },
      "outputs": [
        {
          "output_type": "stream",
          "name": "stdout",
          "text": [
            "Downloading prudential-life-insurance-assessment.zip to /content\n",
            "\r  0% 0.00/3.24M [00:00<?, ?B/s]\n",
            "\r100% 3.24M/3.24M [00:00<00:00, 171MB/s]\n"
          ]
        }
      ],
      "source": [
        "#Para descargar el conjunto de datos desde Kaggle al drive local de Google\n",
        "!kaggle competitions download 'prudential-life-insurance-assessment'"
      ]
    },
    {
      "cell_type": "code",
      "execution_count": null,
      "metadata": {
        "colab": {
          "base_uri": "https://localhost:8080/"
        },
        "id": "s2v4QzbEpWo_",
        "outputId": "bf21e5e3-f31d-4afc-a038-dec8323433cd"
      },
      "outputs": [
        {
          "output_type": "stream",
          "name": "stdout",
          "text": [
            "Extracción de archivos en proceso...\n",
            "Extracción terminada\n",
            "/content\n"
          ]
        }
      ],
      "source": [
        "#Para descomprimir los archivos .zip que haya y guardarlos en el entorno de ejecución\n",
        "import os\n",
        "from zipfile import ZipFile \n",
        "  \n",
        "#Se indica el nombre del archivo  traído desde Kaggle\n",
        "file = \"prudential-life-insurance-assessment.zip\"\n",
        "  \n",
        "#Se abre el archivo en modo lectura\n",
        "with ZipFile(file, 'r') as zip:\n",
        "  \n",
        "    #Se extraen todos los archivos\n",
        "    print('Extracción de archivos en proceso...') \n",
        "    zip.extractall() \n",
        "    print('Extracción terminada')\n",
        "\n",
        "%cd \"/content/\"\n",
        "\n",
        "for archivo in os.listdir():\n",
        "  if archivo.endswith(\".zip\"):\n",
        "    with ZipFile(archivo, 'r') as zip_ref:\n",
        "      zip_ref.extractall(\"/content/\")\n",
        "\n"
      ]
    },
    {
      "cell_type": "code",
      "execution_count": null,
      "metadata": {
        "id": "peuSiVHSCdPN"
      },
      "outputs": [],
      "source": [
        "#Se declara el conjunto de datos\n",
        "datos = pd.read_csv(\"/content/train.csv\")"
      ]
    },
    {
      "cell_type": "markdown",
      "metadata": {
        "id": "LXPJ_hSEJR7_"
      },
      "source": [
        "#Preprocesado.\n",
        "\n",
        "Se llenan los valores faltantes con la moda si se trata de variables categóricas y la mediana si se trata de variables numéricas."
      ]
    },
    {
      "cell_type": "code",
      "execution_count": null,
      "metadata": {
        "id": "f0ZPEUjbJDWm"
      },
      "outputs": [],
      "source": [
        "from sklearn.impute import SimpleImputer\n",
        "from sklearn.preprocessing import OneHotEncoder\n",
        "\n",
        "#Cargar los archivos de datos\n",
        "#train_data = pd.read_csv('train.csv')\n",
        "test_data = pd.read_csv('test.csv')\n",
        "\n",
        "# Realizar el preprocesamiento de los datos\n",
        "# Eliminar la columna \"Response\" del conjunto de entrenamiento y las columnas \"Id\" de ambos conjuntos entrenamiento y prueba\n",
        "#Definir la columna \"Response\" como el y de entrenamiento y restarle 1 a todos los valores en ella para que la red neuronal pueda indexar\n",
        "X_train = datos.drop(columns = ['Id', 'Response'])\n",
        "y_train = datos['Response']\n",
        "y_train = y_train.subtract(1)\n",
        "X_test = test_data.drop(columns = ['Id'])\n",
        "\n",
        "# Imputar los valores faltantes en los datos numéricos con la mediana\n",
        "num_cols = X_train.select_dtypes(include='number').columns\n",
        "num_imputer = SimpleImputer(strategy='median')\n",
        "X_train[num_cols] = num_imputer.fit_transform(X_train[num_cols])\n",
        "X_test[num_cols] = num_imputer.transform(X_test[num_cols])\n",
        "\n",
        "# Imputar los valores faltantes en los datos categóricos con la moda\n",
        "cat_cols = X_train.select_dtypes(include='object').columns\n",
        "cat_imputer = SimpleImputer(strategy='most_frequent')\n",
        "X_train[cat_cols] = cat_imputer.fit_transform(X_train[cat_cols])\n",
        "X_test[cat_cols] = cat_imputer.transform(X_test[cat_cols])\n",
        "\n",
        "#Se aplica one-hot-encoding a los datos de entrenamiento (X_train) y a los datos de prueba (X_test)\n",
        "ohe = OneHotEncoder()\n",
        "array_categorias = ohe.fit_transform(X_train[['Product_Info_2']]).toarray()\n",
        "etiqu_categorias = ohe.categories_\n",
        "array_categorias_test = ohe.transform(X_test[['Product_Info_2']]).toarray()\n",
        "categorias_en_columnas_ohe = pd.DataFrame(array_categorias, columns = etiqu_categorias)\n",
        "categorias_en_columnas_ohe_test = pd.DataFrame(array_categorias_test, columns = etiqu_categorias)\n",
        "X_train = pd.concat([X_train, categorias_en_columnas_ohe], axis =1)\n",
        "X_train = X_train.drop(columns = ['Product_Info_2'])\n",
        "X_test = pd.concat([X_test, categorias_en_columnas_ohe_test], axis =1)\n",
        "X_test = X_test.drop(columns = ['Product_Info_2'])\n",
        "X_train.rename(columns=''.join, inplace=True)\n",
        "X_test.rename(columns=''.join, inplace=True)"
      ]
    },
    {
      "cell_type": "markdown",
      "source": [
        "#Modelos No Supervisados\n",
        "Acá escribimos qué modelos no supervisados vamos a implementar y por qué."
      ],
      "metadata": {
        "id": "yi1anFUBO9vZ"
      }
    },
    {
      "cell_type": "code",
      "execution_count": null,
      "metadata": {
        "id": "RQWORiOzTnNo"
      },
      "outputs": [],
      "source": [
        "#Proceso de normalización de los datos. Util para algunos métodos de predicción, excepto random forest, en el cuál no redunda en mucha utilidad\n",
        "from sklearn.preprocessing import StandardScaler\n",
        "scaler = StandardScaler()\n",
        "X_train_columnas = X_train.columns.tolist()\n",
        "X_train_escalado = scaler.fit_transform(X_train)\n",
        "X_train_scaled = pd.DataFrame(X_train_escalado, columns = X_train_columnas)"
      ]
    },
    {
      "cell_type": "code",
      "execution_count": null,
      "metadata": {
        "colab": {
          "base_uri": "https://localhost:8080/"
        },
        "id": "mIz8A6_mKfOd",
        "outputId": "9216a211-afe0-46c3-a525-3a24dd6fcce5"
      },
      "outputs": [
        {
          "output_type": "stream",
          "name": "stdout",
          "text": [
            "              precision    recall  f1-score   support\n",
            "\n",
            "           1       0.20      0.10      0.14      1211\n",
            "           2       0.21      0.05      0.08      1322\n",
            "           3       0.02      0.01      0.01       182\n",
            "           4       0.02      0.08      0.03       279\n",
            "           5       0.08      0.24      0.12      1113\n",
            "           6       0.16      0.13      0.14      2196\n",
            "           7       0.12      0.23      0.16      1644\n",
            "           8       0.12      0.05      0.07      3930\n",
            "\n",
            "    accuracy                           0.11     11877\n",
            "   macro avg       0.12      0.11      0.09     11877\n",
            "weighted avg       0.14      0.11      0.11     11877\n",
            "\n",
            "              precision    recall  f1-score   support\n",
            "\n",
            "           1       0.13      0.01      0.02      1256\n",
            "           2       0.07      0.22      0.11      1314\n",
            "           3       0.02      0.03      0.03       203\n",
            "           4       0.03      0.04      0.03       295\n",
            "           5       0.09      0.28      0.14      1102\n",
            "           6       0.17      0.15      0.16      2284\n",
            "           7       0.19      0.01      0.02      1571\n",
            "           8       0.09      0.04      0.06      3851\n",
            "\n",
            "    accuracy                           0.10     11876\n",
            "   macro avg       0.10      0.10      0.07     11876\n",
            "weighted avg       0.12      0.10      0.08     11876\n",
            "\n",
            "              precision    recall  f1-score   support\n",
            "\n",
            "           1       0.18      0.04      0.07      1312\n",
            "           2       0.09      0.23      0.13      1303\n",
            "           3       0.02      0.17      0.03       209\n",
            "           4       0.02      0.17      0.04       275\n",
            "           5       0.12      0.17      0.14      1083\n",
            "           6       0.21      0.21      0.21      2273\n",
            "           7       0.00      0.00      0.00      1577\n",
            "           8       0.00      0.00      0.00      3844\n",
            "\n",
            "    accuracy                           0.09     11876\n",
            "   macro avg       0.08      0.12      0.08     11876\n",
            "weighted avg       0.08      0.09      0.08     11876\n",
            "\n",
            "              precision    recall  f1-score   support\n",
            "\n",
            "           1       0.05      0.01      0.01      1267\n",
            "           2       0.19      0.20      0.20      1325\n",
            "           3       0.01      0.08      0.02       203\n",
            "           4       0.00      0.01      0.00       280\n",
            "           5       0.06      0.02      0.03      1051\n",
            "           6       0.25      0.29      0.27      2202\n",
            "           7       0.14      0.16      0.15      1615\n",
            "           8       0.37      0.31      0.34      3933\n",
            "\n",
            "    accuracy                           0.20     11876\n",
            "   macro avg       0.13      0.13      0.13     11876\n",
            "weighted avg       0.22      0.20      0.21     11876\n",
            "\n",
            "              precision    recall  f1-score   support\n",
            "\n",
            "           1       0.44      0.03      0.05      1161\n",
            "           2       0.09      0.20      0.12      1288\n",
            "           3       0.02      0.06      0.03       216\n",
            "           4       0.02      0.08      0.03       299\n",
            "           5       0.09      0.15      0.11      1083\n",
            "           6       0.22      0.32      0.26      2278\n",
            "           7       0.00      0.00      0.00      1620\n",
            "           8       0.15      0.06      0.08      3931\n",
            "\n",
            "    accuracy                           0.12     11876\n",
            "   macro avg       0.13      0.11      0.09     11876\n",
            "weighted avg       0.15      0.12      0.11     11876\n",
            "\n"
          ]
        }
      ],
      "source": [
        "#Se importa el módulo para generar modelos predictores con K-Means\n",
        "from sklearn.cluster import KMeans\n",
        "#Se somete a análisis el modelo bajo un enfoque de k-fold cross-validation (validación cruzada de k iteraciones)\n",
        "from sklearn.model_selection import KFold\n",
        "#Para determinar métricas de clasificación\n",
        "from sklearn.metrics import classification_report\n",
        "from sklearn import metrics\n",
        "\n",
        "\n",
        "#Se definen los nombres de las clases, que son los niveles en los que se clasificarán los tomadores de seguros\n",
        "target_names = ['1', '2', '3', '4', '5', '6', '7', '8']\n",
        "\n",
        "\n",
        "#Se define un número de particiones para realizar cross-validation esa misma cantidad de veces\n",
        "k = 5\n",
        "\n",
        "#Se instancia KFold para contar con 5 iteraciones de la partición del conjunto de datos\n",
        "kf = KFold(n_splits=k, shuffle=True)\n",
        "\n",
        "\n",
        "for train_index, test_index in kf.split(datos):\n",
        "  X_tr, X_ts = X_train_scaled.iloc[train_index], X_train_scaled.iloc[test_index]\n",
        "  y_tr, y_ts = y_train.iloc[train_index], y_train.iloc[test_index]\n",
        "  \n",
        "  #Se inicializa y se ajusta el algoritmo de k-means\n",
        "  kmeans = KMeans(n_clusters=8, max_iter = 400, random_state = 42)\n",
        "  kmeans.fit(X_tr)\n",
        "  \n",
        "  #Se asignan clusters a cada uno de los datos\n",
        "  clusters = kmeans.predict(X_ts)\n",
        "  \n",
        "  # add cluster assignments to dataframe\n",
        "  X_ts_print = X_ts.copy()\n",
        "  X_ts_print['cluster'] = clusters\n",
        "\n",
        "  print(classification_report(y_ts, clusters, target_names=target_names))\n"
      ]
    },
    {
      "cell_type": "code",
      "source": [
        "#Se crea una matriz  de confusión para contrastar las predicciones que sabe hacer el modelo\n",
        "#sobre los datos de train (X_train_scaled) contra los valores verdaderos asociados a los datos\n",
        "#de train (y_train)\n",
        "from sklearn.metrics import confusion_matrix, ConfusionMatrixDisplay\n",
        "import matplotlib.pyplot as plt\n",
        "\n",
        "predicciones = kmeans.predict(X_train_scaled)\n",
        "#y_train = y_train.subtract(1)\n",
        "\n",
        "#Se estima la matriz de confusión\n",
        "matriz_confusion = confusion_matrix(y_train, predicciones, normalize='true')\n",
        "\n",
        "#Se grafica la matriz de confusión\n",
        "disp = ConfusionMatrixDisplay(confusion_matrix = matriz_confusion, display_labels = np.array(['1', '2', '3', '4', '5', '6', '7', '8']))\n",
        "disp.plot()\n",
        "plt.show()"
      ],
      "metadata": {
        "colab": {
          "base_uri": "https://localhost:8080/",
          "height": 449
        },
        "id": "AN5Q4gBoPxjY",
        "outputId": "5e81bed8-d86f-4de2-9369-e6fc8cd54e30"
      },
      "execution_count": null,
      "outputs": [
        {
          "output_type": "display_data",
          "data": {
            "text/plain": [
              "<Figure size 640x480 with 2 Axes>"
            ],
            "image/png": "[encoded data removed]"
          },
          "metadata": {}
        }
      ]
    },
    {
      "cell_type": "markdown",
      "source": [
        "#Conclusiones\n",
        "Debido al hecho de que no es posible dilucidar a qué etiquetas está mapeando este modelo, queda en el aire la posibilidad de concluir de manera más categórica sobre el desempeño de este, no obstante, observar que este modelo predice en exceso varias etiquetas (el '2', el '5', el '6', ...) y que las tasas de verdaderos positivos (aquellos valores en la diagonal de la matriz) no logran superar el 31% llevan a pensar que el conjunto de datos no goza de distinguibilidad entre clusters, asunto que complementa lo observado en el ejercicio de uso de modelos supervisados."
      ],
      "metadata": {
        "id": "mvKQcgzM0WY9"
      }
    }
  ],
  "metadata": {
    "colab": {
      "provenance": [],
      "include_colab_link": true
    },
    "kernelspec": {
      "display_name": "Python 3",
      "name": "python3"
    },
    "language_info": {
      "name": "python"
    }
  },
  "nbformat": 4,
  "nbformat_minor": 0
}