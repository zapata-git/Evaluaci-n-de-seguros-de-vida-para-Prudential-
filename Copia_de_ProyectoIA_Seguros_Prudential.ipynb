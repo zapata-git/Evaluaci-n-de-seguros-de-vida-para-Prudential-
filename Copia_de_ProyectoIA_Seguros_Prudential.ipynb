{
  "nbformat": 4,
  "nbformat_minor": 0,
  "metadata": {
    "colab": {
      "provenance": [],
      "include_colab_link": true
    },
    "kernelspec": {
      "name": "python3",
      "display_name": "Python 3"
    },
    "language_info": {
      "name": "python"
    }
  },
  "cells": [
    {
      "cell_type": "markdown",
      "metadata": {
        "id": "view-in-github",
        "colab_type": "text"
      },
      "source": [
        "<a href=\"https://colab.research.google.com/github/zapata-git/Evaluacion-de-seguros-de-vida-para-Prudential-/blob/main/Copia_de_ProyectoIA_Seguros_Prudential.ipynb\" target=\"_parent\"><img src=\"https://colab.research.google.com/assets/colab-badge.svg\" alt=\"Open In Colab\"/></a>"
      ]
    },
    {
      "cell_type": "markdown",
      "source": [
        "# **ProyectoIA_Seguros_Prudential**\n",
        "*Este conjunto de datos contiene información sobre solicitantes de seguros para la compañía Prudential. Se busca crear un algoritmo que perfile solicitantes en una escala de 8 niveles.*\n",
        "\n",
        "\n",
        "---\n",
        "\n",
        "\n"
      ],
      "metadata": {
        "id": "ozL5OfH7B_kQ"
      }
    },
    {
      "cell_type": "code",
      "execution_count": 2,
      "metadata": {
        "id": "cEOP_ZC5Be7G",
        "colab": {
          "base_uri": "https://localhost:8080/"
        },
        "outputId": "dbf9c33f-17c0-4572-adb0-1a201437b782"
      },
      "outputs": [
        {
          "output_type": "stream",
          "name": "stdout",
          "text": [
            "Mounted at /content/drive\n"
          ]
        }
      ],
      "source": [
        "import pandas as pd\n",
        "from sklearn.preprocessing import StandardScaler\n",
        "from google.colab import files\n",
        "from google.colab import drive\n",
        "drive.mount('/content/drive')\n",
        "from sklearn.preprocessing import MinMaxScaler\n",
        "from sklearn.model_selection import train_test_split"
      ]
    },
    {
      "cell_type": "code",
      "source": [
        "!pip install jovian --upgrade --quiet\n",
        "!pip install -q kaggle"
      ],
      "metadata": {
        "colab": {
          "base_uri": "https://localhost:8080/"
        },
        "id": "K3CyPMrYZ0iu",
        "outputId": "c3b2ccdc-b6a0-43d5-8ff4-892fba7658c8"
      },
      "execution_count": 3,
      "outputs": [
        {
          "output_type": "stream",
          "name": "stdout",
          "text": [
            "\u001b[?25l     \u001b[90m━━━━━━━━━━━━━━━━━━━━━━━━━━━━━━━━━━━━━━━━\u001b[0m \u001b[32m0.0/68.6 KB\u001b[0m \u001b[31m?\u001b[0m eta \u001b[36m-:--:--\u001b[0m\r\u001b[2K     \u001b[90m━━━━━━━━━━━━━━━━━━━━━━━━━━━━━━━━━━━━━━━━\u001b[0m \u001b[32m68.6/68.6 KB\u001b[0m \u001b[31m2.7 MB/s\u001b[0m eta \u001b[36m0:00:00\u001b[0m\n",
            "\u001b[?25h  Preparing metadata (setup.py) ... \u001b[?25l\u001b[?25hdone\n",
            "  Building wheel for uuid (setup.py) ... \u001b[?25l\u001b[?25hdone\n"
          ]
        }
      ]
    },
    {
      "cell_type": "code",
      "source": [
        "import jovian"
      ],
      "metadata": {
        "id": "3cbQUIIhZ3JY"
      },
      "execution_count": 4,
      "outputs": []
    },
    {
      "cell_type": "code",
      "source": [
        "files.upload()"
      ],
      "metadata": {
        "colab": {
          "base_uri": "https://localhost:8080/",
          "height": 90
        },
        "id": "fikfzepNOge6",
        "outputId": "8b82f88e-18a5-4286-d51f-58b115a67f50"
      },
      "execution_count": 5,
      "outputs": [
        {
          "output_type": "display_data",
          "data": {
            "text/plain": [
              "<IPython.core.display.HTML object>"
            ],
            "text/html": [
              "\n",
              "     <input type=\"file\" id=\"files-2a03d301-03bb-40e9-bc4d-24e15b7a3d41\" name=\"files[]\" multiple disabled\n",
              "        style=\"border:none\" />\n",
              "     <output id=\"result-2a03d301-03bb-40e9-bc4d-24e15b7a3d41\">\n",
              "      Upload widget is only available when the cell has been executed in the\n",
              "      current browser session. Please rerun this cell to enable.\n",
              "      </output>\n",
              "      <script>// Copyright 2017 Google LLC\n",
              "//\n",
              "// Licensed under the Apache License, Version 2.0 (the \"License\");\n",
              "// you may not use this file except in compliance with the License.\n",
              "// You may obtain a copy of the License at\n",
              "//\n",
              "//      http://www.apache.org/licenses/LICENSE-2.0\n",
              "//\n",
              "// Unless required by applicable law or agreed to in writing, software\n",
              "// distributed under the License is distributed on an \"AS IS\" BASIS,\n",
              "// WITHOUT WARRANTIES OR CONDITIONS OF ANY KIND, either express or implied.\n",
              "// See the License for the specific language governing permissions and\n",
              "// limitations under the License.\n",
              "\n",
              "/**\n",
              " * @fileoverview Helpers for google.colab Python module.\n",
              " */\n",
              "(function(scope) {\n",
              "function span(text, styleAttributes = {}) {\n",
              "  const element = document.createElement('span');\n",
              "  element.textContent = text;\n",
              "  for (const key of Object.keys(styleAttributes)) {\n",
              "    element.style[key] = styleAttributes[key];\n",
              "  }\n",
              "  return element;\n",
              "}\n",
              "\n",
              "// Max number of bytes which will be uploaded at a time.\n",
              "const MAX_PAYLOAD_SIZE = 100 * 1024;\n",
              "\n",
              "function _uploadFiles(inputId, outputId) {\n",
              "  const steps = uploadFilesStep(inputId, outputId);\n",
              "  const outputElement = document.getElementById(outputId);\n",
              "  // Cache steps on the outputElement to make it available for the next call\n",
              "  // to uploadFilesContinue from Python.\n",
              "  outputElement.steps = steps;\n",
              "\n",
              "  return _uploadFilesContinue(outputId);\n",
              "}\n",
              "\n",
              "// This is roughly an async generator (not supported in the browser yet),\n",
              "// where there are multiple asynchronous steps and the Python side is going\n",
              "// to poll for completion of each step.\n",
              "// This uses a Promise to block the python side on completion of each step,\n",
              "// then passes the result of the previous step as the input to the next step.\n",
              "function _uploadFilesContinue(outputId) {\n",
              "  const outputElement = document.getElementById(outputId);\n",
              "  const steps = outputElement.steps;\n",
              "\n",
              "  const next = steps.next(outputElement.lastPromiseValue);\n",
              "  return Promise.resolve(next.value.promise).then((value) => {\n",
              "    // Cache the last promise value to make it available to the next\n",
              "    // step of the generator.\n",
              "    outputElement.lastPromiseValue = value;\n",
              "    return next.value.response;\n",
              "  });\n",
              "}\n",
              "\n",
              "/**\n",
              " * Generator function which is called between each async step of the upload\n",
              " * process.\n",
              " * @param {string} inputId Element ID of the input file picker element.\n",
              " * @param {string} outputId Element ID of the output display.\n",
              " * @return {!Iterable<!Object>} Iterable of next steps.\n",
              " */\n",
              "function* uploadFilesStep(inputId, outputId) {\n",
              "  const inputElement = document.getElementById(inputId);\n",
              "  inputElement.disabled = false;\n",
              "\n",
              "  const outputElement = document.getElementById(outputId);\n",
              "  outputElement.innerHTML = '';\n",
              "\n",
              "  const pickedPromise = new Promise((resolve) => {\n",
              "    inputElement.addEventListener('change', (e) => {\n",
              "      resolve(e.target.files);\n",
              "    });\n",
              "  });\n",
              "\n",
              "  const cancel = document.createElement('button');\n",
              "  inputElement.parentElement.appendChild(cancel);\n",
              "  cancel.textContent = 'Cancel upload';\n",
              "  const cancelPromise = new Promise((resolve) => {\n",
              "    cancel.onclick = () => {\n",
              "      resolve(null);\n",
              "    };\n",
              "  });\n",
              "\n",
              "  // Wait for the user to pick the files.\n",
              "  const files = yield {\n",
              "    promise: Promise.race([pickedPromise, cancelPromise]),\n",
              "    response: {\n",
              "      action: 'starting',\n",
              "    }\n",
              "  };\n",
              "\n",
              "  cancel.remove();\n",
              "\n",
              "  // Disable the input element since further picks are not allowed.\n",
              "  inputElement.disabled = true;\n",
              "\n",
              "  if (!files) {\n",
              "    return {\n",
              "      response: {\n",
              "        action: 'complete',\n",
              "      }\n",
              "    };\n",
              "  }\n",
              "\n",
              "  for (const file of files) {\n",
              "    const li = document.createElement('li');\n",
              "    li.append(span(file.name, {fontWeight: 'bold'}));\n",
              "    li.append(span(\n",
              "        `(${file.type || 'n/a'}) - ${file.size} bytes, ` +\n",
              "        `last modified: ${\n",
              "            file.lastModifiedDate ? file.lastModifiedDate.toLocaleDateString() :\n",
              "                                    'n/a'} - `));\n",
              "    const percent = span('0% done');\n",
              "    li.appendChild(percent);\n",
              "\n",
              "    outputElement.appendChild(li);\n",
              "\n",
              "    const fileDataPromise = new Promise((resolve) => {\n",
              "      const reader = new FileReader();\n",
              "      reader.onload = (e) => {\n",
              "        resolve(e.target.result);\n",
              "      };\n",
              "      reader.readAsArrayBuffer(file);\n",
              "    });\n",
              "    // Wait for the data to be ready.\n",
              "    let fileData = yield {\n",
              "      promise: fileDataPromise,\n",
              "      response: {\n",
              "        action: 'continue',\n",
              "      }\n",
              "    };\n",
              "\n",
              "    // Use a chunked sending to avoid message size limits. See b/62115660.\n",
              "    let position = 0;\n",
              "    do {\n",
              "      const length = Math.min(fileData.byteLength - position, MAX_PAYLOAD_SIZE);\n",
              "      const chunk = new Uint8Array(fileData, position, length);\n",
              "      position += length;\n",
              "\n",
              "      const base64 = btoa(String.fromCharCode.apply(null, chunk));\n",
              "      yield {\n",
              "        response: {\n",
              "          action: 'append',\n",
              "          file: file.name,\n",
              "          data: base64,\n",
              "        },\n",
              "      };\n",
              "\n",
              "      let percentDone = fileData.byteLength === 0 ?\n",
              "          100 :\n",
              "          Math.round((position / fileData.byteLength) * 100);\n",
              "      percent.textContent = `${percentDone}% done`;\n",
              "\n",
              "    } while (position < fileData.byteLength);\n",
              "  }\n",
              "\n",
              "  // All done.\n",
              "  yield {\n",
              "    response: {\n",
              "      action: 'complete',\n",
              "    }\n",
              "  };\n",
              "}\n",
              "\n",
              "scope.google = scope.google || {};\n",
              "scope.google.colab = scope.google.colab || {};\n",
              "scope.google.colab._files = {\n",
              "  _uploadFiles,\n",
              "  _uploadFilesContinue,\n",
              "};\n",
              "})(self);\n",
              "</script> "
            ]
          },
          "metadata": {}
        },
        {
          "output_type": "stream",
          "name": "stdout",
          "text": [
            "Saving kaggle.json to kaggle.json\n"
          ]
        },
        {
          "output_type": "execute_result",
          "data": {
            "text/plain": [
              "{'kaggle.json': b'{\"username\":\"carlosozapata\",\"key\":\"df16ad12b646ea1e6424f4d369c4faf3\"}'}"
            ]
          },
          "metadata": {},
          "execution_count": 5
        }
      ]
    },
    {
      "cell_type": "code",
      "source": [
        "!rm -r ~/.kaggle\n",
        "!mkdir ~/.kaggle\n",
        "!cp kaggle.json ~/.kaggle/\n",
        "!mv ./kaggle.json ~/.kaggle/\n",
        "!chmod 600 ~/.kaggle/kaggle.json\n",
        "#!kaggle datasets list"
      ],
      "metadata": {
        "colab": {
          "base_uri": "https://localhost:8080/"
        },
        "id": "2cdH7WN1OrFZ",
        "outputId": "a600f1a7-c60b-42eb-8064-3bdf0fb44eb7"
      },
      "execution_count": 6,
      "outputs": [
        {
          "output_type": "stream",
          "name": "stdout",
          "text": [
            "rm: cannot remove '/root/.kaggle': No such file or directory\n"
          ]
        }
      ]
    },
    {
      "cell_type": "code",
      "source": [
        "!kaggle competitions download 'prudential-life-insurance-assessment'"
      ],
      "metadata": {
        "colab": {
          "base_uri": "https://localhost:8080/"
        },
        "id": "yfNtIlJSnbn6",
        "outputId": "faec0dc6-85cb-4fce-a5df-e83c14ab730f"
      },
      "execution_count": 7,
      "outputs": [
        {
          "output_type": "stream",
          "name": "stdout",
          "text": [
            "Downloading prudential-life-insurance-assessment.zip to /content\n",
            " 62% 2.00M/3.24M [00:00<00:00, 2.89MB/s]\n",
            "100% 3.24M/3.24M [00:00<00:00, 3.73MB/s]\n"
          ]
        }
      ]
    },
    {
      "cell_type": "code",
      "source": [
        "!kaggle competitions download -c 'prudential-life-insurance-assessment'"
      ],
      "metadata": {
        "colab": {
          "base_uri": "https://localhost:8080/"
        },
        "id": "G5Y8eQDqO-p1",
        "outputId": "fe2e4ab7-a11a-47da-f129-e46f4aa2cc48"
      },
      "execution_count": 8,
      "outputs": [
        {
          "output_type": "stream",
          "name": "stdout",
          "text": [
            "prudential-life-insurance-assessment.zip: Skipping, found more recently modified local copy (use --force to force download)\n"
          ]
        }
      ]
    },
    {
      "cell_type": "code",
      "source": [
        "import os\n",
        "# Put on the same directory\n",
        "from zipfile import ZipFile \n",
        "  \n",
        "# specifying the name of the zip file\n",
        "file = \"prudential-life-insurance-assessment.zip\"\n",
        "  \n",
        "# open the zip file in read mode\n",
        "with ZipFile(file, 'r') as zip: \n",
        "    # list all the contents of the zip file\n",
        "    #zip.printdir() \n",
        "  \n",
        "    # extract all files\n",
        "    print('Extracción de archivos en proceso...') \n",
        "    zip.extractall() \n",
        "    print('Extracción terminada')\n",
        "\n",
        "%cd \"/content/\"\n",
        "\n",
        "for archivo in os.listdir():\n",
        "  if archivo.endswith(\".zip\"):\n",
        "    with ZipFile(archivo, 'r') as zip_ref:\n",
        "      zip_ref.extractall(\"/content/\")\n",
        "\n"
      ],
      "metadata": {
        "colab": {
          "base_uri": "https://localhost:8080/"
        },
        "id": "s2v4QzbEpWo_",
        "outputId": "6cdcf5e0-b99b-4fd5-8603-290f4e4de2d3"
      },
      "execution_count": 9,
      "outputs": [
        {
          "output_type": "stream",
          "name": "stdout",
          "text": [
            "Extracción de archivos en proceso...\n",
            "Extracción terminada\n",
            "/content\n"
          ]
        }
      ]
    },
    {
      "cell_type": "code",
      "source": [
        "#Cuantificar el conjunto de datos\n",
        "\n",
        "datos = pd.read_csv(\"/content/train.csv\")\n",
        "print(f\"Cantidad de filas en el archivo de entrenamiento:\\t{datos.shape[0]}\")\n",
        "print(f\"Cantidad de columnas en el archivo de entrenamiento:\\t{datos.shape[1]}\")"
      ],
      "metadata": {
        "colab": {
          "base_uri": "https://localhost:8080/"
        },
        "id": "peuSiVHSCdPN",
        "outputId": "c23c6d4e-aae1-4c9f-d3c7-8d3b6226769b"
      },
      "execution_count": 10,
      "outputs": [
        {
          "output_type": "stream",
          "name": "stdout",
          "text": [
            "Cantidad de filas en el archivo de entrenamiento:\t59381\n",
            "Cantidad de columnas en el archivo de entrenamiento:\t128\n"
          ]
        }
      ]
    },
    {
      "cell_type": "code",
      "source": [
        "#Identificación de los tipos de datos por columna\n",
        "\n",
        "for columna in datos.columns:\n",
        "  print(\"%20s\"%columna, datos[columna].dtype)"
      ],
      "metadata": {
        "colab": {
          "base_uri": "https://localhost:8080/"
        },
        "id": "5gSliNZd6Tsr",
        "outputId": "5a9d96ab-5e1f-434b-fbab-3daa1bfbaa04"
      },
      "execution_count": null,
      "outputs": [
        {
          "output_type": "stream",
          "name": "stdout",
          "text": [
            "                  Id int64\n",
            "      Product_Info_1 int64\n",
            "      Product_Info_2 object\n",
            "      Product_Info_3 int64\n",
            "      Product_Info_4 float64\n",
            "      Product_Info_5 int64\n",
            "      Product_Info_6 int64\n",
            "      Product_Info_7 int64\n",
            "             Ins_Age float64\n",
            "                  Ht float64\n",
            "                  Wt float64\n",
            "                 BMI float64\n",
            "   Employment_Info_1 float64\n",
            "   Employment_Info_2 int64\n",
            "   Employment_Info_3 int64\n",
            "   Employment_Info_4 float64\n",
            "   Employment_Info_5 int64\n",
            "   Employment_Info_6 float64\n",
            "       InsuredInfo_1 int64\n",
            "       InsuredInfo_2 int64\n",
            "       InsuredInfo_3 int64\n",
            "       InsuredInfo_4 int64\n",
            "       InsuredInfo_5 int64\n",
            "       InsuredInfo_6 int64\n",
            "       InsuredInfo_7 int64\n",
            " Insurance_History_1 int64\n",
            " Insurance_History_2 int64\n",
            " Insurance_History_3 int64\n",
            " Insurance_History_4 int64\n",
            " Insurance_History_5 float64\n",
            " Insurance_History_7 int64\n",
            " Insurance_History_8 int64\n",
            " Insurance_History_9 int64\n",
            "       Family_Hist_1 int64\n",
            "       Family_Hist_2 float64\n",
            "       Family_Hist_3 float64\n",
            "       Family_Hist_4 float64\n",
            "       Family_Hist_5 float64\n",
            "   Medical_History_1 float64\n",
            "   Medical_History_2 int64\n",
            "   Medical_History_3 int64\n",
            "   Medical_History_4 int64\n",
            "   Medical_History_5 int64\n",
            "   Medical_History_6 int64\n",
            "   Medical_History_7 int64\n",
            "   Medical_History_8 int64\n",
            "   Medical_History_9 int64\n",
            "  Medical_History_10 float64\n",
            "  Medical_History_11 int64\n",
            "  Medical_History_12 int64\n",
            "  Medical_History_13 int64\n",
            "  Medical_History_14 int64\n",
            "  Medical_History_15 float64\n",
            "  Medical_History_16 int64\n",
            "  Medical_History_17 int64\n",
            "  Medical_History_18 int64\n",
            "  Medical_History_19 int64\n",
            "  Medical_History_20 int64\n",
            "  Medical_History_21 int64\n",
            "  Medical_History_22 int64\n",
            "  Medical_History_23 int64\n",
            "  Medical_History_24 float64\n",
            "  Medical_History_25 int64\n",
            "  Medical_History_26 int64\n",
            "  Medical_History_27 int64\n",
            "  Medical_History_28 int64\n",
            "  Medical_History_29 int64\n",
            "  Medical_History_30 int64\n",
            "  Medical_History_31 int64\n",
            "  Medical_History_32 float64\n",
            "  Medical_History_33 int64\n",
            "  Medical_History_34 int64\n",
            "  Medical_History_35 int64\n",
            "  Medical_History_36 int64\n",
            "  Medical_History_37 int64\n",
            "  Medical_History_38 int64\n",
            "  Medical_History_39 int64\n",
            "  Medical_History_40 int64\n",
            "  Medical_History_41 int64\n",
            "   Medical_Keyword_1 int64\n",
            "   Medical_Keyword_2 int64\n",
            "   Medical_Keyword_3 int64\n",
            "   Medical_Keyword_4 int64\n",
            "   Medical_Keyword_5 int64\n",
            "   Medical_Keyword_6 int64\n",
            "   Medical_Keyword_7 int64\n",
            "   Medical_Keyword_8 int64\n",
            "   Medical_Keyword_9 int64\n",
            "  Medical_Keyword_10 int64\n",
            "  Medical_Keyword_11 int64\n",
            "  Medical_Keyword_12 int64\n",
            "  Medical_Keyword_13 int64\n",
            "  Medical_Keyword_14 int64\n",
            "  Medical_Keyword_15 int64\n",
            "  Medical_Keyword_16 int64\n",
            "  Medical_Keyword_17 int64\n",
            "  Medical_Keyword_18 int64\n",
            "  Medical_Keyword_19 int64\n",
            "  Medical_Keyword_20 int64\n",
            "  Medical_Keyword_21 int64\n",
            "  Medical_Keyword_22 int64\n",
            "  Medical_Keyword_23 int64\n",
            "  Medical_Keyword_24 int64\n",
            "  Medical_Keyword_25 int64\n",
            "  Medical_Keyword_26 int64\n",
            "  Medical_Keyword_27 int64\n",
            "  Medical_Keyword_28 int64\n",
            "  Medical_Keyword_29 int64\n",
            "  Medical_Keyword_30 int64\n",
            "  Medical_Keyword_31 int64\n",
            "  Medical_Keyword_32 int64\n",
            "  Medical_Keyword_33 int64\n",
            "  Medical_Keyword_34 int64\n",
            "  Medical_Keyword_35 int64\n",
            "  Medical_Keyword_36 int64\n",
            "  Medical_Keyword_37 int64\n",
            "  Medical_Keyword_38 int64\n",
            "  Medical_Keyword_39 int64\n",
            "  Medical_Keyword_40 int64\n",
            "  Medical_Keyword_41 int64\n",
            "  Medical_Keyword_42 int64\n",
            "  Medical_Keyword_43 int64\n",
            "  Medical_Keyword_44 int64\n",
            "  Medical_Keyword_45 int64\n",
            "  Medical_Keyword_46 int64\n",
            "  Medical_Keyword_47 int64\n",
            "  Medical_Keyword_48 int64\n",
            "            Response int64\n"
          ]
        }
      ]
    },
    {
      "cell_type": "code",
      "source": [
        "# Crear DataFrame booleano indicando valores faltantes\n",
        "valores_faltantes = datos.isnull()\n",
        "\n",
        "# Obtener la cantidad total de valores faltantes por columna\n",
        "cantidad_faltantes = valores_faltantes.sum()\n",
        "cantidad_faltantes"
      ],
      "metadata": {
        "colab": {
          "base_uri": "https://localhost:8080/"
        },
        "id": "129pr86H8YXE",
        "outputId": "230ca342-ee4d-40ab-907b-c25bcfc4055d"
      },
      "execution_count": null,
      "outputs": [
        {
          "output_type": "execute_result",
          "data": {
            "text/plain": [
              "Id                    0\n",
              "Product_Info_1        0\n",
              "Product_Info_2        0\n",
              "Product_Info_3        0\n",
              "Product_Info_4        0\n",
              "                     ..\n",
              "Medical_Keyword_45    0\n",
              "Medical_Keyword_46    0\n",
              "Medical_Keyword_47    0\n",
              "Medical_Keyword_48    0\n",
              "Response              0\n",
              "Length: 128, dtype: int64"
            ]
          },
          "metadata": {},
          "execution_count": 42
        }
      ]
    },
    {
      "cell_type": "code",
      "source": [
        "#Exploración básica de los datos\n",
        "datos._get_numeric_data().describe().T"
      ],
      "metadata": {
        "colab": {
          "base_uri": "https://localhost:8080/",
          "height": 423
        },
        "id": "72PCVuR9UnhV",
        "outputId": "5d510c9f-5f2a-4ede-920b-e3bf432e38ab"
      },
      "execution_count": null,
      "outputs": [
        {
          "output_type": "execute_result",
          "data": {
            "text/plain": [
              "                      count          mean           std  min           25%  \\\n",
              "Id                  59381.0  39507.211515  22815.883089  2.0  19780.000000   \n",
              "Product_Info_1      59381.0      1.026355      0.160191  1.0      1.000000   \n",
              "Product_Info_3      59381.0     24.415655      5.072885  1.0     26.000000   \n",
              "Product_Info_4      59381.0      0.328952      0.282562  0.0      0.076923   \n",
              "Product_Info_5      59381.0      2.006955      0.083107  2.0      2.000000   \n",
              "...                     ...           ...           ...  ...           ...   \n",
              "Medical_Keyword_45  59381.0      0.013691      0.116207  0.0      0.000000   \n",
              "Medical_Keyword_46  59381.0      0.008488      0.091737  0.0      0.000000   \n",
              "Medical_Keyword_47  59381.0      0.019905      0.139676  0.0      0.000000   \n",
              "Medical_Keyword_48  59381.0      0.054496      0.226995  0.0      0.000000   \n",
              "Response            59381.0      5.636837      2.456833  1.0      4.000000   \n",
              "\n",
              "                             50%           75%      max  \n",
              "Id                  39487.000000  59211.000000  79146.0  \n",
              "Product_Info_1          1.000000      1.000000      2.0  \n",
              "Product_Info_3         26.000000     26.000000     38.0  \n",
              "Product_Info_4          0.230769      0.487179      1.0  \n",
              "Product_Info_5          2.000000      2.000000      3.0  \n",
              "...                          ...           ...      ...  \n",
              "Medical_Keyword_45      0.000000      0.000000      1.0  \n",
              "Medical_Keyword_46      0.000000      0.000000      1.0  \n",
              "Medical_Keyword_47      0.000000      0.000000      1.0  \n",
              "Medical_Keyword_48      0.000000      0.000000      1.0  \n",
              "Response                6.000000      8.000000      8.0  \n",
              "\n",
              "[127 rows x 8 columns]"
            ],
            "text/html": [
              "\n",
              "  <div id=\"df-ac8b853d-55a4-4b67-9824-012e97731eb8\">\n",
              "    <div class=\"colab-df-container\">\n",
              "      <div>\n",
              "<style scoped>\n",
              "    .dataframe tbody tr th:only-of-type {\n",
              "        vertical-align: middle;\n",
              "    }\n",
              "\n",
              "    .dataframe tbody tr th {\n",
              "        vertical-align: top;\n",
              "    }\n",
              "\n",
              "    .dataframe thead th {\n",
              "        text-align: right;\n",
              "    }\n",
              "</style>\n",
              "<table border=\"1\" class=\"dataframe\">\n",
              "  <thead>\n",
              "    <tr style=\"text-align: right;\">\n",
              "      <th></th>\n",
              "      <th>count</th>\n",
              "      <th>mean</th>\n",
              "      <th>std</th>\n",
              "      <th>min</th>\n",
              "      <th>25%</th>\n",
              "      <th>50%</th>\n",
              "      <th>75%</th>\n",
              "      <th>max</th>\n",
              "    </tr>\n",
              "  </thead>\n",
              "  <tbody>\n",
              "    <tr>\n",
              "      <th>Id</th>\n",
              "      <td>59381.0</td>\n",
              "      <td>39507.211515</td>\n",
              "      <td>22815.883089</td>\n",
              "      <td>2.0</td>\n",
              "      <td>19780.000000</td>\n",
              "      <td>39487.000000</td>\n",
              "      <td>59211.000000</td>\n",
              "      <td>79146.0</td>\n",
              "    </tr>\n",
              "    <tr>\n",
              "      <th>Product_Info_1</th>\n",
              "      <td>59381.0</td>\n",
              "      <td>1.026355</td>\n",
              "      <td>0.160191</td>\n",
              "      <td>1.0</td>\n",
              "      <td>1.000000</td>\n",
              "      <td>1.000000</td>\n",
              "      <td>1.000000</td>\n",
              "      <td>2.0</td>\n",
              "    </tr>\n",
              "    <tr>\n",
              "      <th>Product_Info_3</th>\n",
              "      <td>59381.0</td>\n",
              "      <td>24.415655</td>\n",
              "      <td>5.072885</td>\n",
              "      <td>1.0</td>\n",
              "      <td>26.000000</td>\n",
              "      <td>26.000000</td>\n",
              "      <td>26.000000</td>\n",
              "      <td>38.0</td>\n",
              "    </tr>\n",
              "    <tr>\n",
              "      <th>Product_Info_4</th>\n",
              "      <td>59381.0</td>\n",
              "      <td>0.328952</td>\n",
              "      <td>0.282562</td>\n",
              "      <td>0.0</td>\n",
              "      <td>0.076923</td>\n",
              "      <td>0.230769</td>\n",
              "      <td>0.487179</td>\n",
              "      <td>1.0</td>\n",
              "    </tr>\n",
              "    <tr>\n",
              "      <th>Product_Info_5</th>\n",
              "      <td>59381.0</td>\n",
              "      <td>2.006955</td>\n",
              "      <td>0.083107</td>\n",
              "      <td>2.0</td>\n",
              "      <td>2.000000</td>\n",
              "      <td>2.000000</td>\n",
              "      <td>2.000000</td>\n",
              "      <td>3.0</td>\n",
              "    </tr>\n",
              "    <tr>\n",
              "      <th>...</th>\n",
              "      <td>...</td>\n",
              "      <td>...</td>\n",
              "      <td>...</td>\n",
              "      <td>...</td>\n",
              "      <td>...</td>\n",
              "      <td>...</td>\n",
              "      <td>...</td>\n",
              "      <td>...</td>\n",
              "    </tr>\n",
              "    <tr>\n",
              "      <th>Medical_Keyword_45</th>\n",
              "      <td>59381.0</td>\n",
              "      <td>0.013691</td>\n",
              "      <td>0.116207</td>\n",
              "      <td>0.0</td>\n",
              "      <td>0.000000</td>\n",
              "      <td>0.000000</td>\n",
              "      <td>0.000000</td>\n",
              "      <td>1.0</td>\n",
              "    </tr>\n",
              "    <tr>\n",
              "      <th>Medical_Keyword_46</th>\n",
              "      <td>59381.0</td>\n",
              "      <td>0.008488</td>\n",
              "      <td>0.091737</td>\n",
              "      <td>0.0</td>\n",
              "      <td>0.000000</td>\n",
              "      <td>0.000000</td>\n",
              "      <td>0.000000</td>\n",
              "      <td>1.0</td>\n",
              "    </tr>\n",
              "    <tr>\n",
              "      <th>Medical_Keyword_47</th>\n",
              "      <td>59381.0</td>\n",
              "      <td>0.019905</td>\n",
              "      <td>0.139676</td>\n",
              "      <td>0.0</td>\n",
              "      <td>0.000000</td>\n",
              "      <td>0.000000</td>\n",
              "      <td>0.000000</td>\n",
              "      <td>1.0</td>\n",
              "    </tr>\n",
              "    <tr>\n",
              "      <th>Medical_Keyword_48</th>\n",
              "      <td>59381.0</td>\n",
              "      <td>0.054496</td>\n",
              "      <td>0.226995</td>\n",
              "      <td>0.0</td>\n",
              "      <td>0.000000</td>\n",
              "      <td>0.000000</td>\n",
              "      <td>0.000000</td>\n",
              "      <td>1.0</td>\n",
              "    </tr>\n",
              "    <tr>\n",
              "      <th>Response</th>\n",
              "      <td>59381.0</td>\n",
              "      <td>5.636837</td>\n",
              "      <td>2.456833</td>\n",
              "      <td>1.0</td>\n",
              "      <td>4.000000</td>\n",
              "      <td>6.000000</td>\n",
              "      <td>8.000000</td>\n",
              "      <td>8.0</td>\n",
              "    </tr>\n",
              "  </tbody>\n",
              "</table>\n",
              "<p>127 rows × 8 columns</p>\n",
              "</div>\n",
              "      <button class=\"colab-df-convert\" onclick=\"convertToInteractive('df-ac8b853d-55a4-4b67-9824-012e97731eb8')\"\n",
              "              title=\"Convert this dataframe to an interactive table.\"\n",
              "              style=\"display:none;\">\n",
              "        \n",
              "  <svg xmlns=\"http://www.w3.org/2000/svg\" height=\"24px\"viewBox=\"0 0 24 24\"\n",
              "       width=\"24px\">\n",
              "    <path d=\"M0 0h24v24H0V0z\" fill=\"none\"/>\n",
              "    <path d=\"M18.56 5.44l.94 2.06.94-2.06 2.06-.94-2.06-.94-.94-2.06-.94 2.06-2.06.94zm-11 1L8.5 8.5l.94-2.06 2.06-.94-2.06-.94L8.5 2.5l-.94 2.06-2.06.94zm10 10l.94 2.06.94-2.06 2.06-.94-2.06-.94-.94-2.06-.94 2.06-2.06.94z\"/><path d=\"M17.41 7.96l-1.37-1.37c-.4-.4-.92-.59-1.43-.59-.52 0-1.04.2-1.43.59L10.3 9.45l-7.72 7.72c-.78.78-.78 2.05 0 2.83L4 21.41c.39.39.9.59 1.41.59.51 0 1.02-.2 1.41-.59l7.78-7.78 2.81-2.81c.8-.78.8-2.07 0-2.86zM5.41 20L4 18.59l7.72-7.72 1.47 1.35L5.41 20z\"/>\n",
              "  </svg>\n",
              "      </button>\n",
              "      \n",
              "  <style>\n",
              "    .colab-df-container {\n",
              "      display:flex;\n",
              "      flex-wrap:wrap;\n",
              "      gap: 12px;\n",
              "    }\n",
              "\n",
              "    .colab-df-convert {\n",
              "      background-color: #E8F0FE;\n",
              "      border: none;\n",
              "      border-radius: 50%;\n",
              "      cursor: pointer;\n",
              "      display: none;\n",
              "      fill: #1967D2;\n",
              "      height: 32px;\n",
              "      padding: 0 0 0 0;\n",
              "      width: 32px;\n",
              "    }\n",
              "\n",
              "    .colab-df-convert:hover {\n",
              "      background-color: #E2EBFA;\n",
              "      box-shadow: 0px 1px 2px rgba(60, 64, 67, 0.3), 0px 1px 3px 1px rgba(60, 64, 67, 0.15);\n",
              "      fill: #174EA6;\n",
              "    }\n",
              "\n",
              "    [theme=dark] .colab-df-convert {\n",
              "      background-color: #3B4455;\n",
              "      fill: #D2E3FC;\n",
              "    }\n",
              "\n",
              "    [theme=dark] .colab-df-convert:hover {\n",
              "      background-color: #434B5C;\n",
              "      box-shadow: 0px 1px 3px 1px rgba(0, 0, 0, 0.15);\n",
              "      filter: drop-shadow(0px 1px 2px rgba(0, 0, 0, 0.3));\n",
              "      fill: #FFFFFF;\n",
              "    }\n",
              "  </style>\n",
              "\n",
              "      <script>\n",
              "        const buttonEl =\n",
              "          document.querySelector('#df-ac8b853d-55a4-4b67-9824-012e97731eb8 button.colab-df-convert');\n",
              "        buttonEl.style.display =\n",
              "          google.colab.kernel.accessAllowed ? 'block' : 'none';\n",
              "\n",
              "        async function convertToInteractive(key) {\n",
              "          const element = document.querySelector('#df-ac8b853d-55a4-4b67-9824-012e97731eb8');\n",
              "          const dataTable =\n",
              "            await google.colab.kernel.invokeFunction('convertToInteractive',\n",
              "                                                     [key], {});\n",
              "          if (!dataTable) return;\n",
              "\n",
              "          const docLinkHtml = 'Like what you see? Visit the ' +\n",
              "            '<a target=\"_blank\" href=https://colab.research.google.com/notebooks/data_table.ipynb>data table notebook</a>'\n",
              "            + ' to learn more about interactive tables.';\n",
              "          element.innerHTML = '';\n",
              "          dataTable['output_type'] = 'display_data';\n",
              "          await google.colab.output.renderOutput(dataTable, element);\n",
              "          const docLink = document.createElement('div');\n",
              "          docLink.innerHTML = docLinkHtml;\n",
              "          element.appendChild(docLink);\n",
              "        }\n",
              "      </script>\n",
              "    </div>\n",
              "  </div>\n",
              "  "
            ]
          },
          "metadata": {},
          "execution_count": 12
        }
      ]
    },
    {
      "cell_type": "code",
      "source": [
        "#Construcción de una matriz de correlación entre variables\n",
        "import seaborn as sns\n",
        "import matplotlib.pyplot as plt\n",
        "%matplotlib inline\n",
        "matriz_correlacion = datos.corr()\n",
        "f, ax = plt.subplots(figsize=(16,8))\n",
        "sns.heatmap(matriz_correlacion, vmax = 1, square = True);"
      ],
      "metadata": {
        "colab": {
          "base_uri": "https://localhost:8080/",
          "height": 581
        },
        "id": "meDXXTBEXpPF",
        "outputId": "adafc520-3512-4f6f-d5f9-8cdbc7966086"
      },
      "execution_count": null,
      "outputs": [
        {
          "output_type": "display_data",
          "data": {
            "text/plain": [
              "<Figure size 1152x576 with 2 Axes>"
            ],
            "image/png": "[encoded data removed]"
          },
          "metadata": {
            "needs_background": "light"
          }
        }
      ]
    },
    {
      "cell_type": "code",
      "source": [
        "#Más indagación en las variables, a partir de ellas en formato de columna\n",
        "columnas = [i for i in  datos.columns if not i in datos._get_numeric_data()]\n",
        "print(columnas)"
      ],
      "metadata": {
        "colab": {
          "base_uri": "https://localhost:8080/"
        },
        "id": "2HIa53e8uz52",
        "outputId": "80a18ca2-fe13-46cb-e144-ef1d0ab9064d"
      },
      "execution_count": null,
      "outputs": [
        {
          "output_type": "stream",
          "name": "stdout",
          "text": [
            "['Product_Info_2']\n"
          ]
        }
      ]
    },
    {
      "cell_type": "code",
      "source": [
        "#Se identifican las categorías componentes de la o las columnas categóricas existentes\n",
        "import numpy as np\n",
        "for columna in columnas:\n",
        "  print(\"%10s\"%columna, np.unique(datos[columna].dropna()))"
      ],
      "metadata": {
        "colab": {
          "base_uri": "https://localhost:8080/"
        },
        "id": "IKqSY52MwHDt",
        "outputId": "41d42226-907d-4f75-9619-54f586d59dab"
      },
      "execution_count": null,
      "outputs": [
        {
          "output_type": "stream",
          "name": "stdout",
          "text": [
            "Product_Info_2 ['A1' 'A2' 'A3' 'A4' 'A5' 'A6' 'A7' 'A8' 'B1' 'B2' 'C1' 'C2' 'C3' 'C4'\n",
            " 'D1' 'D2' 'D3' 'D4' 'E1']\n"
          ]
        }
      ]
    },
    {
      "cell_type": "code",
      "source": [
        "#Se cuenta la frecuencia de cada categoría dentro de la columna categórica  identificada\n",
        "columna = columnas[0]\n",
        "print(f\"La columna con  valores categóricos a mostrar es {columna}\")\n",
        "datos[columna].value_counts()"
      ],
      "metadata": {
        "colab": {
          "base_uri": "https://localhost:8080/"
        },
        "id": "PXKM84Mjz200",
        "outputId": "a0d847f7-eb7a-4283-d5d9-2c87dc4a5e43"
      },
      "execution_count": null,
      "outputs": [
        {
          "output_type": "stream",
          "name": "stdout",
          "text": [
            "La columna con  valores categóricos a mostrar es Product_Info_2\n"
          ]
        },
        {
          "output_type": "execute_result",
          "data": {
            "text/plain": [
              "D3    14321\n",
              "D4    10812\n",
              "A8     6835\n",
              "D1     6554\n",
              "D2     6286\n",
              "E1     2647\n",
              "A1     2363\n",
              "A6     2098\n",
              "A2     1974\n",
              "A7     1383\n",
              "B2     1122\n",
              "A3      977\n",
              "A5      775\n",
              "C3      306\n",
              "C1      285\n",
              "C4      219\n",
              "A4      210\n",
              "C2      160\n",
              "B1       54\n",
              "Name: Product_Info_2, dtype: int64"
            ]
          },
          "metadata": {},
          "execution_count": 21
        }
      ]
    },
    {
      "cell_type": "code",
      "source": [
        "plt.figure(figsize=(20,8))\n",
        "for i, columna in enumerate([\"Product_Info_2\"]):\n",
        "  plt.subplot(1, 2, i + 1)\n",
        "  k = datos[[columna, \"Response\"]].dropna()\n",
        "  for v in datos[columna].dropna().unique():\n",
        "    sns.distplot(k.Response[k[columna] == v], label = v)\n",
        "    plt.title(columna)\n",
        "  plt.yticks([])\n",
        "  plt.legend()\n",
        "  plt.subplot(1, 2, i + 2)\n",
        "  vc = k[columna].value_counts()\n",
        "  sns.barplot(vc.index, vc.values)\n",
        "  plt.xticks(range(len(vc)), vc.index, rotation = \"vertical\")"
      ],
      "metadata": {
        "colab": {
          "base_uri": "https://localhost:8080/",
          "height": 1000
        },
        "id": "8VvjwRG43hvn",
        "outputId": "464960c9-7738-492b-d193-321d87565285"
      },
      "execution_count": null,
      "outputs": [
        {
          "output_type": "stream",
          "name": "stderr",
          "text": [
            "/usr/local/lib/python3.9/dist-packages/seaborn/distributions.py:2619: FutureWarning: `distplot` is a deprecated function and will be removed in a future version. Please adapt your code to use either `displot` (a figure-level function with similar flexibility) or `histplot` (an axes-level function for histograms).\n",
            "  warnings.warn(msg, FutureWarning)\n",
            "/usr/local/lib/python3.9/dist-packages/seaborn/distributions.py:2619: FutureWarning: `distplot` is a deprecated function and will be removed in a future version. Please adapt your code to use either `displot` (a figure-level function with similar flexibility) or `histplot` (an axes-level function for histograms).\n",
            "  warnings.warn(msg, FutureWarning)\n",
            "/usr/local/lib/python3.9/dist-packages/seaborn/distributions.py:2619: FutureWarning: `distplot` is a deprecated function and will be removed in a future version. Please adapt your code to use either `displot` (a figure-level function with similar flexibility) or `histplot` (an axes-level function for histograms).\n",
            "  warnings.warn(msg, FutureWarning)\n",
            "/usr/local/lib/python3.9/dist-packages/seaborn/distributions.py:2619: FutureWarning: `distplot` is a deprecated function and will be removed in a future version. Please adapt your code to use either `displot` (a figure-level function with similar flexibility) or `histplot` (an axes-level function for histograms).\n",
            "  warnings.warn(msg, FutureWarning)\n",
            "/usr/local/lib/python3.9/dist-packages/seaborn/distributions.py:2619: FutureWarning: `distplot` is a deprecated function and will be removed in a future version. Please adapt your code to use either `displot` (a figure-level function with similar flexibility) or `histplot` (an axes-level function for histograms).\n",
            "  warnings.warn(msg, FutureWarning)\n",
            "/usr/local/lib/python3.9/dist-packages/seaborn/distributions.py:2619: FutureWarning: `distplot` is a deprecated function and will be removed in a future version. Please adapt your code to use either `displot` (a figure-level function with similar flexibility) or `histplot` (an axes-level function for histograms).\n",
            "  warnings.warn(msg, FutureWarning)\n",
            "/usr/local/lib/python3.9/dist-packages/seaborn/distributions.py:2619: FutureWarning: `distplot` is a deprecated function and will be removed in a future version. Please adapt your code to use either `displot` (a figure-level function with similar flexibility) or `histplot` (an axes-level function for histograms).\n",
            "  warnings.warn(msg, FutureWarning)\n",
            "/usr/local/lib/python3.9/dist-packages/seaborn/distributions.py:2619: FutureWarning: `distplot` is a deprecated function and will be removed in a future version. Please adapt your code to use either `displot` (a figure-level function with similar flexibility) or `histplot` (an axes-level function for histograms).\n",
            "  warnings.warn(msg, FutureWarning)\n",
            "/usr/local/lib/python3.9/dist-packages/seaborn/distributions.py:2619: FutureWarning: `distplot` is a deprecated function and will be removed in a future version. Please adapt your code to use either `displot` (a figure-level function with similar flexibility) or `histplot` (an axes-level function for histograms).\n",
            "  warnings.warn(msg, FutureWarning)\n",
            "/usr/local/lib/python3.9/dist-packages/seaborn/distributions.py:2619: FutureWarning: `distplot` is a deprecated function and will be removed in a future version. Please adapt your code to use either `displot` (a figure-level function with similar flexibility) or `histplot` (an axes-level function for histograms).\n",
            "  warnings.warn(msg, FutureWarning)\n",
            "/usr/local/lib/python3.9/dist-packages/seaborn/distributions.py:2619: FutureWarning: `distplot` is a deprecated function and will be removed in a future version. Please adapt your code to use either `displot` (a figure-level function with similar flexibility) or `histplot` (an axes-level function for histograms).\n",
            "  warnings.warn(msg, FutureWarning)\n",
            "/usr/local/lib/python3.9/dist-packages/seaborn/distributions.py:2619: FutureWarning: `distplot` is a deprecated function and will be removed in a future version. Please adapt your code to use either `displot` (a figure-level function with similar flexibility) or `histplot` (an axes-level function for histograms).\n",
            "  warnings.warn(msg, FutureWarning)\n",
            "/usr/local/lib/python3.9/dist-packages/seaborn/distributions.py:2619: FutureWarning: `distplot` is a deprecated function and will be removed in a future version. Please adapt your code to use either `displot` (a figure-level function with similar flexibility) or `histplot` (an axes-level function for histograms).\n",
            "  warnings.warn(msg, FutureWarning)\n",
            "/usr/local/lib/python3.9/dist-packages/seaborn/distributions.py:2619: FutureWarning: `distplot` is a deprecated function and will be removed in a future version. Please adapt your code to use either `displot` (a figure-level function with similar flexibility) or `histplot` (an axes-level function for histograms).\n",
            "  warnings.warn(msg, FutureWarning)\n",
            "/usr/local/lib/python3.9/dist-packages/seaborn/distributions.py:2619: FutureWarning: `distplot` is a deprecated function and will be removed in a future version. Please adapt your code to use either `displot` (a figure-level function with similar flexibility) or `histplot` (an axes-level function for histograms).\n",
            "  warnings.warn(msg, FutureWarning)\n",
            "/usr/local/lib/python3.9/dist-packages/seaborn/distributions.py:2619: FutureWarning: `distplot` is a deprecated function and will be removed in a future version. Please adapt your code to use either `displot` (a figure-level function with similar flexibility) or `histplot` (an axes-level function for histograms).\n",
            "  warnings.warn(msg, FutureWarning)\n",
            "/usr/local/lib/python3.9/dist-packages/seaborn/distributions.py:2619: FutureWarning: `distplot` is a deprecated function and will be removed in a future version. Please adapt your code to use either `displot` (a figure-level function with similar flexibility) or `histplot` (an axes-level function for histograms).\n",
            "  warnings.warn(msg, FutureWarning)\n",
            "/usr/local/lib/python3.9/dist-packages/seaborn/distributions.py:2619: FutureWarning: `distplot` is a deprecated function and will be removed in a future version. Please adapt your code to use either `displot` (a figure-level function with similar flexibility) or `histplot` (an axes-level function for histograms).\n",
            "  warnings.warn(msg, FutureWarning)\n",
            "/usr/local/lib/python3.9/dist-packages/seaborn/distributions.py:2619: FutureWarning: `distplot` is a deprecated function and will be removed in a future version. Please adapt your code to use either `displot` (a figure-level function with similar flexibility) or `histplot` (an axes-level function for histograms).\n",
            "  warnings.warn(msg, FutureWarning)\n",
            "/usr/local/lib/python3.9/dist-packages/seaborn/_decorators.py:36: FutureWarning: Pass the following variables as keyword args: x, y. From version 0.12, the only valid positional argument will be `data`, and passing other arguments without an explicit keyword will result in an error or misinterpretation.\n",
            "  warnings.warn(\n"
          ]
        },
        {
          "output_type": "display_data",
          "data": {
            "text/plain": [
              "<Figure size 1440x576 with 2 Axes>"
            ],
            "image/png": "[encoded data removed]"
          },
          "metadata": {
            "needs_background": "light"
          }
        }
      ]
    },
    {
      "cell_type": "code",
      "source": [
        "#Búsqueda de valores no faltantes\n",
        "valores_faltantes = datos.isnull()\n",
        "# Obtener la cantidad total de valores no faltantes por columna\n",
        "cantidad_faltantes = valores_faltantes.sum()\n",
        "cantidad_faltantes[cantidad_faltantes != 0]"
      ],
      "metadata": {
        "colab": {
          "base_uri": "https://localhost:8080/"
        },
        "id": "Da4smCKyOY_l",
        "outputId": "417281b9-04d5-4318-ec0b-9f2519a6c034"
      },
      "execution_count": null,
      "outputs": [
        {
          "output_type": "execute_result",
          "data": {
            "text/plain": [
              "Employment_Info_1         19\n",
              "Employment_Info_4       6779\n",
              "Employment_Info_6      10854\n",
              "Insurance_History_5    25396\n",
              "Family_Hist_2          28656\n",
              "Family_Hist_3          34241\n",
              "Family_Hist_4          19184\n",
              "Family_Hist_5          41811\n",
              "Medical_History_1       8889\n",
              "Medical_History_10     58824\n",
              "Medical_History_15     44596\n",
              "Medical_History_24     55580\n",
              "Medical_History_32     58274\n",
              "dtype: int64"
            ]
          },
          "metadata": {},
          "execution_count": 43
        }
      ]
    }
  ]
}