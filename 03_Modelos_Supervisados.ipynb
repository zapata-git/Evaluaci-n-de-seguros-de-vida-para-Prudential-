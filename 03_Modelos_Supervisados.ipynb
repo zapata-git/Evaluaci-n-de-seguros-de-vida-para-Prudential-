{
  "cells": [
    {
      "cell_type": "markdown",
      "metadata": {
        "id": "view-in-github",
        "colab_type": "text"
      },
      "source": [
        "<a href=\"https://colab.research.google.com/github/zapata-git/Evaluacion-de-seguros-de-vida-para-Prudential-/blob/main/03_Modelos_Supervisados.ipynb\" target=\"_parent\"><img src=\"https://colab.research.google.com/assets/colab-badge.svg\" alt=\"Open In Colab\"/></a>"
      ]
    },
    {
      "cell_type": "markdown",
      "metadata": {
        "id": "ozL5OfH7B_kQ"
      },
      "source": [
        "# **ProyectoIA_Seguros_Prudential**\n",
        "*Este conjunto de datos contiene información sobre solicitantes de seguros para la compañía Prudential. Se busca crear un algoritmo que perfile solicitantes en una escala de 8 niveles.*\n",
        "\n",
        "*El conjunto de datos proporcionado contiene variables que describen los atributos de los solicitantes de seguros de vida. La tarea consiste en predecir la variable \"Response\" para cada ID en el conjunto de prueba. \"Response\" es una medida ordinal de riesgo que tiene 8 niveles.*\n",
        "\n",
        "---\n",
        "\n",
        "\n"
      ]
    },
    {
      "cell_type": "markdown",
      "metadata": {
        "id": "hK60r-eAqAzT"
      },
      "source": [
        "#Preparación de datos.\n",
        "Importamos las bibliotecas necesarias y cargamos el conjunto de datos:"
      ]
    },
    {
      "cell_type": "code",
      "execution_count": 1,
      "metadata": {
        "id": "cEOP_ZC5Be7G",
        "colab": {
          "base_uri": "https://localhost:8080/"
        },
        "outputId": "ab0d014c-e5cd-4062-80f2-1b1b3d7eb3f6"
      },
      "outputs": [
        {
          "output_type": "stream",
          "name": "stdout",
          "text": [
            "Mounted at /content/drive\n"
          ]
        }
      ],
      "source": [
        "import pandas as pd\n",
        "import numpy as np\n",
        "from sklearn.preprocessing import StandardScaler\n",
        "from google.colab import files\n",
        "from google.colab import drive\n",
        "drive.mount('/content/drive')\n",
        "#Algunas advertencias que queremos evitar\n",
        "import warnings\n",
        "warnings.filterwarnings(\"ignore\")"
      ]
    },
    {
      "cell_type": "code",
      "execution_count": 2,
      "metadata": {
        "id": "LLPEyncj-ml3"
      },
      "outputs": [],
      "source": [
        "#Para estimar accuracies a partir de métodos de SciKit-Learn en el modelo basado en redes neuronales que usa Tensorflow con Keras\n",
        "!pip install scikeras --quiet"
      ]
    },
    {
      "cell_type": "markdown",
      "metadata": {
        "id": "DIZG7JYArU9n"
      },
      "source": [
        "#Instalación de Jovian y Kaggle mediante pip\n",
        "\n",
        "* El paquete jovian se utiliza para guardar y compartir proyectos de ciencia de datos en línea.\n",
        "\n",
        "* El paquete kaggle proporciona una API de línea de comandos para interactuar con Kaggle, una plataforma en línea para competiciones de ciencia de datos y conjuntos de datos."
      ]
    },
    {
      "cell_type": "code",
      "execution_count": 3,
      "metadata": {
        "id": "K3CyPMrYZ0iu",
        "colab": {
          "base_uri": "https://localhost:8080/"
        },
        "outputId": "77ea431f-8522-4ef2-ff51-ff3fffc03b40"
      },
      "outputs": [
        {
          "output_type": "stream",
          "name": "stdout",
          "text": [
            "\u001b[?25l     \u001b[90m━━━━━━━━━━━━━━━━━━━━━━━━━━━━━━━━━━━━━━━━\u001b[0m \u001b[32m0.0/68.6 kB\u001b[0m \u001b[31m?\u001b[0m eta \u001b[36m-:--:--\u001b[0m\r\u001b[2K     \u001b[90m━━━━━━━━━━━━━━━━━━━━━━━━━━━━━━━━━━━━━━━━\u001b[0m \u001b[32m68.6/68.6 kB\u001b[0m \u001b[31m2.4 MB/s\u001b[0m eta \u001b[36m0:00:00\u001b[0m\n",
            "\u001b[?25h  Preparing metadata (setup.py) ... \u001b[?25l\u001b[?25hdone\n",
            "  Building wheel for uuid (setup.py) ... \u001b[?25l\u001b[?25hdone\n"
          ]
        }
      ],
      "source": [
        "!pip install jovian --upgrade --quiet\n",
        "!pip install -q kaggle"
      ]
    },
    {
      "cell_type": "code",
      "execution_count": null,
      "metadata": {
        "id": "3cbQUIIhZ3JY"
      },
      "outputs": [],
      "source": [
        "import jovian"
      ]
    },
    {
      "cell_type": "code",
      "execution_count": 4,
      "metadata": {
        "id": "fikfzepNOge6",
        "colab": {
          "base_uri": "https://localhost:8080/",
          "height": 91
        },
        "outputId": "b68aec77-86b8-497f-ab47-97306c2bca9f"
      },
      "outputs": [
        {
          "output_type": "display_data",
          "data": {
            "text/plain": [
              "<IPython.core.display.HTML object>"
            ],
            "text/html": [
              "\n",
              "     <input type=\"file\" id=\"files-0db76b8a-27b2-4be9-aba8-43d376e69ec0\" name=\"files[]\" multiple disabled\n",
              "        style=\"border:none\" />\n",
              "     <output id=\"result-0db76b8a-27b2-4be9-aba8-43d376e69ec0\">\n",
              "      Upload widget is only available when the cell has been executed in the\n",
              "      current browser session. Please rerun this cell to enable.\n",
              "      </output>\n",
              "      <script>// Copyright 2017 Google LLC\n",
              "//\n",
              "// Licensed under the Apache License, Version 2.0 (the \"License\");\n",
              "// you may not use this file except in compliance with the License.\n",
              "// You may obtain a copy of the License at\n",
              "//\n",
              "//      http://www.apache.org/licenses/LICENSE-2.0\n",
              "//\n",
              "// Unless required by applicable law or agreed to in writing, software\n",
              "// distributed under the License is distributed on an \"AS IS\" BASIS,\n",
              "// WITHOUT WARRANTIES OR CONDITIONS OF ANY KIND, either express or implied.\n",
              "// See the License for the specific language governing permissions and\n",
              "// limitations under the License.\n",
              "\n",
              "/**\n",
              " * @fileoverview Helpers for google.colab Python module.\n",
              " */\n",
              "(function(scope) {\n",
              "function span(text, styleAttributes = {}) {\n",
              "  const element = document.createElement('span');\n",
              "  element.textContent = text;\n",
              "  for (const key of Object.keys(styleAttributes)) {\n",
              "    element.style[key] = styleAttributes[key];\n",
              "  }\n",
              "  return element;\n",
              "}\n",
              "\n",
              "// Max number of bytes which will be uploaded at a time.\n",
              "const MAX_PAYLOAD_SIZE = 100 * 1024;\n",
              "\n",
              "function _uploadFiles(inputId, outputId) {\n",
              "  const steps = uploadFilesStep(inputId, outputId);\n",
              "  const outputElement = document.getElementById(outputId);\n",
              "  // Cache steps on the outputElement to make it available for the next call\n",
              "  // to uploadFilesContinue from Python.\n",
              "  outputElement.steps = steps;\n",
              "\n",
              "  return _uploadFilesContinue(outputId);\n",
              "}\n",
              "\n",
              "// This is roughly an async generator (not supported in the browser yet),\n",
              "// where there are multiple asynchronous steps and the Python side is going\n",
              "// to poll for completion of each step.\n",
              "// This uses a Promise to block the python side on completion of each step,\n",
              "// then passes the result of the previous step as the input to the next step.\n",
              "function _uploadFilesContinue(outputId) {\n",
              "  const outputElement = document.getElementById(outputId);\n",
              "  const steps = outputElement.steps;\n",
              "\n",
              "  const next = steps.next(outputElement.lastPromiseValue);\n",
              "  return Promise.resolve(next.value.promise).then((value) => {\n",
              "    // Cache the last promise value to make it available to the next\n",
              "    // step of the generator.\n",
              "    outputElement.lastPromiseValue = value;\n",
              "    return next.value.response;\n",
              "  });\n",
              "}\n",
              "\n",
              "/**\n",
              " * Generator function which is called between each async step of the upload\n",
              " * process.\n",
              " * @param {string} inputId Element ID of the input file picker element.\n",
              " * @param {string} outputId Element ID of the output display.\n",
              " * @return {!Iterable<!Object>} Iterable of next steps.\n",
              " */\n",
              "function* uploadFilesStep(inputId, outputId) {\n",
              "  const inputElement = document.getElementById(inputId);\n",
              "  inputElement.disabled = false;\n",
              "\n",
              "  const outputElement = document.getElementById(outputId);\n",
              "  outputElement.innerHTML = '';\n",
              "\n",
              "  const pickedPromise = new Promise((resolve) => {\n",
              "    inputElement.addEventListener('change', (e) => {\n",
              "      resolve(e.target.files);\n",
              "    });\n",
              "  });\n",
              "\n",
              "  const cancel = document.createElement('button');\n",
              "  inputElement.parentElement.appendChild(cancel);\n",
              "  cancel.textContent = 'Cancel upload';\n",
              "  const cancelPromise = new Promise((resolve) => {\n",
              "    cancel.onclick = () => {\n",
              "      resolve(null);\n",
              "    };\n",
              "  });\n",
              "\n",
              "  // Wait for the user to pick the files.\n",
              "  const files = yield {\n",
              "    promise: Promise.race([pickedPromise, cancelPromise]),\n",
              "    response: {\n",
              "      action: 'starting',\n",
              "    }\n",
              "  };\n",
              "\n",
              "  cancel.remove();\n",
              "\n",
              "  // Disable the input element since further picks are not allowed.\n",
              "  inputElement.disabled = true;\n",
              "\n",
              "  if (!files) {\n",
              "    return {\n",
              "      response: {\n",
              "        action: 'complete',\n",
              "      }\n",
              "    };\n",
              "  }\n",
              "\n",
              "  for (const file of files) {\n",
              "    const li = document.createElement('li');\n",
              "    li.append(span(file.name, {fontWeight: 'bold'}));\n",
              "    li.append(span(\n",
              "        `(${file.type || 'n/a'}) - ${file.size} bytes, ` +\n",
              "        `last modified: ${\n",
              "            file.lastModifiedDate ? file.lastModifiedDate.toLocaleDateString() :\n",
              "                                    'n/a'} - `));\n",
              "    const percent = span('0% done');\n",
              "    li.appendChild(percent);\n",
              "\n",
              "    outputElement.appendChild(li);\n",
              "\n",
              "    const fileDataPromise = new Promise((resolve) => {\n",
              "      const reader = new FileReader();\n",
              "      reader.onload = (e) => {\n",
              "        resolve(e.target.result);\n",
              "      };\n",
              "      reader.readAsArrayBuffer(file);\n",
              "    });\n",
              "    // Wait for the data to be ready.\n",
              "    let fileData = yield {\n",
              "      promise: fileDataPromise,\n",
              "      response: {\n",
              "        action: 'continue',\n",
              "      }\n",
              "    };\n",
              "\n",
              "    // Use a chunked sending to avoid message size limits. See b/62115660.\n",
              "    let position = 0;\n",
              "    do {\n",
              "      const length = Math.min(fileData.byteLength - position, MAX_PAYLOAD_SIZE);\n",
              "      const chunk = new Uint8Array(fileData, position, length);\n",
              "      position += length;\n",
              "\n",
              "      const base64 = btoa(String.fromCharCode.apply(null, chunk));\n",
              "      yield {\n",
              "        response: {\n",
              "          action: 'append',\n",
              "          file: file.name,\n",
              "          data: base64,\n",
              "        },\n",
              "      };\n",
              "\n",
              "      let percentDone = fileData.byteLength === 0 ?\n",
              "          100 :\n",
              "          Math.round((position / fileData.byteLength) * 100);\n",
              "      percent.textContent = `${percentDone}% done`;\n",
              "\n",
              "    } while (position < fileData.byteLength);\n",
              "  }\n",
              "\n",
              "  // All done.\n",
              "  yield {\n",
              "    response: {\n",
              "      action: 'complete',\n",
              "    }\n",
              "  };\n",
              "}\n",
              "\n",
              "scope.google = scope.google || {};\n",
              "scope.google.colab = scope.google.colab || {};\n",
              "scope.google.colab._files = {\n",
              "  _uploadFiles,\n",
              "  _uploadFilesContinue,\n",
              "};\n",
              "})(self);\n",
              "</script> "
            ]
          },
          "metadata": {}
        },
        {
          "output_type": "stream",
          "name": "stdout",
          "text": [
            "Saving kaggle.json to kaggle.json\n"
          ]
        },
        {
          "output_type": "execute_result",
          "data": {
            "text/plain": [
              "{'kaggle.json': b'{\"username\":\"carlosozapata\",\"key\":\"1ea90523afd866a234b17caeb4677869\"}'}"
            ]
          },
          "metadata": {},
          "execution_count": 4
        }
      ],
      "source": [
        "#PARA EJECUTAR ESTA LÍNEA, EN EL COMPUTADOR QUE SE EJECUTE DEBE HABER UNA COPIA DEL JSON WEB TOKEN\n",
        "#DESCARGABLE DESDE LA PÁGINA DE UNA CUENTA DE KAGGLE EN https://www.kaggle.com/settings/account?...\n",
        "#ESTE JSON WEB TOKEN ES PERSONAL DE CADA CUENTA Y SIRVE COMO IDENTIFICADOR DE ACCESO.\n",
        "#CARGUE EL JSON QUE USTED DESCARGÓ DE SU CUENTA DE KAGGLE\n",
        "files.upload()"
      ]
    },
    {
      "cell_type": "markdown",
      "metadata": {
        "id": "1Qzu1NWq1UvL"
      },
      "source": [
        "#Extracción de los archivos del conjunto de datos descargados desde Kaggle\n",
        "\n",
        "* El conjunto de datos descargado ya contiene separados los datos de train y de test.\n",
        "\n",
        "* Los archivos quedan almacenados en el entorno de ejecución de Google Colab siempre y cuando se haya autorizado el acceso de la cuenta de Google a este. Esto se debió realizar en bloques de código anteriores."
      ]
    },
    {
      "cell_type": "code",
      "execution_count": null,
      "metadata": {
        "id": "2cdH7WN1OrFZ",
        "colab": {
          "base_uri": "https://localhost:8080/"
        },
        "outputId": "25ea6b39-6952-408b-99e6-01f928d253ed"
      },
      "outputs": [
        {
          "output_type": "stream",
          "name": "stdout",
          "text": [
            "rm: cannot remove '/root/.kaggle': No such file or directory\n"
          ]
        }
      ],
      "source": [
        "!rm -r ~/.kaggle\n",
        "!mkdir ~/.kaggle\n",
        "!cp kaggle.json ~/.kaggle/\n",
        "!mv ./kaggle.json ~/.kaggle/\n",
        "!chmod 600 ~/.kaggle/kaggle.json\n",
        "#!kaggle datasets list"
      ]
    },
    {
      "cell_type": "code",
      "execution_count": null,
      "metadata": {
        "id": "yfNtIlJSnbn6",
        "colab": {
          "base_uri": "https://localhost:8080/"
        },
        "outputId": "58927daa-562a-4db8-f9cf-65ff25f10dda"
      },
      "outputs": [
        {
          "output_type": "stream",
          "name": "stdout",
          "text": [
            "Downloading prudential-life-insurance-assessment.zip to /content\n",
            "\r  0% 0.00/3.24M [00:00<?, ?B/s]\n",
            "\r100% 3.24M/3.24M [00:00<00:00, 167MB/s]\n"
          ]
        }
      ],
      "source": [
        "#Para descargar el conjunto de datos desde Kaggle al drive local de Google\n",
        "!kaggle competitions download 'prudential-life-insurance-assessment'"
      ]
    },
    {
      "cell_type": "code",
      "execution_count": null,
      "metadata": {
        "id": "s2v4QzbEpWo_",
        "colab": {
          "base_uri": "https://localhost:8080/"
        },
        "outputId": "6c8deed0-3e07-4455-ab28-b8a95c91f2c7"
      },
      "outputs": [
        {
          "output_type": "stream",
          "name": "stdout",
          "text": [
            "Extracción de archivos en proceso...\n",
            "Extracción terminada\n",
            "/content\n"
          ]
        }
      ],
      "source": [
        "#Para descomprimir los archivos .zip que haya y guardarlos en el entorno de ejecución\n",
        "import os\n",
        "from zipfile import ZipFile \n",
        "  \n",
        "#Se indica el nombre del archivo  traído desde Kaggle\n",
        "file = \"prudential-life-insurance-assessment.zip\"\n",
        "  \n",
        "#Se abre el archivo en modo lectura\n",
        "with ZipFile(file, 'r') as zip:\n",
        "  \n",
        "    #Se extraen todos los archivos\n",
        "    print('Extracción de archivos en proceso...') \n",
        "    zip.extractall() \n",
        "    print('Extracción terminada')\n",
        "\n",
        "%cd \"/content/\"\n",
        "\n",
        "for archivo in os.listdir():\n",
        "  if archivo.endswith(\".zip\"):\n",
        "    with ZipFile(archivo, 'r') as zip_ref:\n",
        "      zip_ref.extractall(\"/content/\")\n",
        "\n"
      ]
    },
    {
      "cell_type": "code",
      "execution_count": null,
      "metadata": {
        "id": "peuSiVHSCdPN"
      },
      "outputs": [],
      "source": [
        "#Se declara el conjunto de datos\n",
        "datos = pd.read_csv(\"/content/train.csv\")"
      ]
    },
    {
      "cell_type": "markdown",
      "metadata": {
        "id": "LXPJ_hSEJR7_"
      },
      "source": [
        "#Preprocesado.\n",
        "\n",
        "Se llenan los valores faltantes con la moda si se trata de variables categóricas y la mediana si se trata de variables numéricas."
      ]
    },
    {
      "cell_type": "code",
      "execution_count": null,
      "metadata": {
        "id": "f0ZPEUjbJDWm"
      },
      "outputs": [],
      "source": [
        "from sklearn.impute import SimpleImputer\n",
        "from sklearn.preprocessing import OneHotEncoder\n",
        "\n",
        "#Cargar los archivos de datos\n",
        "#train_data = pd.read_csv('train.csv')\n",
        "test_data = pd.read_csv('test.csv')\n",
        "\n",
        "# Realizar el preprocesamiento de los datos\n",
        "# Eliminar la columna \"Response\" del conjunto de entrenamiento y las columnas \"Id\" de ambos conjuntos entrenamiento y prueba\n",
        "#Definir la columna \"Response\" como el y de entrenamiento y restarle 1 a todos los valores en ella para que la red neuronal pueda indexar\n",
        "X_train = datos.drop(columns = ['Id', 'Response'])\n",
        "y_train = datos['Response']\n",
        "X_test = test_data.drop(columns = ['Id'])\n",
        "\n",
        "# Imputar los valores faltantes en los datos numéricos con la mediana\n",
        "num_cols = X_train.select_dtypes(include='number').columns\n",
        "num_imputer = SimpleImputer(strategy='median')\n",
        "X_train[num_cols] = num_imputer.fit_transform(X_train[num_cols])\n",
        "X_test[num_cols] = num_imputer.transform(X_test[num_cols])\n",
        "\n",
        "# Imputar los valores faltantes en los datos categóricos con la moda\n",
        "cat_cols = X_train.select_dtypes(include='object').columns\n",
        "cat_imputer = SimpleImputer(strategy='most_frequent')\n",
        "X_train[cat_cols] = cat_imputer.fit_transform(X_train[cat_cols])\n",
        "X_test[cat_cols] = cat_imputer.transform(X_test[cat_cols])\n",
        "\n",
        "#Se aplica one-hot-encoding a los datos de entrenamiento (X_train) y a los datos de prueba (X_test)\n",
        "ohe = OneHotEncoder()\n",
        "array_categorias = ohe.fit_transform(X_train[['Product_Info_2']]).toarray()\n",
        "etiqu_categorias = ohe.categories_\n",
        "array_categorias_test = ohe.transform(X_test[['Product_Info_2']]).toarray()\n",
        "categorias_en_columnas_ohe = pd.DataFrame(array_categorias, columns = etiqu_categorias)\n",
        "categorias_en_columnas_ohe_test = pd.DataFrame(array_categorias_test, columns = etiqu_categorias)\n",
        "X_train = pd.concat([X_train, categorias_en_columnas_ohe], axis =1)\n",
        "X_train = X_train.drop(columns = ['Product_Info_2'])\n",
        "X_test = pd.concat([X_test, categorias_en_columnas_ohe_test], axis =1)\n",
        "X_test = X_test.drop(columns = ['Product_Info_2'])\n",
        "X_train.rename(columns=''.join, inplace=True)\n",
        "X_test.rename(columns=''.join, inplace=True)"
      ]
    },
    {
      "cell_type": "code",
      "execution_count": null,
      "metadata": {
        "id": "O4a3z-XaIkhJ"
      },
      "outputs": [],
      "source": [
        "#Se corrobora que en la variable de respuesta y_train no haya valores faltantes para validar si se requiere imputar valores faltantes\n",
        "conteo_y = y_train.count()\n",
        "distribucion_y = y_train.value_counts(dropna=False)\n",
        "#conteo_y, distribucion_y"
      ]
    },
    {
      "cell_type": "markdown",
      "metadata": {
        "id": "yi1anFUBO9vZ"
      },
      "source": [
        "#Modelos Supervisados\n",
        "Acá escribimos qué modelos supervisados vamos a implementar y por qué."
      ]
    },
    {
      "cell_type": "code",
      "execution_count": null,
      "metadata": {
        "id": "RQWORiOzTnNo"
      },
      "outputs": [],
      "source": [
        "#Proceso de normalización de los datos. Util para algunos métodos de predicción, excepto random forest, en el cuál no redunda en mucha utilidad\n",
        "from sklearn.preprocessing import StandardScaler\n",
        "scaler = StandardScaler()\n",
        "X_train_columnas = X_train.columns.tolist()\n",
        "X_test_columnas = X_test.columns.tolist()\n",
        "X_train_escalado = scaler.fit_transform(X_train)\n",
        "X_test_escalado = scaler.transform(X_test)\n",
        "X_train_scaled = pd.DataFrame(X_train_escalado, columns = X_train_columnas)\n",
        "X_test_scaled = pd.DataFrame(X_test_escalado, columns = X_test_columnas)"
      ]
    },
    {
      "cell_type": "markdown",
      "metadata": {
        "id": "fPEBiC3fxRUd"
      },
      "source": [
        "#Clasificación usando redes neuronales"
      ]
    },
    {
      "cell_type": "code",
      "execution_count": null,
      "metadata": {
        "colab": {
          "base_uri": "https://localhost:8080/"
        },
        "id": "jZ8PELUxVnV0",
        "outputId": "510bbdac-9401-4bc5-e57e-1cc771778b0c"
      },
      "outputs": [
        {
          "output_type": "stream",
          "name": "stdout",
          "text": [
            "Colab only includes TensorFlow 2.x; %tensorflow_version has no effect.\n",
            "Using TF2 in Google Colab\n",
            "Epoch 1/3\n",
            "47504/47504 [==============================] - 71s 1ms/step - loss: 2.5978 - accuracy: 0.2516\n",
            "Epoch 2/3\n",
            "47504/47504 [==============================] - 68s 1ms/step - loss: 2.6046 - accuracy: 0.2547\n",
            "Epoch 3/3\n",
            "47504/47504 [==============================] - 65s 1ms/step - loss: 2.6151 - accuracy: 0.2529\n",
            "\n",
            "\n",
            "372/372 [==============================] - 1s 1ms/step - loss: 2.7880 - accuracy: 0.3288\n",
            "\n",
            "\n",
            "\n",
            "Epoch 1/3\n",
            "47505/47505 [==============================] - 69s 1ms/step - loss: 2.8430 - accuracy: 0.2458\n",
            "Epoch 2/3\n",
            "47505/47505 [==============================] - 67s 1ms/step - loss: 2.8456 - accuracy: 0.2498\n",
            "Epoch 3/3\n",
            "47505/47505 [==============================] - 67s 1ms/step - loss: 2.8563 - accuracy: 0.2472\n",
            "\n",
            "\n",
            "372/372 [==============================] - 1s 1ms/step - loss: 3.4334 - accuracy: 0.1374\n",
            "\n",
            "\n",
            "\n",
            "Epoch 1/3\n",
            "47505/47505 [==============================] - 68s 1ms/step - loss: 2.6358 - accuracy: 0.2423\n",
            "Epoch 2/3\n",
            "47505/47505 [==============================] - 71s 1ms/step - loss: 2.6315 - accuracy: 0.2473\n",
            "Epoch 3/3\n",
            "47505/47505 [==============================] - 69s 1ms/step - loss: 2.5773 - accuracy: 0.2669\n",
            "\n",
            "\n",
            "372/372 [==============================] - 1s 1ms/step - loss: 2.5831 - accuracy: 0.2221\n",
            "\n",
            "\n",
            "\n",
            "Epoch 1/3\n",
            "47505/47505 [==============================] - 67s 1ms/step - loss: 3.0757 - accuracy: 0.2481\n",
            "Epoch 2/3\n",
            "47505/47505 [==============================] - 67s 1ms/step - loss: 3.0867 - accuracy: 0.2508\n",
            "Epoch 3/3\n",
            "47505/47505 [==============================] - 70s 1ms/step - loss: 3.0876 - accuracy: 0.2491\n",
            "\n",
            "\n",
            "372/372 [==============================] - 1s 2ms/step - loss: 2.7856 - accuracy: 0.1844\n",
            "\n",
            "\n",
            "\n",
            "Epoch 1/3\n",
            "47505/47505 [==============================] - 67s 1ms/step - loss: 2.8155 - accuracy: 0.2521\n",
            "Epoch 2/3\n",
            "47505/47505 [==============================] - 67s 1ms/step - loss: 2.8191 - accuracy: 0.2558\n",
            "Epoch 3/3\n",
            "47505/47505 [==============================] - 69s 1ms/step - loss: 2.8116 - accuracy: 0.2621\n",
            "\n",
            "\n",
            "372/372 [==============================] - 1s 2ms/step - loss: 3.0325 - accuracy: 0.2724\n",
            "\n",
            "\n",
            "\n"
          ]
        }
      ],
      "source": [
        "#Se somete a análisis el modelo bajo un enfoque de k-fold cross-validation (validación cruzada de k iteraciones)\n",
        "from sklearn.model_selection import KFold\n",
        "#Para determinar métricas del desempeño del modelo para predecir\n",
        "import matplotlib.pyplot as plt\n",
        "from sklearn.metrics import confusion_matrix, ConfusionMatrixDisplay\n",
        "#Se recurre a la librería Tensorflow\n",
        "from IPython.display import Image\n",
        "try:\n",
        "    %tensorflow_version 2.x\n",
        "    print (\"Using TF2 in Google Colab\")\n",
        "except:\n",
        "    pass\n",
        "\n",
        "import tensorflow as tf\n",
        "\n",
        "#Se define un número de particiones para realizar cross-validation esa misma cantidad de veces\n",
        "k = 5\n",
        "\n",
        "#Se define la cantidad de etiquetas de salida (nc) y la cantidad de neuronas en la capa de entrada igua a la cantidad de columnas\n",
        "#m = número de filas, n = número de columnas\n",
        "#nc = cantidad de clases, en este caso, 8 clases\n",
        "nc = 8\n",
        "m = X_train_scaled.shape[0]\n",
        "n = X_train_scaled.shape[1]\n",
        "\n",
        "#Se instancia KFold para contar con 5 iteraciones de la partición del conjunto de datos\n",
        "kf = KFold(n_splits=k, shuffle=True)\n",
        "\n",
        "#Se resta 1 a todos los valores en y_train para que la red neuronal pueda indexar\n",
        "y_train = datos['Response']\n",
        "y_train = y_train.subtract(1)\n",
        "\n",
        "\n",
        "for train_index, test_index in kf.split(datos):\n",
        "  X_tr, X_ts = X_train_scaled.iloc[train_index], X_train_scaled.iloc[test_index]\n",
        "  y_tr, y_ts = y_train.iloc[train_index], y_train.iloc[test_index]\n",
        "  \n",
        "  #Se definen la cantidad de unidades (h1, h2) para cada capa oculta\n",
        "  #h1 = cantidad de neuronas en la primera capa oculta\n",
        "  #h2 = cantidad de neuronas en la segunda capa oculta\n",
        "  h1 = np.random.randint(5)+5\n",
        "  h2 = np.random.randint(5)+5\n",
        "\n",
        "  model = tf.keras.Sequential(\n",
        "        [\n",
        "         tf.keras.layers.Dense(h1, activation='tanh', dtype=tf.float32),\n",
        "         tf.keras.layers.Dense(h2, activation='tanh', dtype=tf.float32),\n",
        "         tf.keras.layers.Dense(8, activation='sigmoid', dtype=tf.float32)\n",
        "        ]\n",
        "         )\n",
        "  model.build(input_shape=[None, n])\n",
        "\n",
        "  model.compile(optimizer=tf.keras.optimizers.SGD(learning_rate = .5), loss='sparse_categorical_crossentropy', metrics=['accuracy'])\n",
        "  model.fit(X_tr.to_numpy(), y_tr.to_numpy(), epochs = 3, batch_size = 1)\n",
        "  print(\"\\n\")\n",
        "  model.evaluate(X_ts, y_ts)\n",
        "  print(\"\\n\\n\")"
      ]
    },
    {
      "cell_type": "code",
      "execution_count": null,
      "metadata": {
        "colab": {
          "base_uri": "https://localhost:8080/"
        },
        "id": "rN5kV8MOalre",
        "outputId": "f9331e2a-c605-43f8-bd95-7c80b8f28d4f"
      },
      "outputs": [
        {
          "output_type": "stream",
          "name": "stdout",
          "text": [
            "372/372 [==============================] - 1s 1ms/step - loss: 3.0325 - accuracy: 0.2724\n"
          ]
        },
        {
          "output_type": "execute_result",
          "data": {
            "text/plain": [
              "[3.032461166381836, 0.27239811420440674]"
            ]
          },
          "metadata": {},
          "execution_count": 24
        }
      ],
      "source": [
        "model.evaluate(X_ts, y_ts)"
      ]
    },
    {
      "cell_type": "code",
      "execution_count": null,
      "metadata": {
        "colab": {
          "base_uri": "https://localhost:8080/"
        },
        "id": "dUCAY9_PapJN",
        "outputId": "4a7cfeb7-8094-4584-df8a-a30d20fb2f9e"
      },
      "outputs": [
        {
          "output_type": "stream",
          "name": "stdout",
          "text": [
            "Model: \"sequential_4\"\n",
            "_________________________________________________________________\n",
            " Layer (type)                Output Shape              Param #   \n",
            "=================================================================\n",
            " dense_12 (Dense)            (None, 6)                 870       \n",
            "                                                                 \n",
            " dense_13 (Dense)            (None, 6)                 42        \n",
            "                                                                 \n",
            " dense_14 (Dense)            (None, 8)                 56        \n",
            "                                                                 \n",
            "=================================================================\n",
            "Total params: 968\n",
            "Trainable params: 968\n",
            "Non-trainable params: 0\n",
            "_________________________________________________________________\n"
          ]
        }
      ],
      "source": [
        "model.summary()"
      ]
    },
    {
      "cell_type": "code",
      "execution_count": null,
      "metadata": {
        "colab": {
          "base_uri": "https://localhost:8080/",
          "height": 1000
        },
        "id": "Z0A7aUgv3XyA",
        "outputId": "784cf495-a014-4934-f9ef-925565d962b5"
      },
      "outputs": [
        {
          "output_type": "stream",
          "name": "stderr",
          "text": [
            "WARNING:absl:Found untraced functions such as _update_step_xla while saving (showing 1 of 1). These functions will not be directly callable after loading.\n",
            "WARNING:absl:Found untraced functions such as _update_step_xla while saving (showing 1 of 1). These functions will not be directly callable after loading.\n",
            "WARNING:absl:Found untraced functions such as _update_step_xla while saving (showing 1 of 1). These functions will not be directly callable after loading.\n",
            "WARNING:absl:Found untraced functions such as _update_step_xla while saving (showing 1 of 1). These functions will not be directly callable after loading.\n",
            "WARNING:tensorflow:Detecting that an object or model or tf.train.Checkpoint is being deleted with unrestored values. See the following logs for the specific values in question. To silence these warnings, use `status.expect_partial()`. See https://www.tensorflow.org/api_docs/python/tf/train/Checkpoint#restorefor details about the status object returned by the restore function.\n",
            "WARNING:tensorflow:Value in checkpoint could not be found in the restored object: (root).keras_api.metrics.0.total\n",
            "WARNING:tensorflow:Value in checkpoint could not be found in the restored object: (root).keras_api.metrics.0.count\n",
            "WARNING:tensorflow:Value in checkpoint could not be found in the restored object: (root).keras_api.metrics.1.total\n",
            "WARNING:tensorflow:Value in checkpoint could not be found in the restored object: (root).keras_api.metrics.1.count\n",
            "WARNING:tensorflow:Detecting that an object or model or tf.train.Checkpoint is being deleted with unrestored values. See the following logs for the specific values in question. To silence these warnings, use `status.expect_partial()`. See https://www.tensorflow.org/api_docs/python/tf/train/Checkpoint#restorefor details about the status object returned by the restore function.\n",
            "WARNING:tensorflow:Value in checkpoint could not be found in the restored object: (root).keras_api.metrics.0.total\n",
            "WARNING:tensorflow:Value in checkpoint could not be found in the restored object: (root).keras_api.metrics.0.count\n",
            "WARNING:tensorflow:Value in checkpoint could not be found in the restored object: (root).keras_api.metrics.1.total\n",
            "WARNING:tensorflow:Value in checkpoint could not be found in the restored object: (root).keras_api.metrics.1.count\n",
            "WARNING:tensorflow:Detecting that an object or model or tf.train.Checkpoint is being deleted with unrestored values. See the following logs for the specific values in question. To silence these warnings, use `status.expect_partial()`. See https://www.tensorflow.org/api_docs/python/tf/train/Checkpoint#restorefor details about the status object returned by the restore function.\n",
            "WARNING:tensorflow:Value in checkpoint could not be found in the restored object: (root).keras_api.metrics.0.total\n",
            "WARNING:tensorflow:Value in checkpoint could not be found in the restored object: (root).keras_api.metrics.0.count\n",
            "WARNING:tensorflow:Value in checkpoint could not be found in the restored object: (root).keras_api.metrics.1.total\n",
            "WARNING:tensorflow:Value in checkpoint could not be found in the restored object: (root).keras_api.metrics.1.count\n",
            "WARNING:absl:Found untraced functions such as _update_step_xla while saving (showing 1 of 1). These functions will not be directly callable after loading.\n"
          ]
        },
        {
          "output_type": "error",
          "ename": "ValueError",
          "evalue": "ignored",
          "traceback": [
            "\u001b[0;31m---------------------------------------------------------------------------\u001b[0m",
            "\u001b[0;31mValueError\u001b[0m                                Traceback (most recent call last)",
            "\u001b[0;32m<ipython-input-41-ac274c866ce1>\u001b[0m in \u001b[0;36m<cell line: 6>\u001b[0;34m()\u001b[0m\n\u001b[1;32m      4\u001b[0m \u001b[0mclasif_keras_a_sklearn\u001b[0m \u001b[0;34m=\u001b[0m \u001b[0mKerasClassifier\u001b[0m\u001b[0;34m(\u001b[0m\u001b[0mbuild_fn\u001b[0m\u001b[0;34m=\u001b[0m\u001b[0mmodel\u001b[0m\u001b[0;34m,\u001b[0m \u001b[0mepochs\u001b[0m\u001b[0;34m=\u001b[0m\u001b[0;36m3\u001b[0m\u001b[0;34m,\u001b[0m \u001b[0mbatch_size\u001b[0m\u001b[0;34m=\u001b[0m\u001b[0;36m1\u001b[0m\u001b[0;34m,\u001b[0m \u001b[0mverbose\u001b[0m\u001b[0;34m=\u001b[0m\u001b[0;36m0\u001b[0m\u001b[0;34m)\u001b[0m\u001b[0;34m\u001b[0m\u001b[0;34m\u001b[0m\u001b[0m\n\u001b[1;32m      5\u001b[0m \u001b[0;34m\u001b[0m\u001b[0m\n\u001b[0;32m----> 6\u001b[0;31m \u001b[0mscores\u001b[0m \u001b[0;34m=\u001b[0m \u001b[0mcross_val_score\u001b[0m\u001b[0;34m(\u001b[0m\u001b[0mclasif_keras_a_sklearn\u001b[0m \u001b[0;34m,\u001b[0m \u001b[0mX_train_scaled\u001b[0m\u001b[0;34m,\u001b[0m \u001b[0my_train\u001b[0m\u001b[0;34m,\u001b[0m \u001b[0mcv\u001b[0m\u001b[0;34m=\u001b[0m\u001b[0;36m5\u001b[0m\u001b[0;34m,\u001b[0m \u001b[0mscoring\u001b[0m \u001b[0;34m=\u001b[0m \u001b[0;34m'accuracy'\u001b[0m\u001b[0;34m)\u001b[0m\u001b[0;34m\u001b[0m\u001b[0;34m\u001b[0m\u001b[0m\n\u001b[0m\u001b[1;32m      7\u001b[0m \u001b[0;31m#print(scores)\u001b[0m\u001b[0;34m\u001b[0m\u001b[0;34m\u001b[0m\u001b[0m\n",
            "\u001b[0;32m/usr/local/lib/python3.10/dist-packages/sklearn/model_selection/_validation.py\u001b[0m in \u001b[0;36mcross_val_score\u001b[0;34m(estimator, X, y, groups, scoring, cv, n_jobs, verbose, fit_params, pre_dispatch, error_score)\u001b[0m\n\u001b[1;32m    513\u001b[0m     \u001b[0mscorer\u001b[0m \u001b[0;34m=\u001b[0m \u001b[0mcheck_scoring\u001b[0m\u001b[0;34m(\u001b[0m\u001b[0mestimator\u001b[0m\u001b[0;34m,\u001b[0m \u001b[0mscoring\u001b[0m\u001b[0;34m=\u001b[0m\u001b[0mscoring\u001b[0m\u001b[0;34m)\u001b[0m\u001b[0;34m\u001b[0m\u001b[0;34m\u001b[0m\u001b[0m\n\u001b[1;32m    514\u001b[0m \u001b[0;34m\u001b[0m\u001b[0m\n\u001b[0;32m--> 515\u001b[0;31m     cv_results = cross_validate(\n\u001b[0m\u001b[1;32m    516\u001b[0m         \u001b[0mestimator\u001b[0m\u001b[0;34m=\u001b[0m\u001b[0mestimator\u001b[0m\u001b[0;34m,\u001b[0m\u001b[0;34m\u001b[0m\u001b[0;34m\u001b[0m\u001b[0m\n\u001b[1;32m    517\u001b[0m         \u001b[0mX\u001b[0m\u001b[0;34m=\u001b[0m\u001b[0mX\u001b[0m\u001b[0;34m,\u001b[0m\u001b[0;34m\u001b[0m\u001b[0;34m\u001b[0m\u001b[0m\n",
            "\u001b[0;32m/usr/local/lib/python3.10/dist-packages/sklearn/model_selection/_validation.py\u001b[0m in \u001b[0;36mcross_validate\u001b[0;34m(estimator, X, y, groups, scoring, cv, n_jobs, verbose, fit_params, pre_dispatch, return_train_score, return_estimator, error_score)\u001b[0m\n\u001b[1;32m    283\u001b[0m     )\n\u001b[1;32m    284\u001b[0m \u001b[0;34m\u001b[0m\u001b[0m\n\u001b[0;32m--> 285\u001b[0;31m     \u001b[0m_warn_or_raise_about_fit_failures\u001b[0m\u001b[0;34m(\u001b[0m\u001b[0mresults\u001b[0m\u001b[0;34m,\u001b[0m \u001b[0merror_score\u001b[0m\u001b[0;34m)\u001b[0m\u001b[0;34m\u001b[0m\u001b[0;34m\u001b[0m\u001b[0m\n\u001b[0m\u001b[1;32m    286\u001b[0m \u001b[0;34m\u001b[0m\u001b[0m\n\u001b[1;32m    287\u001b[0m     \u001b[0;31m# For callabe scoring, the return type is only know after calling. If the\u001b[0m\u001b[0;34m\u001b[0m\u001b[0;34m\u001b[0m\u001b[0m\n",
            "\u001b[0;32m/usr/local/lib/python3.10/dist-packages/sklearn/model_selection/_validation.py\u001b[0m in \u001b[0;36m_warn_or_raise_about_fit_failures\u001b[0;34m(results, error_score)\u001b[0m\n\u001b[1;32m    365\u001b[0m                 \u001b[0;34mf\"Below are more details about the failures:\\n{fit_errors_summary}\"\u001b[0m\u001b[0;34m\u001b[0m\u001b[0;34m\u001b[0m\u001b[0m\n\u001b[1;32m    366\u001b[0m             )\n\u001b[0;32m--> 367\u001b[0;31m             \u001b[0;32mraise\u001b[0m \u001b[0mValueError\u001b[0m\u001b[0;34m(\u001b[0m\u001b[0mall_fits_failed_message\u001b[0m\u001b[0;34m)\u001b[0m\u001b[0;34m\u001b[0m\u001b[0;34m\u001b[0m\u001b[0m\n\u001b[0m\u001b[1;32m    368\u001b[0m \u001b[0;34m\u001b[0m\u001b[0m\n\u001b[1;32m    369\u001b[0m         \u001b[0;32melse\u001b[0m\u001b[0;34m:\u001b[0m\u001b[0;34m\u001b[0m\u001b[0;34m\u001b[0m\u001b[0m\n",
            "\u001b[0;31mValueError\u001b[0m: \nAll the 5 fits failed.\nIt is very likely that your model is misconfigured.\nYou can try to debug the error by setting error_score='raise'.\n\nBelow are more details about the failures:\n--------------------------------------------------------------------------------\n5 fits failed with the following error:\nTraceback (most recent call last):\n  File \"/usr/local/lib/python3.10/dist-packages/sklearn/model_selection/_validation.py\", line 686, in _fit_and_score\n    estimator.fit(X_train, y_train, **fit_params)\n  File \"/usr/local/lib/python3.10/dist-packages/scikeras/wrappers.py\", line 1494, in fit\n    super().fit(X=X, y=y, sample_weight=sample_weight, **kwargs)\n  File \"/usr/local/lib/python3.10/dist-packages/scikeras/wrappers.py\", line 762, in fit\n    self._fit(\n  File \"/usr/local/lib/python3.10/dist-packages/scikeras/wrappers.py\", line 931, in _fit\n    self._fit_keras_model(\n  File \"/usr/local/lib/python3.10/dist-packages/scikeras/wrappers.py\", line 526, in _fit_keras_model\n    hist = self.model_.fit(x=X, y=y, **fit_args)\n  File \"/usr/local/lib/python3.10/dist-packages/keras/utils/traceback_utils.py\", line 70, in error_handler\n    raise e.with_traceback(filtered_tb) from None\n  File \"/tmp/__autograph_generated_filete_64gxp.py\", line 15, in tf__train_function\n    retval_ = ag__.converted_call(ag__.ld(step_function), (ag__.ld(self), ag__.ld(iterator)), None, fscope)\nValueError: in user code:\n\n    File \"/usr/local/lib/python3.10/dist-packages/keras/engine/training.py\", line 1284, in train_function  *\n        return step_function(self, iterator)\n    File \"/usr/local/lib/python3.10/dist-packages/keras/engine/training.py\", line 1268, in step_function  **\n        outputs = model.distribute_strategy.run(run_step, args=(data,))\n    File \"/usr/local/lib/python3.10/dist-packages/keras/engine/training.py\", line 1249, in run_step  **\n        outputs = model.train_step(data)\n    File \"/usr/local/lib/python3.10/dist-packages/keras/engine/training.py\", line 1050, in train_step\n        y_pred = self(x, training=True)\n    File \"/usr/local/lib/python3.10/dist-packages/keras/utils/traceback_utils.py\", line 70, in error_handler\n        raise e.with_traceback(filtered_tb) from None\n    File \"/usr/local/lib/python3.10/dist-packages/keras/engine/input_spec.py\", line 280, in assert_input_compatibility\n        raise ValueError(\n\n    ValueError: Exception encountered when calling layer 'sequential_10' (type Sequential).\n    \n    Input 0 of layer \"dense_30\" is incompatible with the layer: expected axis -1 of input shape to have value 0, but received input with shape (1, 144)\n    \n    Call arguments received by layer 'sequential_10' (type Sequential):\n      • inputs=tf.Tensor(shape=(1, 144), dtype=float32)\n      • training=True\n      • mask=None\n\n"
          ]
        }
      ],
      "source": [
        "from sklearn.model_selection import cross_val_score\n",
        "from scikeras.wrappers import KerasClassifier\n",
        "\n",
        "clasif_keras_a_sklearn = KerasClassifier(build_fn=model, epochs=3, batch_size=1, verbose=0)\n",
        "\n",
        "scores = cross_val_score(clasif_keras_a_sklearn , X_train_scaled, y_train, cv=5, scoring = 'accuracy')\n",
        "#print(scores)"
      ]
    },
    {
      "cell_type": "code",
      "execution_count": null,
      "metadata": {
        "colab": {
          "base_uri": "https://localhost:8080/"
        },
        "id": "Y9w9-EPAQNAY",
        "outputId": "fe70ff1a-6c91-4116-fa3c-5c738d57d55d"
      },
      "outputs": [
        {
          "output_type": "execute_result",
          "data": {
            "text/plain": [
              "0.24509609173834204"
            ]
          },
          "metadata": {},
          "execution_count": 27
        }
      ],
      "source": [
        "#Se estima el score promedio obtenido con la clasificación usando redes neuronales a través de la validación cruzada k-fold\n",
        "from statistics import mean\n",
        "accuracy_promedio_nn = mean(scores)\n",
        "accuracy_promedio_nn"
      ]
    },
    {
      "cell_type": "code",
      "execution_count": null,
      "metadata": {
        "id": "lJ68piTm6aUS"
      },
      "outputs": [],
      "source": [
        "#Se verifica el tamaño de los datos de test que se usarán para predecir\n",
        "#X_test_scaled.shape, X_train_scaled.shape"
      ]
    },
    {
      "cell_type": "code",
      "execution_count": null,
      "metadata": {
        "colab": {
          "base_uri": "https://localhost:8080/",
          "height": 217
        },
        "id": "3y3WsHOrsi4y",
        "outputId": "bc93d10f-b34e-41ef-b28d-d99fb4b8490b"
      },
      "outputs": [
        {
          "output_type": "error",
          "ename": "NameError",
          "evalue": "ignored",
          "traceback": [
            "\u001b[0;31m---------------------------------------------------------------------------\u001b[0m",
            "\u001b[0;31mNameError\u001b[0m                                 Traceback (most recent call last)",
            "\u001b[0;32m<ipython-input-12-eb9eb33fc6e5>\u001b[0m in \u001b[0;36m<cell line: 10>\u001b[0;34m()\u001b[0m\n\u001b[1;32m      8\u001b[0m \u001b[0;34m\u001b[0m\u001b[0m\n\u001b[1;32m      9\u001b[0m \u001b[0;31m#Se hacen predicciones usando el modelo creado y los datos de test X_test_scaled ó con los X_train_scaled\u001b[0m\u001b[0;34m\u001b[0m\u001b[0;34m\u001b[0m\u001b[0m\n\u001b[0;32m---> 10\u001b[0;31m \u001b[0mpredictions\u001b[0m \u001b[0;34m=\u001b[0m \u001b[0mmodel\u001b[0m\u001b[0;34m.\u001b[0m\u001b[0mpredict\u001b[0m\u001b[0;34m(\u001b[0m\u001b[0mX_tst\u001b[0m\u001b[0;34m)\u001b[0m\u001b[0;34m\u001b[0m\u001b[0;34m\u001b[0m\u001b[0m\n\u001b[0m\u001b[1;32m     11\u001b[0m \u001b[0;31m#print(type(predictions))\u001b[0m\u001b[0;34m\u001b[0m\u001b[0;34m\u001b[0m\u001b[0m\n",
            "\u001b[0;31mNameError\u001b[0m: name 'model' is not defined"
          ]
        }
      ],
      "source": [
        "from sklearn.model_selection import train_test_split\n",
        "\n",
        "SEED = 42\n",
        "X_trn, X_tst, y_trn, y_tst = train_test_split(X_train_scaled, y_train, \n",
        "                                                    test_size=0.2, \n",
        "                                                    random_state=SEED)\n",
        "\n",
        "\n",
        "#Se hacen predicciones usando el modelo creado y los datos de test X_test_scaled ó con los X_train_scaled\n",
        "predictions = model.predict(X_tst)\n",
        "#print(type(predictions))"
      ]
    },
    {
      "cell_type": "code",
      "execution_count": null,
      "metadata": {
        "id": "gcpvVVwW50Lf"
      },
      "outputs": [],
      "source": [
        "#Se convierten las predicciones en un dataframe y se reestablecen los nombres originaes de las categorías (1 a 8)\n",
        "predi = pd.DataFrame(predictions)\n",
        "predi_cols = [item +  1 for item in list(predi)]\n",
        "predi.columns = predi_cols\n",
        "#predi"
      ]
    },
    {
      "cell_type": "code",
      "execution_count": null,
      "metadata": {
        "id": "8C2pGqwGPYAG"
      },
      "outputs": [],
      "source": [
        "#Se asignan valores de 1 a las probabilidades más altas que se obtuvieron y de 0 a las demás\n",
        "predicciones_ohe=predi.eq(predi.max(axis=1),axis=0).astype(int)\n",
        "#predicciones_ohe.loc[251:265, :] #a modo de verificación"
      ]
    },
    {
      "cell_type": "code",
      "execution_count": null,
      "metadata": {
        "id": "DZJdQLNSVEPb"
      },
      "outputs": [],
      "source": [
        "#Se pasa del one-hot-encoding manejado durante el proceso a una sola columna de Response basada en las categorías de 1 a 8\n",
        "predicciones = pd.DataFrame()\n",
        "\n",
        "#Se retorna de one-hot-encoding a categorización\n",
        "predicciones['Response'] = predicciones_ohe.idxmax(axis=1)\n",
        "\n",
        "#predicciones.loc[251:265, :] #a modo de verificación\n",
        "#predicciones#.shape"
      ]
    },
    {
      "cell_type": "code",
      "execution_count": null,
      "metadata": {
        "id": "scrnxxJvT3Lx"
      },
      "outputs": [],
      "source": [
        "y_tst = y_tst.add(1) #Se recuperan las etiquetas corrigiendo la resta hecha anteriormente para poder entrenar las etiquetas de 1 a 8 como etiquetas de 0 a 7"
      ]
    },
    {
      "cell_type": "code",
      "execution_count": null,
      "metadata": {
        "colab": {
          "base_uri": "https://localhost:8080/",
          "height": 449
        },
        "id": "wL5VeM52hMBe",
        "outputId": "7755b3eb-05cf-4f72-c639-e6b5ef266a53"
      },
      "outputs": [
        {
          "output_type": "display_data",
          "data": {
            "text/plain": [
              "<Figure size 640x480 with 2 Axes>"
            ],
            "image/png": "[encoded data removed]"
          },
          "metadata": {}
        }
      ],
      "source": [
        "#Se crea una matriz  de confusión para contrastar las predicciones que sabe hacer el modelo\n",
        "#sobre los datos de train (X_train_scaled) contra los valores verdaderos asociados a los datos\n",
        "#de train (y_train)\n",
        "from sklearn.metrics import confusion_matrix, ConfusionMatrixDisplay\n",
        "import matplotlib.pyplot as plt\n",
        "\n",
        "#Se estima la matriz de confusión\n",
        "matriz_confusion = confusion_matrix(y_tst, predicciones, normalize='true')\n",
        "\n",
        "#Se grafica la matriz de confusión\n",
        "disp = ConfusionMatrixDisplay(confusion_matrix = matriz_confusion, display_labels = np.array(['1', '2', '3', '4', '5', '6', '7', '8']))\n",
        "disp.plot()\n",
        "plt.show()"
      ]
    },
    {
      "cell_type": "markdown",
      "metadata": {
        "id": "4u700JNhMrj1"
      },
      "source": [
        "Se observa de los resultados obtenidos durante el entrenamiento y de lo mostrado en la matriz de confusión que el modelo de clasificación basado en ***redes neuronales*** no es bueno para esta tarea. Se observa en la ejecución del algoritmo de validación cruzada k-fold que el accuracy promedio logrado (la proporción de predicciones correctas sobre el total de predicciones) a lo sumo alcanza la cifra de 0,27 (27%) mientras que la matriz de confusión muestra que para toda la clasificación la tasa de verdaderos positivos (aquellos valores en la diagonal de la matriz) es en promedio del 16% y que incluso para algunas etiquetas es de 0%.\n",
        "\n",
        "Se observa incluso que hay tasas de clasificaciones erróneas (aquellas fuera de la diagonal de la matriz) que bordean entre el 30% y el 50%, prediciendo incluso en exceso las etiquetas asociadas a los números 1 y 8. "
      ]
    },
    {
      "cell_type": "markdown",
      "metadata": {
        "id": "08WIcD2rxZX8"
      },
      "source": [
        "#Clasificación usando máquinas de vectores de soporte"
      ]
    },
    {
      "cell_type": "code",
      "execution_count": null,
      "metadata": {
        "colab": {
          "base_uri": "https://localhost:8080/"
        },
        "id": "Y_ydlvs-xevy",
        "outputId": "473e6430-5483-49fb-c825-4b26e0adefbb"
      },
      "outputs": [
        {
          "output_type": "stream",
          "name": "stdout",
          "text": [
            "              precision    recall  f1-score   support\n",
            "\n",
            "           1       0.40      0.23      0.29      1224\n",
            "           2       0.34      0.21      0.26      1252\n",
            "           3       0.46      0.05      0.09       217\n",
            "           4       0.45      0.70      0.54       269\n",
            "           5       0.46      0.30      0.36      1139\n",
            "           6       0.41      0.38      0.39      2264\n",
            "           7       0.41      0.26      0.32      1604\n",
            "           8       0.60      0.94      0.73      3908\n",
            "\n",
            "    accuracy                           0.51     11877\n",
            "   macro avg       0.44      0.38      0.37     11877\n",
            "weighted avg       0.47      0.51      0.47     11877\n",
            "\n",
            "              precision    recall  f1-score   support\n",
            "\n",
            "           1       0.40      0.25      0.31      1236\n",
            "           2       0.39      0.21      0.27      1395\n",
            "           3       0.47      0.08      0.13       212\n",
            "           4       0.47      0.63      0.54       280\n",
            "           5       0.43      0.30      0.35      1000\n",
            "           6       0.40      0.37      0.38      2257\n",
            "           7       0.41      0.25      0.31      1624\n",
            "           8       0.59      0.94      0.72      3872\n",
            "\n",
            "    accuracy                           0.50     11876\n",
            "   macro avg       0.45      0.38      0.38     11876\n",
            "weighted avg       0.47      0.50      0.46     11876\n",
            "\n",
            "              precision    recall  f1-score   support\n",
            "\n",
            "           1       0.38      0.25      0.31      1232\n",
            "           2       0.37      0.21      0.27      1296\n",
            "           3       0.43      0.08      0.13       204\n",
            "           4       0.50      0.66      0.57       304\n",
            "           5       0.44      0.29      0.35      1099\n",
            "           6       0.41      0.38      0.39      2254\n",
            "           7       0.38      0.24      0.29      1611\n",
            "           8       0.60      0.94      0.73      3876\n",
            "\n",
            "    accuracy                           0.51     11876\n",
            "   macro avg       0.44      0.38      0.38     11876\n",
            "weighted avg       0.47      0.51      0.46     11876\n",
            "\n",
            "              precision    recall  f1-score   support\n",
            "\n",
            "           1       0.41      0.25      0.31      1261\n",
            "           2       0.37      0.22      0.27      1329\n",
            "           3       0.54      0.11      0.18       184\n",
            "           4       0.52      0.68      0.59       283\n",
            "           5       0.46      0.31      0.37      1021\n",
            "           6       0.40      0.39      0.40      2203\n",
            "           7       0.39      0.24      0.29      1624\n",
            "           8       0.60      0.93      0.73      3971\n",
            "\n",
            "    accuracy                           0.51     11876\n",
            "   macro avg       0.46      0.39      0.39     11876\n",
            "weighted avg       0.47      0.51      0.47     11876\n",
            "\n",
            "              precision    recall  f1-score   support\n",
            "\n",
            "           1       0.38      0.20      0.26      1254\n",
            "           2       0.35      0.23      0.27      1280\n",
            "           3       0.39      0.08      0.14       196\n",
            "           4       0.46      0.62      0.53       292\n",
            "           5       0.48      0.31      0.37      1173\n",
            "           6       0.40      0.38      0.39      2255\n",
            "           7       0.39      0.25      0.31      1564\n",
            "           8       0.59      0.92      0.72      3862\n",
            "\n",
            "    accuracy                           0.50     11876\n",
            "   macro avg       0.43      0.37      0.37     11876\n",
            "weighted avg       0.46      0.50      0.46     11876\n",
            "\n"
          ]
        }
      ],
      "source": [
        "#Se parte de los datos ya normalizados que se usaron para la implementación del modelo basado en redes neuronales\n",
        "#Se reestablece el vector de y_train pues este fue modificado en los pasos anteriores asociados a la implementación\n",
        "#del modelo basado en redes neuronales\n",
        "y_train = datos['Response']\n",
        "#y_train = y_train.subtract(1)\n",
        "#Se somete a análisis el modelo bajo un enfoque de k-fold cross-validation (validación cruzada de k iteraciones)\n",
        "from sklearn.model_selection import KFold\n",
        "from sklearn import svm\n",
        "from sklearn.metrics import classification_report\n",
        "\n",
        "\n",
        "#Se define un número de particiones para realizar cross-validation esa misma cantidad de veces\n",
        "k = 5\n",
        "\n",
        "#Se instancia KFold para contar con 5 iteraciones de la partición del conjunto de datos\n",
        "kf = KFold(n_splits=k, shuffle=True)\n",
        "\n",
        "#Se declara una lista vacía en la que se alojarán los accuracy promedio en cada corrida de la validación cruzada\n",
        "accuracy_promedios = []\n",
        "\n",
        "for train_index, test_index in kf.split(datos):\n",
        "    X_tr, X_ts = X_train_scaled.iloc[train_index], X_train_scaled.iloc[test_index]\n",
        "    y_tr, y_ts = y_train.iloc[train_index], y_train.iloc[test_index]\n",
        "    \n",
        "    #Se crea un clasificador en cada una de estas iteraciones y se ajusta\n",
        "    clasificador_svm = svm.LinearSVC(max_iter = 2000)\n",
        "    clasificador_svm.fit(X_tr, y_tr)\n",
        "\n",
        "    #Se usa el clasificador recién creado para predecir y así compararlo con los y_ts\n",
        "    accuracy_promedios.append(clasificador_svm.score(X_ts, y_ts))\n",
        "\n",
        "    #Se realizan predicciones con los datos de test X_ts y se comparan con los correspondientes y_ts\n",
        "    y_pred = clasificador_svm.predict(X_ts)\n",
        "    \n",
        "    print(classification_report(y_ts,y_pred))\n",
        "    \n",
        "\n",
        "#print(accuracy_promedios)\n"
      ]
    },
    {
      "cell_type": "code",
      "execution_count": null,
      "metadata": {
        "id": "4L4jbSSel-F8",
        "colab": {
          "base_uri": "https://localhost:8080/"
        },
        "outputId": "ba929692-cb82-4cc8-8e8a-9589f19cca31"
      },
      "outputs": [
        {
          "output_type": "execute_result",
          "data": {
            "text/plain": [
              "0.5047068451402331"
            ]
          },
          "metadata": {},
          "execution_count": 14
        }
      ],
      "source": [
        "#Se estima el accuracy promedio obtenido con la clasificación usando máquinas de vectores de soporte SVC a través de la validación cruzada k-fold\n",
        "from statistics import mean\n",
        "accuracy_promedio_svc = mean(accuracy_promedios)\n",
        "accuracy_promedio_svc"
      ]
    },
    {
      "cell_type": "code",
      "execution_count": null,
      "metadata": {
        "id": "QCGjf0dMNCmr",
        "colab": {
          "base_uri": "https://localhost:8080/",
          "height": 423
        },
        "outputId": "10dadc57-b2ba-4882-9cb2-73a487992588"
      },
      "outputs": [
        {
          "output_type": "execute_result",
          "data": {
            "text/plain": [
              "       0\n",
              "0      2\n",
              "1      8\n",
              "2      5\n",
              "3      4\n",
              "4      8\n",
              "...   ..\n",
              "11872  7\n",
              "11873  1\n",
              "11874  7\n",
              "11875  4\n",
              "11876  8\n",
              "\n",
              "[11877 rows x 1 columns]"
            ],
            "text/html": [
              "\n",
              "  <div id=\"df-80a49ef7-0c6b-41e1-9aad-a41dbb974421\">\n",
              "    <div class=\"colab-df-container\">\n",
              "      <div>\n",
              "<style scoped>\n",
              "    .dataframe tbody tr th:only-of-type {\n",
              "        vertical-align: middle;\n",
              "    }\n",
              "\n",
              "    .dataframe tbody tr th {\n",
              "        vertical-align: top;\n",
              "    }\n",
              "\n",
              "    .dataframe thead th {\n",
              "        text-align: right;\n",
              "    }\n",
              "</style>\n",
              "<table border=\"1\" class=\"dataframe\">\n",
              "  <thead>\n",
              "    <tr style=\"text-align: right;\">\n",
              "      <th></th>\n",
              "      <th>0</th>\n",
              "    </tr>\n",
              "  </thead>\n",
              "  <tbody>\n",
              "    <tr>\n",
              "      <th>0</th>\n",
              "      <td>2</td>\n",
              "    </tr>\n",
              "    <tr>\n",
              "      <th>1</th>\n",
              "      <td>8</td>\n",
              "    </tr>\n",
              "    <tr>\n",
              "      <th>2</th>\n",
              "      <td>5</td>\n",
              "    </tr>\n",
              "    <tr>\n",
              "      <th>3</th>\n",
              "      <td>4</td>\n",
              "    </tr>\n",
              "    <tr>\n",
              "      <th>4</th>\n",
              "      <td>8</td>\n",
              "    </tr>\n",
              "    <tr>\n",
              "      <th>...</th>\n",
              "      <td>...</td>\n",
              "    </tr>\n",
              "    <tr>\n",
              "      <th>11872</th>\n",
              "      <td>7</td>\n",
              "    </tr>\n",
              "    <tr>\n",
              "      <th>11873</th>\n",
              "      <td>1</td>\n",
              "    </tr>\n",
              "    <tr>\n",
              "      <th>11874</th>\n",
              "      <td>7</td>\n",
              "    </tr>\n",
              "    <tr>\n",
              "      <th>11875</th>\n",
              "      <td>4</td>\n",
              "    </tr>\n",
              "    <tr>\n",
              "      <th>11876</th>\n",
              "      <td>8</td>\n",
              "    </tr>\n",
              "  </tbody>\n",
              "</table>\n",
              "<p>11877 rows × 1 columns</p>\n",
              "</div>\n",
              "      <button class=\"colab-df-convert\" onclick=\"convertToInteractive('df-80a49ef7-0c6b-41e1-9aad-a41dbb974421')\"\n",
              "              title=\"Convert this dataframe to an interactive table.\"\n",
              "              style=\"display:none;\">\n",
              "        \n",
              "  <svg xmlns=\"http://www.w3.org/2000/svg\" height=\"24px\"viewBox=\"0 0 24 24\"\n",
              "       width=\"24px\">\n",
              "    <path d=\"M0 0h24v24H0V0z\" fill=\"none\"/>\n",
              "    <path d=\"M18.56 5.44l.94 2.06.94-2.06 2.06-.94-2.06-.94-.94-2.06-.94 2.06-2.06.94zm-11 1L8.5 8.5l.94-2.06 2.06-.94-2.06-.94L8.5 2.5l-.94 2.06-2.06.94zm10 10l.94 2.06.94-2.06 2.06-.94-2.06-.94-.94-2.06-.94 2.06-2.06.94z\"/><path d=\"M17.41 7.96l-1.37-1.37c-.4-.4-.92-.59-1.43-.59-.52 0-1.04.2-1.43.59L10.3 9.45l-7.72 7.72c-.78.78-.78 2.05 0 2.83L4 21.41c.39.39.9.59 1.41.59.51 0 1.02-.2 1.41-.59l7.78-7.78 2.81-2.81c.8-.78.8-2.07 0-2.86zM5.41 20L4 18.59l7.72-7.72 1.47 1.35L5.41 20z\"/>\n",
              "  </svg>\n",
              "      </button>\n",
              "      \n",
              "  <style>\n",
              "    .colab-df-container {\n",
              "      display:flex;\n",
              "      flex-wrap:wrap;\n",
              "      gap: 12px;\n",
              "    }\n",
              "\n",
              "    .colab-df-convert {\n",
              "      background-color: #E8F0FE;\n",
              "      border: none;\n",
              "      border-radius: 50%;\n",
              "      cursor: pointer;\n",
              "      display: none;\n",
              "      fill: #1967D2;\n",
              "      height: 32px;\n",
              "      padding: 0 0 0 0;\n",
              "      width: 32px;\n",
              "    }\n",
              "\n",
              "    .colab-df-convert:hover {\n",
              "      background-color: #E2EBFA;\n",
              "      box-shadow: 0px 1px 2px rgba(60, 64, 67, 0.3), 0px 1px 3px 1px rgba(60, 64, 67, 0.15);\n",
              "      fill: #174EA6;\n",
              "    }\n",
              "\n",
              "    [theme=dark] .colab-df-convert {\n",
              "      background-color: #3B4455;\n",
              "      fill: #D2E3FC;\n",
              "    }\n",
              "\n",
              "    [theme=dark] .colab-df-convert:hover {\n",
              "      background-color: #434B5C;\n",
              "      box-shadow: 0px 1px 3px 1px rgba(0, 0, 0, 0.15);\n",
              "      filter: drop-shadow(0px 1px 2px rgba(0, 0, 0, 0.3));\n",
              "      fill: #FFFFFF;\n",
              "    }\n",
              "  </style>\n",
              "\n",
              "      <script>\n",
              "        const buttonEl =\n",
              "          document.querySelector('#df-80a49ef7-0c6b-41e1-9aad-a41dbb974421 button.colab-df-convert');\n",
              "        buttonEl.style.display =\n",
              "          google.colab.kernel.accessAllowed ? 'block' : 'none';\n",
              "\n",
              "        async function convertToInteractive(key) {\n",
              "          const element = document.querySelector('#df-80a49ef7-0c6b-41e1-9aad-a41dbb974421');\n",
              "          const dataTable =\n",
              "            await google.colab.kernel.invokeFunction('convertToInteractive',\n",
              "                                                     [key], {});\n",
              "          if (!dataTable) return;\n",
              "\n",
              "          const docLinkHtml = 'Like what you see? Visit the ' +\n",
              "            '<a target=\"_blank\" href=https://colab.research.google.com/notebooks/data_table.ipynb>data table notebook</a>'\n",
              "            + ' to learn more about interactive tables.';\n",
              "          element.innerHTML = '';\n",
              "          dataTable['output_type'] = 'display_data';\n",
              "          await google.colab.output.renderOutput(dataTable, element);\n",
              "          const docLink = document.createElement('div');\n",
              "          docLink.innerHTML = docLinkHtml;\n",
              "          element.appendChild(docLink);\n",
              "        }\n",
              "      </script>\n",
              "    </div>\n",
              "  </div>\n",
              "  "
            ]
          },
          "metadata": {},
          "execution_count": 15
        }
      ],
      "source": [
        "#Se hacen predicciones usando el modelo creado y los datos de test X_tst\n",
        "predictions = clasificador_svm.predict(X_tst)\n",
        "predicciones = pd.DataFrame(predictions)\n",
        "predicciones"
      ]
    },
    {
      "cell_type": "code",
      "execution_count": null,
      "metadata": {
        "id": "cHXlj3h_jEZe",
        "colab": {
          "base_uri": "https://localhost:8080/",
          "height": 449
        },
        "outputId": "6826b759-8cbb-4f71-98e6-0db62ee6204f"
      },
      "outputs": [
        {
          "output_type": "display_data",
          "data": {
            "text/plain": [
              "<Figure size 640x480 with 2 Axes>"
            ],
            "image/png": "[encoded data removed]"
          },
          "metadata": {}
        }
      ],
      "source": [
        "#Se crea una matriz  de confusión para contrastar las predicciones que sabe hacer el modelo\n",
        "#sobre los datos de train (X_train_scaled) contra los valores verdaderos asociados a los datos\n",
        "#de train (y_train)\n",
        "from sklearn.metrics import confusion_matrix, ConfusionMatrixDisplay\n",
        "import matplotlib.pyplot as plt\n",
        "import seaborn as sn\n",
        "\n",
        "#Se calcula la matriz de confusión\n",
        "matriz_confusion = confusion_matrix(y_tst, predicciones, normalize='true')\n",
        "\n",
        "#Se grafica la matriz de confusión\n",
        "disp = ConfusionMatrixDisplay(confusion_matrix = matriz_confusion, display_labels = np.array(['1', '2', '3', '4', '5', '6', '7', '8']))\n",
        "disp.plot()\n",
        "plt.show()"
      ]
    },
    {
      "cell_type": "markdown",
      "metadata": {
        "id": "yoQxR57vkuti"
      },
      "source": [
        "Se observa de los resultados obtenidos durante el entrenamiento y de lo mostrado en la matriz de confusión que el modelo de clasificación basado en ***máquinas de vectores de soporte*** es mejor que el modelo de clasificación basado en ***redes neuronales*** sin embargo no se puede considerar bueno para esta tarea.\n",
        "\n",
        "Se observa en la ejecución del algoritmo de validación cruzada k-fold que el accuracy promedio logrado (la proporción de predicciones correctas sobre el total de predicciones) alcanza la cifra de 0,5 (50%) mientras que la matriz de confusión muestra que para toda la clasificación la tasa de verdaderos positivos (aquellos valores en la diagonal de la matriz) alcanza máximo el 93% y que para algunos valores incluso es menor, rondando entre el 30% y el 40%, promediando un 39% como tasa de acierto.\n",
        "\n",
        "Se observa que hay tasas de clasificaciones erróneas (aquellas fuera de la diagonal de la matriz) que bordean entre el 10% y el 53%\n",
        "\n",
        "El *recall* y el *f1-score* obtenidos para las cinco iteraciones de uso de entrenamiento y predicción de este modelo basado en máquinas de vectores de soporte está en alrededor del 38%, inferiores a la mitad de la capacidad de predicción que uno esperaría de un modelo."
      ]
    },
    {
      "cell_type": "markdown",
      "metadata": {
        "id": "fty66EgHnRB-"
      },
      "source": [
        "#Clasificación usando Random Forest"
      ]
    },
    {
      "cell_type": "code",
      "execution_count": null,
      "metadata": {
        "id": "NAc4Bw78njZp"
      },
      "outputs": [],
      "source": [
        "#Para este clasificador no es necesario recurrir a datos normalizados.\n",
        "#Se usarán los datos originales X_train, X_test, y_train\n",
        "#Se reestablece el vector de y_train de manera preventiva pues este sufrió modificaciones en la clasificación usando redes neuronales\n",
        "y_train = datos['Response']\n",
        "#y_train = y_train.subtract(1)\n",
        "#Se somete a análisis el modelo bajo un enfoque de k-fold cross-validation (validación cruzada de k iteraciones)\n",
        "from sklearn.model_selection import KFold\n",
        "from sklearn.ensemble import RandomForestClassifier\n",
        "from sklearn.metrics import classification_report\n",
        "\n",
        "\n",
        "#Se define un número de particiones para realizar cross-validation esa misma cantidad de veces\n",
        "k = 5\n",
        "\n",
        "#Se instancia KFold para contar con 5 iteraciones de la partición del conjunto de datos\n",
        "kf = KFold(n_splits=k, shuffle=True)\n",
        "\n",
        "for train_index, test_index in kf.split(datos):\n",
        "    X_tr, X_ts = X_train.iloc[train_index], X_train.iloc[test_index]\n",
        "    y_tr, y_ts = y_train.iloc[train_index], y_train.iloc[test_index]\n",
        "    \n",
        "    #Se crea un clasificador en cada una de estas iteraciones y se ajusta\n",
        "    clasificador_rf = RandomForestClassifier(n_estimators=250)\n",
        "    clasificador_rf.fit(X_tr, y_tr)\n",
        "\n",
        "    #Se usa el clasificador recién creado para predecir y así compararlo con los y_ts\n",
        "    y_pred = clasificador_rf.predict(X_ts)\n",
        "    print(classification_report(y_ts,y_pred))\n",
        "    #accuracy = accuracy_score(y_ts, y_pred)\n",
        "    #accuracy_promedios.append(accuracy)\n",
        "    #precision = precision_score(y_ts, y_pred)\n",
        "    #precision_promedios.append(precision)\n",
        "    #recall = recall_score(y_ts, y_pred)\n",
        "    #recall_promedios.append(recall)\n",
        "\n",
        "#print(accuracy_promedios)\n"
      ]
    },
    {
      "cell_type": "code",
      "execution_count": null,
      "metadata": {
        "id": "TkaWHHtFy_w0"
      },
      "outputs": [],
      "source": [
        "#Se estima el accuracy promedio obtenido con la clasificación usando máquinas de vectores de soporte SVC a través de la validación cruzada k-fold\n",
        "#from statistics import mean\n",
        "#accuracy_promedio_rf = mean(accuracy_promedios)\n",
        "#precision_promedio_rf = mean(precision_promedios)\n",
        "#recall_promedio_rf = mean(recall_promedios)\n",
        "#print(f\"{accuracy_promedio_rf} , {precision_promedio_rf} , {recall_promedio_rf}\")"
      ]
    },
    {
      "cell_type": "code",
      "source": [
        "from sklearn.model_selection import train_test_split\n",
        "y_train = datos['Response']\n",
        "\n",
        "SEED = 42\n",
        "X_trn, X_tst, y_trn, y_tst = train_test_split(X_train, y_train, \n",
        "                                                    test_size=0.2, \n",
        "                                                    random_state=SEED)"
      ],
      "metadata": {
        "id": "gw16O2UCjKUc"
      },
      "execution_count": null,
      "outputs": []
    },
    {
      "cell_type": "code",
      "execution_count": null,
      "metadata": {
        "colab": {
          "base_uri": "https://localhost:8080/",
          "height": 423
        },
        "id": "IGh42KgjN5Kh",
        "outputId": "b637f1e4-e3db-4cd1-95b0-a9d3685bdb4c"
      },
      "outputs": [
        {
          "output_type": "execute_result",
          "data": {
            "text/plain": [
              "       0\n",
              "0      7\n",
              "1      8\n",
              "2      2\n",
              "3      4\n",
              "4      6\n",
              "...   ..\n",
              "11872  1\n",
              "11873  1\n",
              "11874  6\n",
              "11875  4\n",
              "11876  8\n",
              "\n",
              "[11877 rows x 1 columns]"
            ],
            "text/html": [
              "\n",
              "  <div id=\"df-98824a5e-39ae-4999-8e34-3fc891585159\">\n",
              "    <div class=\"colab-df-container\">\n",
              "      <div>\n",
              "<style scoped>\n",
              "    .dataframe tbody tr th:only-of-type {\n",
              "        vertical-align: middle;\n",
              "    }\n",
              "\n",
              "    .dataframe tbody tr th {\n",
              "        vertical-align: top;\n",
              "    }\n",
              "\n",
              "    .dataframe thead th {\n",
              "        text-align: right;\n",
              "    }\n",
              "</style>\n",
              "<table border=\"1\" class=\"dataframe\">\n",
              "  <thead>\n",
              "    <tr style=\"text-align: right;\">\n",
              "      <th></th>\n",
              "      <th>0</th>\n",
              "    </tr>\n",
              "  </thead>\n",
              "  <tbody>\n",
              "    <tr>\n",
              "      <th>0</th>\n",
              "      <td>7</td>\n",
              "    </tr>\n",
              "    <tr>\n",
              "      <th>1</th>\n",
              "      <td>8</td>\n",
              "    </tr>\n",
              "    <tr>\n",
              "      <th>2</th>\n",
              "      <td>2</td>\n",
              "    </tr>\n",
              "    <tr>\n",
              "      <th>3</th>\n",
              "      <td>4</td>\n",
              "    </tr>\n",
              "    <tr>\n",
              "      <th>4</th>\n",
              "      <td>6</td>\n",
              "    </tr>\n",
              "    <tr>\n",
              "      <th>...</th>\n",
              "      <td>...</td>\n",
              "    </tr>\n",
              "    <tr>\n",
              "      <th>11872</th>\n",
              "      <td>1</td>\n",
              "    </tr>\n",
              "    <tr>\n",
              "      <th>11873</th>\n",
              "      <td>1</td>\n",
              "    </tr>\n",
              "    <tr>\n",
              "      <th>11874</th>\n",
              "      <td>6</td>\n",
              "    </tr>\n",
              "    <tr>\n",
              "      <th>11875</th>\n",
              "      <td>4</td>\n",
              "    </tr>\n",
              "    <tr>\n",
              "      <th>11876</th>\n",
              "      <td>8</td>\n",
              "    </tr>\n",
              "  </tbody>\n",
              "</table>\n",
              "<p>11877 rows × 1 columns</p>\n",
              "</div>\n",
              "      <button class=\"colab-df-convert\" onclick=\"convertToInteractive('df-98824a5e-39ae-4999-8e34-3fc891585159')\"\n",
              "              title=\"Convert this dataframe to an interactive table.\"\n",
              "              style=\"display:none;\">\n",
              "        \n",
              "  <svg xmlns=\"http://www.w3.org/2000/svg\" height=\"24px\"viewBox=\"0 0 24 24\"\n",
              "       width=\"24px\">\n",
              "    <path d=\"M0 0h24v24H0V0z\" fill=\"none\"/>\n",
              "    <path d=\"M18.56 5.44l.94 2.06.94-2.06 2.06-.94-2.06-.94-.94-2.06-.94 2.06-2.06.94zm-11 1L8.5 8.5l.94-2.06 2.06-.94-2.06-.94L8.5 2.5l-.94 2.06-2.06.94zm10 10l.94 2.06.94-2.06 2.06-.94-2.06-.94-.94-2.06-.94 2.06-2.06.94z\"/><path d=\"M17.41 7.96l-1.37-1.37c-.4-.4-.92-.59-1.43-.59-.52 0-1.04.2-1.43.59L10.3 9.45l-7.72 7.72c-.78.78-.78 2.05 0 2.83L4 21.41c.39.39.9.59 1.41.59.51 0 1.02-.2 1.41-.59l7.78-7.78 2.81-2.81c.8-.78.8-2.07 0-2.86zM5.41 20L4 18.59l7.72-7.72 1.47 1.35L5.41 20z\"/>\n",
              "  </svg>\n",
              "      </button>\n",
              "      \n",
              "  <style>\n",
              "    .colab-df-container {\n",
              "      display:flex;\n",
              "      flex-wrap:wrap;\n",
              "      gap: 12px;\n",
              "    }\n",
              "\n",
              "    .colab-df-convert {\n",
              "      background-color: #E8F0FE;\n",
              "      border: none;\n",
              "      border-radius: 50%;\n",
              "      cursor: pointer;\n",
              "      display: none;\n",
              "      fill: #1967D2;\n",
              "      height: 32px;\n",
              "      padding: 0 0 0 0;\n",
              "      width: 32px;\n",
              "    }\n",
              "\n",
              "    .colab-df-convert:hover {\n",
              "      background-color: #E2EBFA;\n",
              "      box-shadow: 0px 1px 2px rgba(60, 64, 67, 0.3), 0px 1px 3px 1px rgba(60, 64, 67, 0.15);\n",
              "      fill: #174EA6;\n",
              "    }\n",
              "\n",
              "    [theme=dark] .colab-df-convert {\n",
              "      background-color: #3B4455;\n",
              "      fill: #D2E3FC;\n",
              "    }\n",
              "\n",
              "    [theme=dark] .colab-df-convert:hover {\n",
              "      background-color: #434B5C;\n",
              "      box-shadow: 0px 1px 3px 1px rgba(0, 0, 0, 0.15);\n",
              "      filter: drop-shadow(0px 1px 2px rgba(0, 0, 0, 0.3));\n",
              "      fill: #FFFFFF;\n",
              "    }\n",
              "  </style>\n",
              "\n",
              "      <script>\n",
              "        const buttonEl =\n",
              "          document.querySelector('#df-98824a5e-39ae-4999-8e34-3fc891585159 button.colab-df-convert');\n",
              "        buttonEl.style.display =\n",
              "          google.colab.kernel.accessAllowed ? 'block' : 'none';\n",
              "\n",
              "        async function convertToInteractive(key) {\n",
              "          const element = document.querySelector('#df-98824a5e-39ae-4999-8e34-3fc891585159');\n",
              "          const dataTable =\n",
              "            await google.colab.kernel.invokeFunction('convertToInteractive',\n",
              "                                                     [key], {});\n",
              "          if (!dataTable) return;\n",
              "\n",
              "          const docLinkHtml = 'Like what you see? Visit the ' +\n",
              "            '<a target=\"_blank\" href=https://colab.research.google.com/notebooks/data_table.ipynb>data table notebook</a>'\n",
              "            + ' to learn more about interactive tables.';\n",
              "          element.innerHTML = '';\n",
              "          dataTable['output_type'] = 'display_data';\n",
              "          await google.colab.output.renderOutput(dataTable, element);\n",
              "          const docLink = document.createElement('div');\n",
              "          docLink.innerHTML = docLinkHtml;\n",
              "          element.appendChild(docLink);\n",
              "        }\n",
              "      </script>\n",
              "    </div>\n",
              "  </div>\n",
              "  "
            ]
          },
          "metadata": {},
          "execution_count": 90
        }
      ],
      "source": [
        "#Se usa el último modelo para predecir y así contrastar\n",
        "predictions = clasificador_rf.predict(X_tst)\n",
        "predicciones = pd.DataFrame(predictions)\n",
        "predicciones"
      ]
    },
    {
      "cell_type": "code",
      "execution_count": null,
      "metadata": {
        "colab": {
          "base_uri": "https://localhost:8080/",
          "height": 449
        },
        "id": "c9fVvHVbOIjh",
        "outputId": "af094a14-b4f8-48cc-af66-147a1fc712d3"
      },
      "outputs": [
        {
          "output_type": "display_data",
          "data": {
            "text/plain": [
              "<Figure size 640x480 with 2 Axes>"
            ],
            "image/png": "[encoded data removed]"
          },
          "metadata": {}
        }
      ],
      "source": [
        "#Se crea una matriz  de confusión para contrastar las predicciones que sabe hacer el modelo\n",
        "#sobre los datos de train (X_train_scaled) contra los valores verdaderos asociados a los datos\n",
        "#de train (y_train)\n",
        "from sklearn.metrics import confusion_matrix, ConfusionMatrixDisplay\n",
        "import matplotlib.pyplot as plt\n",
        "\n",
        "#Se calcula la matriz de confusión\n",
        "matriz_confusion = confusion_matrix(y_tst, predicciones, normalize='true')\n",
        "\n",
        "#Se grafica la matriz de confusión\n",
        "disp = ConfusionMatrixDisplay(confusion_matrix = matriz_confusion, display_labels = np.array(['1', '2', '3', '4', '5', '6', '7', '8']))\n",
        "disp.plot()\n",
        "plt.show()"
      ]
    },
    {
      "cell_type": "markdown",
      "metadata": {
        "id": "7z3puyLBrT2N"
      },
      "source": [
        "Se observa de los resultados obtenidos durante el entrenamiento y de lo mostrado en la matriz de confusión que el modelo de clasificación basado en ***random forest*** es mejor que el modelo de clasificación basado en ***redes neuronales*** y en ***máquinas de vectores de soporte*** sin embargo el accuracy promedio obtenido no se puede considerar satisfactorio (58%)\n",
        "\n",
        "Se observa en la ejecución del algoritmo de validación cruzada k-fold que el accuracy promedio logrado (la proporción de predicciones correctas sobre el total de predicciones) alcanza la cifra de 0,58 (58%) mientras que la matriz de confusión muestra que para toda la clasificación la tasa de verdaderos positivos (aquellos valores en la diagonal de la matriz) alcanza máximo el 98%, oscilando entre el 85% y el 98%  y promediando un 90% como tasa de acierto.\n",
        "\n",
        "Se observa que hay tasas de clasificaciones erróneas (aquellas fuera de la diagonal de la matriz) que bordean entre el 5% y el 7%. El *recall* y el *f1-score* obtenidos para las cinco iteraciones de uso de entrenamiento y predicción de este modelo basado en ***random forest*** está en alrededor del 50%, superiores a los obtenidos con ***redes neuronales*** y con ***máquinas de vectores de soporte*** pero de apenas la mitad de la capacidad de predicción que uno esperaría de un modelo."
      ]
    },
    {
      "cell_type": "markdown",
      "source": [
        "#Clasificación usando regresión logística"
      ],
      "metadata": {
        "id": "_MdBe53rnueA"
      }
    },
    {
      "cell_type": "code",
      "source": [
        "#Se usarán los datos normaizados X_train_scaled\n",
        "#Se reestablece el vector de y_train de manera preventiva pues este sufrió modificaciones\n",
        "y_train = datos['Response']\n",
        "#y_train = y_train.subtract(1)\n",
        "#Se somete a análisis el modelo bajo un enfoque de k-fold cross-validation (validación cruzada de k iteraciones)\n",
        "from sklearn.model_selection import KFold\n",
        "from sklearn.linear_model import LogisticRegression\n",
        "from sklearn.metrics import classification_report\n",
        "\n",
        "\n",
        "#Se define un número de particiones para realizar cross-validation esa misma cantidad de veces\n",
        "k = 5\n",
        "\n",
        "#Se instancia KFold para contar con 5 iteraciones de la partición del conjunto de datos\n",
        "kf = KFold(n_splits=k, shuffle=True)\n",
        "\n",
        "for train_index, test_index in kf.split(datos):\n",
        "    X_tr, X_ts = X_train_scaled.iloc[train_index], X_train_scaled.iloc[test_index]\n",
        "    y_tr, y_ts = y_train.iloc[train_index], y_train.iloc[test_index]\n",
        "    \n",
        "    #Se crea un clasificador en cada una de estas iteraciones y se ajusta\n",
        "    clasificador_rl = LogisticRegression(solver='lbfgs', multi_class='multinomial')\n",
        "    clasificador_rl.fit(X_tr, y_tr)\n",
        "\n",
        "    #Se usa el clasificador recién creado para predecir y así compararlo con los y_ts\n",
        "    y_pred = clasificador_rl.predict(X_ts)\n",
        "    print(classification_report(y_ts,y_pred))\n",
        "    #accuracy = accuracy_score(y_ts, y_pred)\n",
        "    #accuracy_promedios.append(accuracy)\n",
        "    #precision = precision_score(y_ts, y_pred)\n",
        "    #precision_promedios.append(precision)\n",
        "    #recall = recall_score(y_ts, y_pred)\n",
        "    #recall_promedios.append(recall)\n",
        "\n",
        "#print(accuracy_promedios)"
      ],
      "metadata": {
        "colab": {
          "base_uri": "https://localhost:8080/"
        },
        "id": "FccUn2WentpU",
        "outputId": "e5cc7d9b-682c-430a-efe7-e77c88679e98"
      },
      "execution_count": null,
      "outputs": [
        {
          "output_type": "stream",
          "name": "stdout",
          "text": [
            "              precision    recall  f1-score   support\n",
            "\n",
            "           1       0.40      0.26      0.32      1247\n",
            "           2       0.37      0.26      0.31      1307\n",
            "           3       0.43      0.38      0.41       200\n",
            "           4       0.49      0.60      0.54       281\n",
            "           5       0.50      0.34      0.41      1114\n",
            "           6       0.41      0.43      0.42      2216\n",
            "           7       0.42      0.26      0.32      1595\n",
            "           8       0.64      0.91      0.75      3917\n",
            "\n",
            "    accuracy                           0.52     11877\n",
            "   macro avg       0.46      0.43      0.43     11877\n",
            "weighted avg       0.49      0.52      0.49     11877\n",
            "\n",
            "              precision    recall  f1-score   support\n",
            "\n",
            "           1       0.39      0.26      0.31      1244\n",
            "           2       0.32      0.23      0.27      1306\n",
            "           3       0.46      0.40      0.43       218\n",
            "           4       0.51      0.62      0.56       289\n",
            "           5       0.49      0.31      0.38      1127\n",
            "           6       0.43      0.46      0.44      2217\n",
            "           7       0.43      0.26      0.33      1621\n",
            "           8       0.63      0.90      0.74      3854\n",
            "\n",
            "    accuracy                           0.52     11876\n",
            "   macro avg       0.46      0.43      0.43     11876\n",
            "weighted avg       0.49      0.52      0.49     11876\n",
            "\n",
            "              precision    recall  f1-score   support\n",
            "\n",
            "           1       0.37      0.25      0.30      1207\n",
            "           2       0.36      0.24      0.28      1313\n",
            "           3       0.45      0.37      0.41       210\n",
            "           4       0.52      0.65      0.58       296\n",
            "           5       0.43      0.33      0.37      1086\n",
            "           6       0.42      0.44      0.43      2280\n",
            "           7       0.44      0.28      0.34      1596\n",
            "           8       0.64      0.89      0.75      3888\n",
            "\n",
            "    accuracy                           0.52     11876\n",
            "   macro avg       0.45      0.43      0.43     11876\n",
            "weighted avg       0.49      0.52      0.49     11876\n",
            "\n",
            "              precision    recall  f1-score   support\n",
            "\n",
            "           1       0.37      0.25      0.30      1237\n",
            "           2       0.37      0.23      0.29      1335\n",
            "           3       0.38      0.35      0.37       195\n",
            "           4       0.51      0.61      0.56       290\n",
            "           5       0.44      0.32      0.37      1044\n",
            "           6       0.45      0.46      0.45      2319\n",
            "           7       0.43      0.29      0.34      1560\n",
            "           8       0.64      0.90      0.75      3896\n",
            "\n",
            "    accuracy                           0.52     11876\n",
            "   macro avg       0.45      0.43      0.43     11876\n",
            "weighted avg       0.49      0.52      0.49     11876\n",
            "\n",
            "              precision    recall  f1-score   support\n",
            "\n",
            "           1       0.41      0.27      0.32      1272\n",
            "           2       0.39      0.25      0.30      1291\n",
            "           3       0.43      0.40      0.42       190\n",
            "           4       0.48      0.60      0.54       272\n",
            "           5       0.47      0.35      0.40      1061\n",
            "           6       0.42      0.45      0.43      2201\n",
            "           7       0.46      0.29      0.35      1655\n",
            "           8       0.63      0.89      0.74      3934\n",
            "\n",
            "    accuracy                           0.52     11876\n",
            "   macro avg       0.46      0.44      0.44     11876\n",
            "weighted avg       0.50      0.52      0.50     11876\n",
            "\n"
          ]
        }
      ]
    },
    {
      "cell_type": "code",
      "source": [
        "from sklearn.model_selection import train_test_split\n",
        "y_train = datos['Response']\n",
        "\n",
        "SEED = 42\n",
        "X_trn, X_tst, y_trn, y_tst = train_test_split(X_train_scaled, y_train, \n",
        "                                                    test_size=0.2, \n",
        "                                                    random_state=SEED)"
      ],
      "metadata": {
        "id": "JDmK7xYVqEos"
      },
      "execution_count": null,
      "outputs": []
    },
    {
      "cell_type": "code",
      "execution_count": null,
      "metadata": {
        "colab": {
          "base_uri": "https://localhost:8080/",
          "height": 423
        },
        "outputId": "5eeef653-1477-43ec-d4c1-b8c22a63135f",
        "id": "a08SKsJeqLbR"
      },
      "outputs": [
        {
          "output_type": "execute_result",
          "data": {
            "text/plain": [
              "       0\n",
              "0      2\n",
              "1      8\n",
              "2      5\n",
              "3      4\n",
              "4      6\n",
              "...   ..\n",
              "11872  7\n",
              "11873  1\n",
              "11874  7\n",
              "11875  4\n",
              "11876  8\n",
              "\n",
              "[11877 rows x 1 columns]"
            ],
            "text/html": [
              "\n",
              "  <div id=\"df-a1be776c-e198-4970-ac62-6e5a5fe35e90\">\n",
              "    <div class=\"colab-df-container\">\n",
              "      <div>\n",
              "<style scoped>\n",
              "    .dataframe tbody tr th:only-of-type {\n",
              "        vertical-align: middle;\n",
              "    }\n",
              "\n",
              "    .dataframe tbody tr th {\n",
              "        vertical-align: top;\n",
              "    }\n",
              "\n",
              "    .dataframe thead th {\n",
              "        text-align: right;\n",
              "    }\n",
              "</style>\n",
              "<table border=\"1\" class=\"dataframe\">\n",
              "  <thead>\n",
              "    <tr style=\"text-align: right;\">\n",
              "      <th></th>\n",
              "      <th>0</th>\n",
              "    </tr>\n",
              "  </thead>\n",
              "  <tbody>\n",
              "    <tr>\n",
              "      <th>0</th>\n",
              "      <td>2</td>\n",
              "    </tr>\n",
              "    <tr>\n",
              "      <th>1</th>\n",
              "      <td>8</td>\n",
              "    </tr>\n",
              "    <tr>\n",
              "      <th>2</th>\n",
              "      <td>5</td>\n",
              "    </tr>\n",
              "    <tr>\n",
              "      <th>3</th>\n",
              "      <td>4</td>\n",
              "    </tr>\n",
              "    <tr>\n",
              "      <th>4</th>\n",
              "      <td>6</td>\n",
              "    </tr>\n",
              "    <tr>\n",
              "      <th>...</th>\n",
              "      <td>...</td>\n",
              "    </tr>\n",
              "    <tr>\n",
              "      <th>11872</th>\n",
              "      <td>7</td>\n",
              "    </tr>\n",
              "    <tr>\n",
              "      <th>11873</th>\n",
              "      <td>1</td>\n",
              "    </tr>\n",
              "    <tr>\n",
              "      <th>11874</th>\n",
              "      <td>7</td>\n",
              "    </tr>\n",
              "    <tr>\n",
              "      <th>11875</th>\n",
              "      <td>4</td>\n",
              "    </tr>\n",
              "    <tr>\n",
              "      <th>11876</th>\n",
              "      <td>8</td>\n",
              "    </tr>\n",
              "  </tbody>\n",
              "</table>\n",
              "<p>11877 rows × 1 columns</p>\n",
              "</div>\n",
              "      <button class=\"colab-df-convert\" onclick=\"convertToInteractive('df-a1be776c-e198-4970-ac62-6e5a5fe35e90')\"\n",
              "              title=\"Convert this dataframe to an interactive table.\"\n",
              "              style=\"display:none;\">\n",
              "        \n",
              "  <svg xmlns=\"http://www.w3.org/2000/svg\" height=\"24px\"viewBox=\"0 0 24 24\"\n",
              "       width=\"24px\">\n",
              "    <path d=\"M0 0h24v24H0V0z\" fill=\"none\"/>\n",
              "    <path d=\"M18.56 5.44l.94 2.06.94-2.06 2.06-.94-2.06-.94-.94-2.06-.94 2.06-2.06.94zm-11 1L8.5 8.5l.94-2.06 2.06-.94-2.06-.94L8.5 2.5l-.94 2.06-2.06.94zm10 10l.94 2.06.94-2.06 2.06-.94-2.06-.94-.94-2.06-.94 2.06-2.06.94z\"/><path d=\"M17.41 7.96l-1.37-1.37c-.4-.4-.92-.59-1.43-.59-.52 0-1.04.2-1.43.59L10.3 9.45l-7.72 7.72c-.78.78-.78 2.05 0 2.83L4 21.41c.39.39.9.59 1.41.59.51 0 1.02-.2 1.41-.59l7.78-7.78 2.81-2.81c.8-.78.8-2.07 0-2.86zM5.41 20L4 18.59l7.72-7.72 1.47 1.35L5.41 20z\"/>\n",
              "  </svg>\n",
              "      </button>\n",
              "      \n",
              "  <style>\n",
              "    .colab-df-container {\n",
              "      display:flex;\n",
              "      flex-wrap:wrap;\n",
              "      gap: 12px;\n",
              "    }\n",
              "\n",
              "    .colab-df-convert {\n",
              "      background-color: #E8F0FE;\n",
              "      border: none;\n",
              "      border-radius: 50%;\n",
              "      cursor: pointer;\n",
              "      display: none;\n",
              "      fill: #1967D2;\n",
              "      height: 32px;\n",
              "      padding: 0 0 0 0;\n",
              "      width: 32px;\n",
              "    }\n",
              "\n",
              "    .colab-df-convert:hover {\n",
              "      background-color: #E2EBFA;\n",
              "      box-shadow: 0px 1px 2px rgba(60, 64, 67, 0.3), 0px 1px 3px 1px rgba(60, 64, 67, 0.15);\n",
              "      fill: #174EA6;\n",
              "    }\n",
              "\n",
              "    [theme=dark] .colab-df-convert {\n",
              "      background-color: #3B4455;\n",
              "      fill: #D2E3FC;\n",
              "    }\n",
              "\n",
              "    [theme=dark] .colab-df-convert:hover {\n",
              "      background-color: #434B5C;\n",
              "      box-shadow: 0px 1px 3px 1px rgba(0, 0, 0, 0.15);\n",
              "      filter: drop-shadow(0px 1px 2px rgba(0, 0, 0, 0.3));\n",
              "      fill: #FFFFFF;\n",
              "    }\n",
              "  </style>\n",
              "\n",
              "      <script>\n",
              "        const buttonEl =\n",
              "          document.querySelector('#df-a1be776c-e198-4970-ac62-6e5a5fe35e90 button.colab-df-convert');\n",
              "        buttonEl.style.display =\n",
              "          google.colab.kernel.accessAllowed ? 'block' : 'none';\n",
              "\n",
              "        async function convertToInteractive(key) {\n",
              "          const element = document.querySelector('#df-a1be776c-e198-4970-ac62-6e5a5fe35e90');\n",
              "          const dataTable =\n",
              "            await google.colab.kernel.invokeFunction('convertToInteractive',\n",
              "                                                     [key], {});\n",
              "          if (!dataTable) return;\n",
              "\n",
              "          const docLinkHtml = 'Like what you see? Visit the ' +\n",
              "            '<a target=\"_blank\" href=https://colab.research.google.com/notebooks/data_table.ipynb>data table notebook</a>'\n",
              "            + ' to learn more about interactive tables.';\n",
              "          element.innerHTML = '';\n",
              "          dataTable['output_type'] = 'display_data';\n",
              "          await google.colab.output.renderOutput(dataTable, element);\n",
              "          const docLink = document.createElement('div');\n",
              "          docLink.innerHTML = docLinkHtml;\n",
              "          element.appendChild(docLink);\n",
              "        }\n",
              "      </script>\n",
              "    </div>\n",
              "  </div>\n",
              "  "
            ]
          },
          "metadata": {},
          "execution_count": 38
        }
      ],
      "source": [
        "#Se usa el último modelo para predecir y así contrastar\n",
        "predictions = clasificador_rl.predict(X_tst)\n",
        "predicciones = pd.DataFrame(predictions)\n",
        "predicciones"
      ]
    },
    {
      "cell_type": "code",
      "execution_count": null,
      "metadata": {
        "colab": {
          "base_uri": "https://localhost:8080/",
          "height": 449
        },
        "outputId": "8a930b13-087a-408f-8669-933663412509",
        "id": "vBouRfaoqRU6"
      },
      "outputs": [
        {
          "output_type": "display_data",
          "data": {
            "text/plain": [
              "<Figure size 640x480 with 2 Axes>"
            ],
            "image/png": "[encoded data removed]"
          },
          "metadata": {}
        }
      ],
      "source": [
        "#Se crea una matriz  de confusión para contrastar las predicciones que sabe hacer el modelo\n",
        "#sobre los datos de train (X_train_scaled) contra los valores verdaderos asociados a los datos\n",
        "#de test (y_tst)\n",
        "from sklearn.metrics import confusion_matrix, ConfusionMatrixDisplay\n",
        "import matplotlib.pyplot as plt\n",
        "\n",
        "#Se calcula la matriz de confusión\n",
        "matriz_confusion = confusion_matrix(y_tst, predicciones, normalize='true')\n",
        "\n",
        "#Se grafica la matriz de confusión\n",
        "disp = ConfusionMatrixDisplay(confusion_matrix = matriz_confusion, display_labels = np.array(['1', '2', '3', '4', '5', '6', '7', '8']))\n",
        "disp.plot()\n",
        "plt.show()"
      ]
    },
    {
      "cell_type": "markdown",
      "source": [
        "Se observa de los resultados obtenidos durante el entrenamiento y de lo mostrado en la matriz de confusión que el modelo de clasificación basado en ***regresión logística*** se parece en desempeño al modelo basado en ***máquinas de vectores de soporte*** pero con un *recall* y un *f1-score* ligeramente superiores.\n",
        "\n",
        "Se observa en la ejecución del algoritmo de validación cruzada k-fold que el accuracy promedio logrado (la proporción de predicciones correctas sobre el total de predicciones) alcanza la cifra de 0,5 (50%) mientras que la matriz de confusión muestra que para toda la clasificación la tasa de verdaderos positivos (aquellos valores en la diagonal de la matriz) alcanza máximo el 93% y que para algunos valores incluso es menor, rondando entre el 30% y el 40%, promediando un 45% como tasa de acierto.\n",
        "\n",
        "Se observa que hay tasas de clasificaciones erróneas (aquellas fuera de la diagonal de la matriz) que bordean entre el 10% y el 53%\n",
        "\n",
        "El *recall* y el *f1-score* obtenidos para las cinco iteraciones de uso de entrenamiento y predicción de este modelo basado en máquinas de vectores de soporte está en alrededor del 44%, inferiores a la mitad de la capacidad de predicción que uno esperaría de un modelo."
      ],
      "metadata": {
        "id": "YnpIEXb1rM9K"
      }
    },
    {
      "cell_type": "markdown",
      "source": [
        "#Conclusiones\n",
        "\n",
        "\n",
        "*   Ninguno de los modelos ensayados ha mostrado un desempeño bueno. Las tasas de *accuracy* observadas se encuentran entre el 27% (***redes neuronales***) y el 50% (***random forest***) mientras que las tasas de *recall* y *f1-score* observadas se encuentran entre el 38% (***máquinas de vectores de soporte***) y el 50% (***random forest***)\n",
        "*   De los cuatro modelos ensayados, el modelo de mejor desempeño es ***random forest*** y el modelo de desempeño más bajo es el basado en ***redes neuronales***\n",
        "\n"
      ],
      "metadata": {
        "id": "XaWTkA0yrybi"
      }
    },
    {
      "cell_type": "markdown",
      "source": [
        "#Aplicación de PCA para manejar un conjunto de datos de dimensiones reducidas\n",
        "\n",
        "Se busca aplicar PCA con distintos componentes para verificar el desempeño de los modelos ante un conjunto de datos de menos dimensiones. No se va a implementar validación cruzada como en los casos anteriores sino que con una única partición se entrenarán y validarán los cuatro modelos obtenidos."
      ],
      "metadata": {
        "id": "nlRyTkMtEKHL"
      }
    },
    {
      "cell_type": "code",
      "source": [
        "from sklearn.decomposition import PCA                 #Para la reducción de las dimensiones del conjunto de datos en componentes principales\n",
        "import tensorflow as tf                               #Para crear un modelo basado en redes neuronales\n",
        "from sklearn import svm                               #Para crear un modelo basado en máquinas de vectores de soporte\n",
        "from sklearn.ensemble import RandomForestClassifier   #Para crear un modelo basado en clasificador Random Forest\n",
        "from sklearn.linear_model import LogisticRegression   #Para crear un modelo basado en regresión logística\n",
        "from sklearn.model_selection import train_test_split  #Para dividir el conjunto de datos en train y test\n",
        "from sklearn.metrics import accuracy_score            #Para estimar el accuracy de los demás modelos directamente con SciKit-Learn\n",
        "\n",
        "X = X_train_scaled                                    #Se trae como X a X_train_scaled obtenido anteriormente, el cuál es el X original pero estandarizado\n",
        "y = datos['Response']                                 #Se trae como y a la columna \"Response\" del conjunto de datos original\n",
        "y_rn = y.subtract(1)                                  #Se reta una unidad a cada dato de la columna \"Response\" para evitar un error en el uso de redes neuronales\n",
        "\n",
        "lista_caracteristicas = [16, 48, 80, 112, X.shape[1], 'Sin reducción']\n",
        "lista_accuracies = []\n",
        "dicc_desempenhos = {}\n",
        "dicc_desempenhos['Modelo'] = ['Redes Neuronales', 'SVM', 'Random Forest', 'Regresión Logística']\n",
        "h1 = np.random.randint(5)+5                           #Cantidad de neuronas en la primera capa oculta de la red neuronal\n",
        "h2 = np.random.randint(5)+5                           #Cantidad de neuronas en la segunda capa oculta de la red neuronal\n",
        "\n",
        "for num_car in lista_caracteristicas:\n",
        "\n",
        "  if num_car != 'Sin reducción':\n",
        "    #Se transforman los datos a menos características\n",
        "    pca = PCA(n_components = num_car)\n",
        "    Xpca = pca.fit_transform(X)\n",
        "  \n",
        "  elif num_car == 'Sin reducción':\n",
        "    Xpca = X\n",
        "  \n",
        "  #Se particiona el nuevo conjunto de datos donde X tiene dimensiones reducidas\n",
        "  SEED = 42\n",
        "  Xpca_trn, Xpca_tst, y_trn, y_tst = train_test_split(Xpca, y, test_size=0.2, random_state=SEED)\n",
        "\n",
        "  #Se particiona el nuevo conjunto de datos donde X tiene dimensiones reducidas SOLO PARA REDES NEURONALES PUES y_rn ACÁ TIENE RESTADO UN 1\n",
        "  SEED = 42\n",
        "  XpcaNN_trn, XpcaNN_tst, yNN_trn, yNN_tst = train_test_split(Xpca, y_rn, test_size=0.2, random_state=SEED)\n",
        "\n",
        "  #Se entrenan cuatro modelos con el nuevo conjunto de datos: Redes neuronales, SVM, random forest y regresión logística\n",
        "  #Redes neuronales:\n",
        "\n",
        "  n = Xpca.shape[1]                                       #El tamaño del modelo basado en redes neuronales debe corresponder a la dimensión del espacio de características\n",
        "  model = tf.keras.Sequential(\n",
        "        [\n",
        "         tf.keras.layers.Dense(h1, activation='tanh', dtype=tf.float32),\n",
        "         tf.keras.layers.Dense(h2, activation='tanh', dtype=tf.float32),\n",
        "         tf.keras.layers.Dense(8, activation='sigmoid', dtype=tf.float32)\n",
        "        ]\n",
        "         )\n",
        "  model.build(input_shape=[None, n])\n",
        "  model.compile(optimizer=tf.keras.optimizers.SGD(learning_rate = .5), loss='sparse_categorical_crossentropy', metrics=['accuracy'])\n",
        "  model.fit(XpcaNN_trn, yNN_trn, epochs = 3, batch_size = 1)\n",
        "  dicc_eval_RN = model.get_metrics_result()\n",
        "  acc_RN = dicc_eval_RN['accuracy']\n",
        "  print(acc_RN.numpy())\n",
        "  print(h1)\n",
        "  print(h2)\n",
        "  lista_accuracies.append(acc_RN.numpy())\n",
        "\n",
        "  #Máquinas de vectores de soporte:\n",
        "  clasificador_svm = svm.LinearSVC(max_iter = 2000)\n",
        "  clasificador_svm.fit(Xpca_trn, y_trn)\n",
        "  acc_SVM = clasificador_svm.score(Xpca_tst, y_tst)\n",
        "  lista_accuracies.append(acc_SVM)\n",
        "\n",
        "  #Random Forest:\n",
        "  clasificador_rf = RandomForestClassifier(n_estimators=250)\n",
        "  clasificador_rf.fit(Xpca_trn, y_trn)\n",
        "  acc_RF = clasificador_rf.score(Xpca_tst, y_tst)\n",
        "  lista_accuracies.append(acc_RF)\n",
        "\n",
        "  #Regresión logística:\n",
        "  clasificador_rl = LogisticRegression(solver='lbfgs', multi_class='multinomial')\n",
        "  clasificador_rl.fit(Xpca_trn, y_trn)\n",
        "  acc_RL = clasificador_rl.score(Xpca_tst, y_tst)\n",
        "  lista_accuracies.append(acc_RL)\n",
        "\n",
        "  #Se consigna el resultado en el diccionario\n",
        "  dicc_desempenhos[num_car] = lista_accuracies\n",
        "\n",
        "  #Se resetea la lista para la próxima iteración\n",
        "  lista_accuracies = []"
      ],
      "metadata": {
        "colab": {
          "base_uri": "https://localhost:8080/"
        },
        "id": "IrvjbJiVEvjr",
        "outputId": "a494a4ac-cc10-4a1a-e57c-ded10128ae5b"
      },
      "execution_count": null,
      "outputs": [
        {
          "output_type": "stream",
          "name": "stdout",
          "text": [
            "Epoch 1/3\n",
            "47504/47504 [==============================] - 86s 2ms/step - loss: 2.5778 - accuracy: 0.2580\n",
            "Epoch 2/3\n",
            "47504/47504 [==============================] - 81s 2ms/step - loss: 2.5792 - accuracy: 0.2655\n",
            "Epoch 3/3\n",
            "47504/47504 [==============================] - 79s 2ms/step - loss: 2.6124 - accuracy: 0.2557\n",
            "0.25568372\n",
            "8\n",
            "5\n",
            "Epoch 1/3\n",
            "47504/47504 [==============================] - 82s 2ms/step - loss: 2.6244 - accuracy: 0.2446\n",
            "Epoch 2/3\n",
            "47504/47504 [==============================] - 81s 2ms/step - loss: 2.6006 - accuracy: 0.2560\n",
            "Epoch 3/3\n",
            "47504/47504 [==============================] - 78s 2ms/step - loss: 2.6187 - accuracy: 0.2505\n",
            "0.25054732\n",
            "8\n",
            "5\n",
            "Epoch 1/3\n",
            "47504/47504 [==============================] - 84s 2ms/step - loss: 2.5929 - accuracy: 0.2539\n",
            "Epoch 2/3\n",
            "47504/47504 [==============================] - 82s 2ms/step - loss: 2.5757 - accuracy: 0.2672\n",
            "Epoch 3/3\n",
            "47504/47504 [==============================] - 80s 2ms/step - loss: 2.6285 - accuracy: 0.2483\n",
            "0.24833699\n",
            "8\n",
            "5\n",
            "Epoch 1/3\n",
            "47504/47504 [==============================] - 82s 2ms/step - loss: 2.6062 - accuracy: 0.2511\n",
            "Epoch 2/3\n",
            "47504/47504 [==============================] - 83s 2ms/step - loss: 2.6124 - accuracy: 0.2536\n",
            "Epoch 3/3\n",
            "47504/47504 [==============================] - 84s 2ms/step - loss: 2.6231 - accuracy: 0.2499\n",
            "0.24985264\n",
            "8\n",
            "5\n",
            "Epoch 1/3\n",
            "47504/47504 [==============================] - 83s 2ms/step - loss: 2.6277 - accuracy: 0.2435\n",
            "Epoch 2/3\n",
            "47504/47504 [==============================] - 83s 2ms/step - loss: 2.6227 - accuracy: 0.2499\n",
            "Epoch 3/3\n",
            "47504/47504 [==============================] - 82s 2ms/step - loss: 2.5966 - accuracy: 0.2615\n",
            "0.26149377\n",
            "8\n",
            "5\n",
            "Epoch 1/3\n",
            "47504/47504 [==============================] - 88s 2ms/step - loss: 2.6013 - accuracy: 0.2522\n",
            "Epoch 2/3\n",
            "47504/47504 [==============================] - 88s 2ms/step - loss: 2.5981 - accuracy: 0.2572\n",
            "Epoch 3/3\n",
            "47504/47504 [==============================] - 86s 2ms/step - loss: 2.6089 - accuracy: 0.2548\n",
            "0.25477853\n",
            "8\n",
            "5\n"
          ]
        }
      ]
    },
    {
      "cell_type": "code",
      "source": [
        "#print(dicc_desempenhos)\n",
        "pd.DataFrame.from_dict(dicc_desempenhos)"
      ],
      "metadata": {
        "id": "6OWOLvxhQu4t",
        "colab": {
          "base_uri": "https://localhost:8080/",
          "height": 175
        },
        "outputId": "05179f01-cf67-47eb-c865-395286a14f29"
      },
      "execution_count": null,
      "outputs": [
        {
          "output_type": "execute_result",
          "data": {
            "text/plain": [
              "                Modelo        16        48        80       112       144  \\\n",
              "0     Redes Neuronales  0.255684  0.250547  0.248337  0.249853  0.261494   \n",
              "1                  SVM  0.416604  0.447756  0.466616  0.499032  0.503999   \n",
              "2        Random Forest  0.449188  0.463669  0.464848  0.478909  0.479077   \n",
              "3  Regresión Logística  0.428896  0.462491  0.487497  0.520333  0.523028   \n",
              "\n",
              "   Sin reducción  \n",
              "0       0.254779  \n",
              "1       0.504505  \n",
              "2       0.572114  \n",
              "3       0.523028  "
            ],
            "text/html": [
              "\n",
              "  <div id=\"df-438ee302-a4ce-45e9-a229-5ba2e1881b9b\">\n",
              "    <div class=\"colab-df-container\">\n",
              "      <div>\n",
              "<style scoped>\n",
              "    .dataframe tbody tr th:only-of-type {\n",
              "        vertical-align: middle;\n",
              "    }\n",
              "\n",
              "    .dataframe tbody tr th {\n",
              "        vertical-align: top;\n",
              "    }\n",
              "\n",
              "    .dataframe thead th {\n",
              "        text-align: right;\n",
              "    }\n",
              "</style>\n",
              "<table border=\"1\" class=\"dataframe\">\n",
              "  <thead>\n",
              "    <tr style=\"text-align: right;\">\n",
              "      <th></th>\n",
              "      <th>Modelo</th>\n",
              "      <th>16</th>\n",
              "      <th>48</th>\n",
              "      <th>80</th>\n",
              "      <th>112</th>\n",
              "      <th>144</th>\n",
              "      <th>Sin reducción</th>\n",
              "    </tr>\n",
              "  </thead>\n",
              "  <tbody>\n",
              "    <tr>\n",
              "      <th>0</th>\n",
              "      <td>Redes Neuronales</td>\n",
              "      <td>0.255684</td>\n",
              "      <td>0.250547</td>\n",
              "      <td>0.248337</td>\n",
              "      <td>0.249853</td>\n",
              "      <td>0.261494</td>\n",
              "      <td>0.254779</td>\n",
              "    </tr>\n",
              "    <tr>\n",
              "      <th>1</th>\n",
              "      <td>SVM</td>\n",
              "      <td>0.416604</td>\n",
              "      <td>0.447756</td>\n",
              "      <td>0.466616</td>\n",
              "      <td>0.499032</td>\n",
              "      <td>0.503999</td>\n",
              "      <td>0.504505</td>\n",
              "    </tr>\n",
              "    <tr>\n",
              "      <th>2</th>\n",
              "      <td>Random Forest</td>\n",
              "      <td>0.449188</td>\n",
              "      <td>0.463669</td>\n",
              "      <td>0.464848</td>\n",
              "      <td>0.478909</td>\n",
              "      <td>0.479077</td>\n",
              "      <td>0.572114</td>\n",
              "    </tr>\n",
              "    <tr>\n",
              "      <th>3</th>\n",
              "      <td>Regresión Logística</td>\n",
              "      <td>0.428896</td>\n",
              "      <td>0.462491</td>\n",
              "      <td>0.487497</td>\n",
              "      <td>0.520333</td>\n",
              "      <td>0.523028</td>\n",
              "      <td>0.523028</td>\n",
              "    </tr>\n",
              "  </tbody>\n",
              "</table>\n",
              "</div>\n",
              "      <button class=\"colab-df-convert\" onclick=\"convertToInteractive('df-438ee302-a4ce-45e9-a229-5ba2e1881b9b')\"\n",
              "              title=\"Convert this dataframe to an interactive table.\"\n",
              "              style=\"display:none;\">\n",
              "        \n",
              "  <svg xmlns=\"http://www.w3.org/2000/svg\" height=\"24px\"viewBox=\"0 0 24 24\"\n",
              "       width=\"24px\">\n",
              "    <path d=\"M0 0h24v24H0V0z\" fill=\"none\"/>\n",
              "    <path d=\"M18.56 5.44l.94 2.06.94-2.06 2.06-.94-2.06-.94-.94-2.06-.94 2.06-2.06.94zm-11 1L8.5 8.5l.94-2.06 2.06-.94-2.06-.94L8.5 2.5l-.94 2.06-2.06.94zm10 10l.94 2.06.94-2.06 2.06-.94-2.06-.94-.94-2.06-.94 2.06-2.06.94z\"/><path d=\"M17.41 7.96l-1.37-1.37c-.4-.4-.92-.59-1.43-.59-.52 0-1.04.2-1.43.59L10.3 9.45l-7.72 7.72c-.78.78-.78 2.05 0 2.83L4 21.41c.39.39.9.59 1.41.59.51 0 1.02-.2 1.41-.59l7.78-7.78 2.81-2.81c.8-.78.8-2.07 0-2.86zM5.41 20L4 18.59l7.72-7.72 1.47 1.35L5.41 20z\"/>\n",
              "  </svg>\n",
              "      </button>\n",
              "      \n",
              "  <style>\n",
              "    .colab-df-container {\n",
              "      display:flex;\n",
              "      flex-wrap:wrap;\n",
              "      gap: 12px;\n",
              "    }\n",
              "\n",
              "    .colab-df-convert {\n",
              "      background-color: #E8F0FE;\n",
              "      border: none;\n",
              "      border-radius: 50%;\n",
              "      cursor: pointer;\n",
              "      display: none;\n",
              "      fill: #1967D2;\n",
              "      height: 32px;\n",
              "      padding: 0 0 0 0;\n",
              "      width: 32px;\n",
              "    }\n",
              "\n",
              "    .colab-df-convert:hover {\n",
              "      background-color: #E2EBFA;\n",
              "      box-shadow: 0px 1px 2px rgba(60, 64, 67, 0.3), 0px 1px 3px 1px rgba(60, 64, 67, 0.15);\n",
              "      fill: #174EA6;\n",
              "    }\n",
              "\n",
              "    [theme=dark] .colab-df-convert {\n",
              "      background-color: #3B4455;\n",
              "      fill: #D2E3FC;\n",
              "    }\n",
              "\n",
              "    [theme=dark] .colab-df-convert:hover {\n",
              "      background-color: #434B5C;\n",
              "      box-shadow: 0px 1px 3px 1px rgba(0, 0, 0, 0.15);\n",
              "      filter: drop-shadow(0px 1px 2px rgba(0, 0, 0, 0.3));\n",
              "      fill: #FFFFFF;\n",
              "    }\n",
              "  </style>\n",
              "\n",
              "      <script>\n",
              "        const buttonEl =\n",
              "          document.querySelector('#df-438ee302-a4ce-45e9-a229-5ba2e1881b9b button.colab-df-convert');\n",
              "        buttonEl.style.display =\n",
              "          google.colab.kernel.accessAllowed ? 'block' : 'none';\n",
              "\n",
              "        async function convertToInteractive(key) {\n",
              "          const element = document.querySelector('#df-438ee302-a4ce-45e9-a229-5ba2e1881b9b');\n",
              "          const dataTable =\n",
              "            await google.colab.kernel.invokeFunction('convertToInteractive',\n",
              "                                                     [key], {});\n",
              "          if (!dataTable) return;\n",
              "\n",
              "          const docLinkHtml = 'Like what you see? Visit the ' +\n",
              "            '<a target=\"_blank\" href=https://colab.research.google.com/notebooks/data_table.ipynb>data table notebook</a>'\n",
              "            + ' to learn more about interactive tables.';\n",
              "          element.innerHTML = '';\n",
              "          dataTable['output_type'] = 'display_data';\n",
              "          await google.colab.output.renderOutput(dataTable, element);\n",
              "          const docLink = document.createElement('div');\n",
              "          docLink.innerHTML = docLinkHtml;\n",
              "          element.appendChild(docLink);\n",
              "        }\n",
              "      </script>\n",
              "    </div>\n",
              "  </div>\n",
              "  "
            ]
          },
          "metadata": {},
          "execution_count": 14
        }
      ]
    },
    {
      "cell_type": "markdown",
      "source": [
        "#Conclusiones\n",
        "Se observa que los modelos, a pesar de ser procesados  con transformaciones de reducción de dimensionalidad, no logran incrementar el accuracy en su desempeño. Se observa que para este problema de clasificación  hay modelos de desempeño inferior como lo es el modelo basado en ***redes neuronales***.  Los demás  modelos se desempeñan más o menos igual, destacándose ligeramente entre ellos el modelo basado en ***random forest***, seguido del modelo basado en ***regresión logística***.\n",
        "\n",
        "De las compilaciones y computaciones realizadas el equipo de trabajo notó que el modelo basado en ***máquinas de vectores de soporte*** es muy costoso computacionalmente (toma mucho tiempo su ejecución) por lo que se considera que en ese aspecto también es inferior a los modelos basados en ***random forest*** y en ***regresión logística***, que también es un modelo de clasificación binaria.\n",
        "\n",
        "Entra en cuestión la calidad del conjunto de datos y la calidad del preprocesado, particularmente el método de llenado de datos vacíos, entre otras cuestiones."
      ],
      "metadata": {
        "id": "LTFSCseIyyCM"
      }
    }
  ],
  "metadata": {
    "colab": {
      "provenance": [],
      "include_colab_link": true
    },
    "kernelspec": {
      "display_name": "Python 3",
      "name": "python3"
    },
    "language_info": {
      "name": "python"
    }
  },
  "nbformat": 4,
  "nbformat_minor": 0
}