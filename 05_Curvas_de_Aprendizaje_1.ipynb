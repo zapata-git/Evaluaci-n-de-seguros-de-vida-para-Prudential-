{
  "nbformat": 4,
  "nbformat_minor": 0,
  "metadata": {
    "colab": {
      "provenance": [],
      "include_colab_link": true
    },
    "kernelspec": {
      "name": "python3",
      "display_name": "Python 3"
    },
    "language_info": {
      "name": "python"
    }
  },
  "cells": [
    {
      "cell_type": "markdown",
      "metadata": {
        "id": "view-in-github",
        "colab_type": "text"
      },
      "source": [
        "<a href=\"https://colab.research.google.com/github/zapata-git/Evaluacion-de-seguros-de-vida-para-Prudential-/blob/main/05_Curvas_de_Aprendizaje_1.ipynb\" target=\"_parent\"><img src=\"https://colab.research.google.com/assets/colab-badge.svg\" alt=\"Open In Colab\"/></a>"
      ]
    },
    {
      "cell_type": "markdown",
      "metadata": {
        "id": "ozL5OfH7B_kQ"
      },
      "source": [
        "# **ProyectoIA_Seguros_Prudential**\n",
        "*Este conjunto de datos contiene información sobre solicitantes de seguros para la compañía Prudential. Se busca crear un algoritmo que perfile solicitantes en una escala de 8 niveles.*\n",
        "\n",
        "*El conjunto de datos proporcionado contiene variables que describen los atributos de los solicitantes de seguros de vida. La tarea consiste en predecir la variable \"Response\" para cada ID en el conjunto de prueba. \"Response\" es una medida ordinal de riesgo que tiene 8 niveles.*\n",
        "\n",
        "---\n",
        "\n",
        "\n"
      ]
    },
    {
      "cell_type": "markdown",
      "metadata": {
        "id": "hK60r-eAqAzT"
      },
      "source": [
        "#Preparación de datos.\n",
        "Importamos las bibliotecas necesarias y cargamos el conjunto de datos:"
      ]
    },
    {
      "cell_type": "code",
      "execution_count": null,
      "metadata": {
        "colab": {
          "base_uri": "https://localhost:8080/"
        },
        "id": "cEOP_ZC5Be7G",
        "outputId": "39c26aa2-0fa5-49ef-8542-143411103367"
      },
      "outputs": [
        {
          "output_type": "stream",
          "name": "stdout",
          "text": [
            "Drive already mounted at /content/drive; to attempt to forcibly remount, call drive.mount(\"/content/drive\", force_remount=True).\n"
          ]
        }
      ],
      "source": [
        "import pandas as pd\n",
        "import numpy as np\n",
        "from sklearn.preprocessing import StandardScaler\n",
        "from google.colab import files\n",
        "from google.colab import drive\n",
        "drive.mount('/content/drive')\n",
        "#Algunas advertencias que queremos evitar\n",
        "import warnings\n",
        "warnings.filterwarnings(\"ignore\")"
      ]
    },
    {
      "cell_type": "markdown",
      "metadata": {
        "id": "DIZG7JYArU9n"
      },
      "source": [
        "#Instalación de Jovian y Kaggle mediante pip\n",
        "\n",
        "* El paquete jovian se utiliza para guardar y compartir proyectos de ciencia de datos en línea.\n",
        "\n",
        "* El paquete kaggle proporciona una API de línea de comandos para interactuar con Kaggle, una plataforma en línea para competiciones de ciencia de datos y conjuntos de datos."
      ]
    },
    {
      "cell_type": "code",
      "execution_count": null,
      "metadata": {
        "id": "K3CyPMrYZ0iu"
      },
      "outputs": [],
      "source": [
        "!pip install jovian --upgrade --quiet\n",
        "!pip install -q kaggle"
      ]
    },
    {
      "cell_type": "code",
      "execution_count": null,
      "metadata": {
        "id": "3cbQUIIhZ3JY"
      },
      "outputs": [],
      "source": [
        "import jovian"
      ]
    },
    {
      "cell_type": "code",
      "execution_count": null,
      "metadata": {
        "colab": {
          "base_uri": "https://localhost:8080/",
          "height": 91
        },
        "id": "fikfzepNOge6",
        "outputId": "1f0158ae-33d4-440b-aa55-ee47971bd0b2"
      },
      "outputs": [
        {
          "output_type": "display_data",
          "data": {
            "text/plain": [
              "<IPython.core.display.HTML object>"
            ],
            "text/html": [
              "\n",
              "     <input type=\"file\" id=\"files-eab47620-d107-4cbe-81c0-3ff6cc2e11fd\" name=\"files[]\" multiple disabled\n",
              "        style=\"border:none\" />\n",
              "     <output id=\"result-eab47620-d107-4cbe-81c0-3ff6cc2e11fd\">\n",
              "      Upload widget is only available when the cell has been executed in the\n",
              "      current browser session. Please rerun this cell to enable.\n",
              "      </output>\n",
              "      <script>// Copyright 2017 Google LLC\n",
              "//\n",
              "// Licensed under the Apache License, Version 2.0 (the \"License\");\n",
              "// you may not use this file except in compliance with the License.\n",
              "// You may obtain a copy of the License at\n",
              "//\n",
              "//      http://www.apache.org/licenses/LICENSE-2.0\n",
              "//\n",
              "// Unless required by applicable law or agreed to in writing, software\n",
              "// distributed under the License is distributed on an \"AS IS\" BASIS,\n",
              "// WITHOUT WARRANTIES OR CONDITIONS OF ANY KIND, either express or implied.\n",
              "// See the License for the specific language governing permissions and\n",
              "// limitations under the License.\n",
              "\n",
              "/**\n",
              " * @fileoverview Helpers for google.colab Python module.\n",
              " */\n",
              "(function(scope) {\n",
              "function span(text, styleAttributes = {}) {\n",
              "  const element = document.createElement('span');\n",
              "  element.textContent = text;\n",
              "  for (const key of Object.keys(styleAttributes)) {\n",
              "    element.style[key] = styleAttributes[key];\n",
              "  }\n",
              "  return element;\n",
              "}\n",
              "\n",
              "// Max number of bytes which will be uploaded at a time.\n",
              "const MAX_PAYLOAD_SIZE = 100 * 1024;\n",
              "\n",
              "function _uploadFiles(inputId, outputId) {\n",
              "  const steps = uploadFilesStep(inputId, outputId);\n",
              "  const outputElement = document.getElementById(outputId);\n",
              "  // Cache steps on the outputElement to make it available for the next call\n",
              "  // to uploadFilesContinue from Python.\n",
              "  outputElement.steps = steps;\n",
              "\n",
              "  return _uploadFilesContinue(outputId);\n",
              "}\n",
              "\n",
              "// This is roughly an async generator (not supported in the browser yet),\n",
              "// where there are multiple asynchronous steps and the Python side is going\n",
              "// to poll for completion of each step.\n",
              "// This uses a Promise to block the python side on completion of each step,\n",
              "// then passes the result of the previous step as the input to the next step.\n",
              "function _uploadFilesContinue(outputId) {\n",
              "  const outputElement = document.getElementById(outputId);\n",
              "  const steps = outputElement.steps;\n",
              "\n",
              "  const next = steps.next(outputElement.lastPromiseValue);\n",
              "  return Promise.resolve(next.value.promise).then((value) => {\n",
              "    // Cache the last promise value to make it available to the next\n",
              "    // step of the generator.\n",
              "    outputElement.lastPromiseValue = value;\n",
              "    return next.value.response;\n",
              "  });\n",
              "}\n",
              "\n",
              "/**\n",
              " * Generator function which is called between each async step of the upload\n",
              " * process.\n",
              " * @param {string} inputId Element ID of the input file picker element.\n",
              " * @param {string} outputId Element ID of the output display.\n",
              " * @return {!Iterable<!Object>} Iterable of next steps.\n",
              " */\n",
              "function* uploadFilesStep(inputId, outputId) {\n",
              "  const inputElement = document.getElementById(inputId);\n",
              "  inputElement.disabled = false;\n",
              "\n",
              "  const outputElement = document.getElementById(outputId);\n",
              "  outputElement.innerHTML = '';\n",
              "\n",
              "  const pickedPromise = new Promise((resolve) => {\n",
              "    inputElement.addEventListener('change', (e) => {\n",
              "      resolve(e.target.files);\n",
              "    });\n",
              "  });\n",
              "\n",
              "  const cancel = document.createElement('button');\n",
              "  inputElement.parentElement.appendChild(cancel);\n",
              "  cancel.textContent = 'Cancel upload';\n",
              "  const cancelPromise = new Promise((resolve) => {\n",
              "    cancel.onclick = () => {\n",
              "      resolve(null);\n",
              "    };\n",
              "  });\n",
              "\n",
              "  // Wait for the user to pick the files.\n",
              "  const files = yield {\n",
              "    promise: Promise.race([pickedPromise, cancelPromise]),\n",
              "    response: {\n",
              "      action: 'starting',\n",
              "    }\n",
              "  };\n",
              "\n",
              "  cancel.remove();\n",
              "\n",
              "  // Disable the input element since further picks are not allowed.\n",
              "  inputElement.disabled = true;\n",
              "\n",
              "  if (!files) {\n",
              "    return {\n",
              "      response: {\n",
              "        action: 'complete',\n",
              "      }\n",
              "    };\n",
              "  }\n",
              "\n",
              "  for (const file of files) {\n",
              "    const li = document.createElement('li');\n",
              "    li.append(span(file.name, {fontWeight: 'bold'}));\n",
              "    li.append(span(\n",
              "        `(${file.type || 'n/a'}) - ${file.size} bytes, ` +\n",
              "        `last modified: ${\n",
              "            file.lastModifiedDate ? file.lastModifiedDate.toLocaleDateString() :\n",
              "                                    'n/a'} - `));\n",
              "    const percent = span('0% done');\n",
              "    li.appendChild(percent);\n",
              "\n",
              "    outputElement.appendChild(li);\n",
              "\n",
              "    const fileDataPromise = new Promise((resolve) => {\n",
              "      const reader = new FileReader();\n",
              "      reader.onload = (e) => {\n",
              "        resolve(e.target.result);\n",
              "      };\n",
              "      reader.readAsArrayBuffer(file);\n",
              "    });\n",
              "    // Wait for the data to be ready.\n",
              "    let fileData = yield {\n",
              "      promise: fileDataPromise,\n",
              "      response: {\n",
              "        action: 'continue',\n",
              "      }\n",
              "    };\n",
              "\n",
              "    // Use a chunked sending to avoid message size limits. See b/62115660.\n",
              "    let position = 0;\n",
              "    do {\n",
              "      const length = Math.min(fileData.byteLength - position, MAX_PAYLOAD_SIZE);\n",
              "      const chunk = new Uint8Array(fileData, position, length);\n",
              "      position += length;\n",
              "\n",
              "      const base64 = btoa(String.fromCharCode.apply(null, chunk));\n",
              "      yield {\n",
              "        response: {\n",
              "          action: 'append',\n",
              "          file: file.name,\n",
              "          data: base64,\n",
              "        },\n",
              "      };\n",
              "\n",
              "      let percentDone = fileData.byteLength === 0 ?\n",
              "          100 :\n",
              "          Math.round((position / fileData.byteLength) * 100);\n",
              "      percent.textContent = `${percentDone}% done`;\n",
              "\n",
              "    } while (position < fileData.byteLength);\n",
              "  }\n",
              "\n",
              "  // All done.\n",
              "  yield {\n",
              "    response: {\n",
              "      action: 'complete',\n",
              "    }\n",
              "  };\n",
              "}\n",
              "\n",
              "scope.google = scope.google || {};\n",
              "scope.google.colab = scope.google.colab || {};\n",
              "scope.google.colab._files = {\n",
              "  _uploadFiles,\n",
              "  _uploadFilesContinue,\n",
              "};\n",
              "})(self);\n",
              "</script> "
            ]
          },
          "metadata": {}
        },
        {
          "output_type": "stream",
          "name": "stdout",
          "text": [
            "Saving kaggle.json to kaggle.json\n"
          ]
        },
        {
          "output_type": "execute_result",
          "data": {
            "text/plain": [
              "{'kaggle.json': b'{\"username\":\"carlosozapata\",\"key\":\"1ea90523afd866a234b17caeb4677869\"}'}"
            ]
          },
          "metadata": {},
          "execution_count": 34
        }
      ],
      "source": [
        "#PARA EJECUTAR ESTA LÍNEA, EN EL COMPUTADOR QUE SE EJECUTE DEBE HABER UNA COPIA DEL JSON WEB TOKEN\n",
        "#DESCARGABLE DESDE LA PÁGINA DE UNA CUENTA DE KAGGLE EN https://www.kaggle.com/settings/account?...\n",
        "#ESTE JSON WEB TOKEN ES PERSONAL DE CADA CUENTA Y SIRVE COMO IDENTIFICADOR DE ACCESO.\n",
        "#CARGUE EL JSON QUE USTED DESCARGÓ DE SU CUENTA DE KAGGLE\n",
        "files.upload()"
      ]
    },
    {
      "cell_type": "markdown",
      "metadata": {
        "id": "1Qzu1NWq1UvL"
      },
      "source": [
        "#Extracción de los archivos del conjunto de datos descargados desde Kaggle\n",
        "\n",
        "* El conjunto de datos descargado ya contiene separados los datos de train y de test.\n",
        "\n",
        "* Los archivos quedan almacenados en el entorno de ejecución de Google Colab siempre y cuando se haya autorizado el acceso de la cuenta de Google a este. Esto se debió realizar en bloques de código anteriores."
      ]
    },
    {
      "cell_type": "code",
      "execution_count": null,
      "metadata": {
        "id": "2cdH7WN1OrFZ"
      },
      "outputs": [],
      "source": [
        "!rm -r ~/.kaggle\n",
        "!mkdir ~/.kaggle\n",
        "!cp kaggle.json ~/.kaggle/\n",
        "!mv ./kaggle.json ~/.kaggle/\n",
        "!chmod 600 ~/.kaggle/kaggle.json\n",
        "#!kaggle datasets list"
      ]
    },
    {
      "cell_type": "code",
      "execution_count": null,
      "metadata": {
        "colab": {
          "base_uri": "https://localhost:8080/"
        },
        "id": "yfNtIlJSnbn6",
        "outputId": "659da301-83dd-41e3-e881-210e50ccaab4"
      },
      "outputs": [
        {
          "output_type": "stream",
          "name": "stdout",
          "text": [
            "prudential-life-insurance-assessment.zip: Skipping, found more recently modified local copy (use --force to force download)\n"
          ]
        }
      ],
      "source": [
        "#Para descargar el conjunto de datos desde Kaggle al drive local de Google\n",
        "!kaggle competitions download 'prudential-life-insurance-assessment'\n"
      ]
    },
    {
      "cell_type": "code",
      "execution_count": null,
      "metadata": {
        "colab": {
          "base_uri": "https://localhost:8080/"
        },
        "outputId": "1def0024-243f-4bb3-c777-fad56f488a01",
        "id": "in7RsE_fxVXW"
      },
      "outputs": [
        {
          "output_type": "stream",
          "name": "stdout",
          "text": [
            "prudential-life-insurance-assessment.zip: Skipping, found more recently modified local copy (use --force to force download)\n"
          ]
        }
      ],
      "source": [
        "#Para descargar el conjunto de datos desde Kaggle al drive local de Google\n",
        "!kaggle competitions download 'prudential-life-insurance-assessment'"
      ]
    },
    {
      "cell_type": "code",
      "execution_count": null,
      "metadata": {
        "colab": {
          "base_uri": "https://localhost:8080/"
        },
        "id": "s2v4QzbEpWo_",
        "outputId": "92dc860f-0306-43d1-b85c-75592d57bc43"
      },
      "outputs": [
        {
          "output_type": "stream",
          "name": "stdout",
          "text": [
            "Extracción de archivos en proceso...\n",
            "Extracción terminada\n",
            "/content\n"
          ]
        }
      ],
      "source": [
        "#Para descomprimir los archivos .zip que haya y guardarlos en el entorno de ejecución\n",
        "import os\n",
        "from zipfile import ZipFile \n",
        "  \n",
        "#Se indica el nombre del archivo  traído desde Kaggle\n",
        "file = \"prudential-life-insurance-assessment.zip\"\n",
        "  \n",
        "#Se abre el archivo en modo lectura\n",
        "with ZipFile(file, 'r') as zip:\n",
        "  \n",
        "    #Se extraen todos los archivos\n",
        "    print('Extracción de archivos en proceso...') \n",
        "    zip.extractall() \n",
        "    print('Extracción terminada')\n",
        "\n",
        "%cd \"/content/\"\n",
        "\n",
        "for archivo in os.listdir():\n",
        "  if archivo.endswith(\".zip\"):\n",
        "    with ZipFile(archivo, 'r') as zip_ref:\n",
        "      zip_ref.extractall(\"/content/\")\n",
        "\n"
      ]
    },
    {
      "cell_type": "code",
      "execution_count": null,
      "metadata": {
        "id": "peuSiVHSCdPN"
      },
      "outputs": [],
      "source": [
        "#Se declara el conjunto de datos\n",
        "datos = pd.read_csv(\"/content/train.csv\")"
      ]
    },
    {
      "cell_type": "markdown",
      "metadata": {
        "id": "LXPJ_hSEJR7_"
      },
      "source": [
        "#Preprocesado.\n",
        "\n",
        "Se llenan los valores faltantes con la moda si se trata de variables categóricas y la mediana si se trata de variables numéricas."
      ]
    },
    {
      "cell_type": "code",
      "execution_count": null,
      "metadata": {
        "id": "f0ZPEUjbJDWm"
      },
      "outputs": [],
      "source": [
        "from sklearn.impute import SimpleImputer\n",
        "from sklearn.preprocessing import OneHotEncoder\n",
        "\n",
        "\n",
        "# Realizar el preprocesamiento de los datos\n",
        "# Eliminar la columna \"Response\" del conjunto de entrenamiento y las columnas \"Id\" de ambos conjuntos entrenamiento y prueba\n",
        "#Definir la columna \"Response\" como el y de entrenamiento y restarle 1 a todos los valores en ella para que la red neuronal pueda indexar\n",
        "X_train = datos.drop(columns = ['Id', 'Response'])\n",
        "y_train = datos['Response']\n",
        "y_train = y_train.subtract(1)\n",
        "\n",
        "# Imputar los valores faltantes en los datos numéricos con la mediana\n",
        "num_cols = X_train.select_dtypes(include='number').columns\n",
        "num_imputer = SimpleImputer(strategy='median')\n",
        "X_train[num_cols] = num_imputer.fit_transform(X_train[num_cols])\n",
        "\n",
        "# Imputar los valores faltantes en los datos categóricos con la moda\n",
        "cat_cols = X_train.select_dtypes(include='object').columns\n",
        "cat_imputer = SimpleImputer(strategy='most_frequent')\n",
        "X_train[cat_cols] = cat_imputer.fit_transform(X_train[cat_cols])\n",
        "\n",
        "#Se aplica one-hot-encoding a los datos de entrenamiento (X_train) y a los datos de prueba (X_test)\n",
        "ohe = OneHotEncoder()\n",
        "array_categorias = ohe.fit_transform(X_train[['Product_Info_2']]).toarray()\n",
        "etiqu_categorias = ohe.categories_\n",
        "categorias_en_columnas_ohe = pd.DataFrame(array_categorias, columns = etiqu_categorias)\n",
        "X_train = pd.concat([X_train, categorias_en_columnas_ohe], axis =1)\n",
        "X_train = X_train.drop(columns = ['Product_Info_2'])\n",
        "X_train.rename(columns=''.join, inplace=True)"
      ]
    },
    {
      "cell_type": "markdown",
      "source": [
        "#Evaluación de desempeño a partir de curvas de aprendizaje\n",
        "Se pretende evaluar el desempeño de dos modelos supervisados ya abordados previamente: Redes neuronales y random forest."
      ],
      "metadata": {
        "id": "yi1anFUBO9vZ"
      }
    },
    {
      "cell_type": "code",
      "execution_count": null,
      "metadata": {
        "id": "RQWORiOzTnNo"
      },
      "outputs": [],
      "source": [
        "#Proceso de normalización de los datos. Util para algunos métodos de predicción, excepto random forest, en el cuál no redunda en mucha utilidad\n",
        "from sklearn.preprocessing import StandardScaler\n",
        "scaler = StandardScaler()\n",
        "X_train_columnas = X_train.columns.tolist()\n",
        "X_train_escalado = scaler.fit_transform(X_train)\n",
        "X_train_scaled = pd.DataFrame(X_train_escalado, columns = X_train_columnas)"
      ]
    },
    {
      "cell_type": "code",
      "execution_count": null,
      "metadata": {
        "id": "jZ8PELUxVnV0"
      },
      "outputs": [],
      "source": [
        "#Se recurre a la librería Tensorflow\n",
        "\n",
        "import tensorflow as tf\n",
        "from sklearn.model_selection import train_test_split\n",
        "\n",
        "\n",
        "#Se define la cantidad de etiquetas de salida (nc) y la cantidad de neuronas en la capa de entrada igua a la cantidad de columnas\n",
        "#m = número de filas, n = número de columnas\n",
        "#nc = cantidad de clases, en este caso, 8 clases\n",
        "nc = 8\n",
        "m = X_train_scaled.shape[0]\n",
        "n = X_train_scaled.shape[1]\n",
        "\n",
        "\n",
        "#Se resta 1 a todos los valores en y_train para que la red neuronal pueda indexar\n",
        "y_train = datos['Response']\n",
        "y_train = y_train.subtract(1)\n",
        "\n",
        "X_tr, X_ts, y_tr, y_ts = train_test_split(X_train_scaled, y_train, test_size=0.3, stratify=y_train, random_state=42)\n",
        "\n",
        "#Se definen la cantidad de unidades (h1, h2) para cada capa oculta\n",
        "#h1 = cantidad de neuronas en la primera capa oculta\n",
        "#h2 = cantidad de neuronas en la segunda capa oculta\n",
        "h1 = np.random.randint(5)+5\n",
        "h2 = np.random.randint(5)+5\n",
        "\n",
        "model = tf.keras.Sequential(\n",
        "      [\n",
        "        tf.keras.layers.Dense(h1, activation='tanh', dtype=tf.float32),\n",
        "        tf.keras.layers.Dense(h2, activation='tanh', dtype=tf.float32),\n",
        "        tf.keras.layers.Dense(8, activation='sigmoid', dtype=tf.float32)\n",
        "      ]\n",
        "        )\n",
        "model.build(input_shape=[None, n])\n",
        "\n",
        "model.compile(optimizer=tf.keras.optimizers.SGD(learning_rate = .5), loss='sparse_categorical_crossentropy', metrics=['accuracy'])\n",
        "history = model.fit(X_tr.to_numpy(), y_tr.to_numpy(), validation_data = (X_ts, y_ts), epochs = 3, batch_size = 1)"
      ]
    },
    {
      "cell_type": "code",
      "source": [
        "import matplotlib.pyplot as plt\n",
        " \n",
        "history_dict = history.history\n",
        "loss_values = history_dict['loss']\n",
        "val_loss_values = history_dict['val_loss']\n",
        "accuracy = history_dict['accuracy']\n",
        "val_accuracy = history_dict['val_accuracy']\n",
        " \n",
        "epochs = range(1, len(loss_values) + 1)\n",
        "fig, ax = plt.subplots(1, 2, figsize=(14, 6))\n",
        "\n",
        "#Se grafica el accuracy del modelo vs épocas\n",
        "\n",
        "ax[0].plot(epochs, accuracy, 'bo', label='Training accuracy')\n",
        "ax[0].plot(epochs, val_accuracy, 'b', label='Validation accuracy')\n",
        "ax[0].set_title('Training & Validation Accuracy', fontsize=16)\n",
        "ax[0].set_xlabel('Epochs', fontsize=16)\n",
        "ax[0].set_ylabel('Accuracy', fontsize=16)\n",
        "ax[0].legend()\n",
        "\n",
        "# Se grafica la pérdida vs épocas\n",
        "\n",
        "ax[1].plot(epochs, loss_values, 'bo', label='Training loss')\n",
        "ax[1].plot(epochs, val_loss_values, 'b', label='Validation loss')\n",
        "ax[1].set_title('Training & Validation Loss', fontsize=16)\n",
        "ax[1].set_xlabel('Epochs', fontsize=16)\n",
        "ax[1].set_ylabel('Loss', fontsize=16)\n",
        "ax[1].legend()"
      ],
      "metadata": {
        "id": "Rgj5qbNYXn7i",
        "colab": {
          "base_uri": "https://localhost:8080/",
          "height": 590
        },
        "outputId": "f6737cfa-7955-4e4d-a4ae-ab741334adcd"
      },
      "execution_count": null,
      "outputs": [
        {
          "output_type": "execute_result",
          "data": {
            "text/plain": [
              "<matplotlib.legend.Legend at 0x7ff9fc580dc0>"
            ]
          },
          "metadata": {},
          "execution_count": 14
        },
        {
          "output_type": "display_data",
          "data": {
            "text/plain": [
              "<Figure size 1400x600 with 2 Axes>"
            ],
            "image/png": "[encoded data removed]"
          },
          "metadata": {}
        }
      ]
    },
    {
      "cell_type": "code",
      "source": [
        "from sklearn.ensemble import RandomForestClassifier\n",
        "clasificador_rf = RandomForestClassifier(n_estimators=80)"
      ],
      "metadata": {
        "id": "htGoFkG4Y6mI"
      },
      "execution_count": null,
      "outputs": []
    },
    {
      "cell_type": "code",
      "source": [
        "import matplotlib.pyplot as plt\n",
        "from sklearn.model_selection import LearningCurveDisplay, ShuffleSplit\n",
        "\n",
        "y_train = datos['Response']\n",
        "fig, ax = plt.subplots(figsize=(10, 6))\n",
        "\n",
        "common_params = {\n",
        "    \"X\": X_train,\n",
        "    \"y\": y_train,\n",
        "    \"train_sizes\": np.linspace(0.1, 1.0, 5),\n",
        "    \"cv\": ShuffleSplit(n_splits=2, test_size=0.2, random_state=0),\n",
        "    \"score_type\": \"both\",\n",
        "    \"n_jobs\": 4,\n",
        "    \"line_kw\": {\"marker\": \"o\"},\n",
        "    \"std_display_style\": \"fill_between\",\n",
        "    \"score_name\": \"Accuracy\",\n",
        "}\n",
        "\n",
        "estimator = clasificador_rf\n",
        "\n",
        "LearningCurveDisplay.from_estimator(estimator, **common_params, ax=ax)\n",
        "handles, label = ax.get_legend_handles_labels()\n",
        "ax.legend(handles[:2], [\"Training Score\", \"Test Score\"])\n",
        "ax.set_title(f\"Learning Curve for {estimator.__class__.__name__}\")\n",
        "\n",
        "plt.show()\n"
      ],
      "metadata": {
        "colab": {
          "base_uri": "https://localhost:8080/",
          "height": 564
        },
        "id": "Pm3jg_z4f44d",
        "outputId": "5efc1fa6-2a3b-4e19-de89-1513903da769"
      },
      "execution_count": null,
      "outputs": [
        {
          "output_type": "display_data",
          "data": {
            "text/plain": [
              "<Figure size 1000x600 with 1 Axes>"
            ],
            "image/png": "[encoded data removed]"
          },
          "metadata": {}
        }
      ]
    }
  ]
}